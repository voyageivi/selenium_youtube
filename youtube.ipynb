{
 "cells": [
  {
   "cell_type": "code",
   "execution_count": 1,
   "outputs": [
    {
     "name": "stderr",
     "output_type": "stream",
     "text": [
      "/Users/vincent/miniforge3/envs/py3/lib/python3.9/site-packages/undetected_chromedriver/__init__.py:339: UserWarning: using ChromeOptions.user_data_dir might stop working in future versions.use uc.Chrome(user_data_dir='/xyz/some/data') in case you need existing profile folder\n",
      "  warnings.warn(\n"
     ]
    },
    {
     "name": "stdout",
     "output_type": "stream",
     "text": [
      "Youtube - cookies - Successfully logged in. Saving cookies.\n"
     ]
    }
   ],
   "source": [
    "from selenium_chrome import Chrome\n",
    "\n",
    "from selenium_youtube import Youtube\n",
    "\n",
    "\n",
    "chrome = Chrome()\n",
    "browser=chrome\n",
    "youtube = Youtube(\n",
    "    browser=chrome  # or firefox\n",
    ")\n"
   ],
   "metadata": {
    "collapsed": false,
    "ExecuteTime": {
     "end_time": "2024-08-22T14:13:28.280790Z",
     "start_time": "2024-08-22T14:13:13.216275Z"
    }
   }
  },
  {
   "cell_type": "code",
   "execution_count": 6,
   "outputs": [
    {
     "data": {
      "text/plain": "True"
     },
     "execution_count": 6,
     "metadata": {},
     "output_type": "execute_result"
    }
   ],
   "source": [
    "chrome.get('https://www.youtube.com/channel_switcher')"
   ],
   "metadata": {
    "collapsed": false,
    "ExecuteTime": {
     "end_time": "2024-08-22T14:14:41.475504Z",
     "start_time": "2024-08-22T14:14:40.802110Z"
    }
   }
  },
  {
   "cell_type": "code",
   "execution_count": null,
   "outputs": [],
   "source": [
    "chrome.get('https://www.youtube.com')"
   ],
   "metadata": {
    "collapsed": false,
    "ExecuteTime": {
     "start_time": "2024-08-22T11:06:11.712083Z"
    }
   }
  },
  {
   "cell_type": "code",
   "execution_count": 93,
   "outputs": [],
   "source": [
    "# channel_name='@voyageivi'\n",
    "channel_name='@vlog7551'\n",
    "a=chrome.find_all_by(f\"*[contains(text(), '{channel_name}')]/../..\")\n",
    "if len(a)>0:\n",
    "    a[0].click()"
   ],
   "metadata": {
    "collapsed": false,
    "ExecuteTime": {
     "end_time": "2024-08-22T10:36:50.966204Z",
     "start_time": "2024-08-22T10:36:48.497015Z"
    }
   }
  },
  {
   "cell_type": "code",
   "execution_count": 7,
   "outputs": [],
   "source": [
    "channel_name='@vlog7551'\n",
    "a=chrome.find_by(f\"yt-formatted-string[contains(text(), '{channel_name}')]\")"
   ],
   "metadata": {
    "collapsed": false,
    "ExecuteTime": {
     "end_time": "2024-08-22T14:14:49.217155Z",
     "start_time": "2024-08-22T14:14:49.172543Z"
    }
   }
  },
  {
   "cell_type": "code",
   "execution_count": 8,
   "outputs": [],
   "source": [
    "a.click()"
   ],
   "metadata": {
    "collapsed": false,
    "ExecuteTime": {
     "end_time": "2024-08-22T14:14:56.797310Z",
     "start_time": "2024-08-22T14:14:52.676048Z"
    }
   }
  },
  {
   "cell_type": "code",
   "execution_count": 25,
   "outputs": [],
   "source": [
    "from xpath_utils import XPathUtils, XPathCondition, XPathConditionRelation"
   ],
   "metadata": {
    "collapsed": false,
    "ExecuteTime": {
     "end_time": "2024-08-22T10:01:55.532847Z",
     "start_time": "2024-08-22T10:01:55.515676Z"
    }
   }
  },
  {
   "cell_type": "code",
   "execution_count": 28,
   "outputs": [
    {
     "data": {
      "text/plain": "'////div[@contain(text(),\"a\"'"
     },
     "execution_count": 28,
     "metadata": {},
     "output_type": "execute_result"
    }
   ],
   "source": [
    "XPathUtils.generate_xpath('//div[@contain(text(),\"a\"')"
   ],
   "metadata": {
    "collapsed": false,
    "ExecuteTime": {
     "end_time": "2024-08-22T10:02:58.399873Z",
     "start_time": "2024-08-22T10:02:58.389778Z"
    }
   }
  },
  {
   "cell_type": "code",
   "execution_count": 2,
   "outputs": [
    {
     "name": "stdout",
     "output_type": "stream",
     "text": [
      "Switch channel: @voyageivi\n",
      "__dismiss_welcome_popup_2\n",
      "__dismiss_welcome_popup\n",
      "__dismiss_callouts\n",
      "move_to_element: None element passed\n",
      "Youtube - cookies - Upload: uploaded video\n",
      "Youtube - cookies - Sleeping extra 5 seconds\n",
      "__dismiss_welcome_popup_2\n",
      "__dismiss_welcome_popup\n",
      "__dismiss_callouts\n",
      "__dismiss_welcome_popup_2\n",
      "__dismiss_welcome_popup\n",
      "__dismiss_callouts\n",
      "Youtube - cookies - Upload: added title\n",
      "Youtube - cookies - Upload: added description\n",
      "Youtube - cookies - Upload: added thumbnail\n",
      "Youtube - cookies - Upload: clicked more options\n",
      "__dismiss_welcome_popup_2\n",
      "__dismiss_welcome_popup\n",
      "__dismiss_callouts\n",
      "Youtube - cookies - Upload: added tags\n",
      "Youtube - cookies - Upload: did set VIDEO_MADE_FOR_KIDS_NOT_MFK\n",
      "Youtube - cookies - Upload: clicked first next\n",
      "__dismiss_callouts\n",
      "Youtube - cookies - Upload: clicked second next\n",
      "__dismiss_callouts\n",
      "third_next: aria-disabled: false | is_displayed: True | is_enabled: True\n",
      "Youtube - cookies - Upload: Clicking third next\n",
      "Youtube - cookies - Upload: Clicked third next\n",
      "Youtube - cookies - Upload: set to PRIVATE\n",
      "Youtube - cookies - 'NoneType' object has no attribute 'get_attribute'\n",
      "wrapper: passed element is None\n",
      "Youtube - cookies - [Errno 25] Inappropriate ioctl for device\n",
      "wrapper: passed element is None\n",
      "Youtube - cookies - [Errno 25] Inappropriate ioctl for device\n",
      "wrapper: passed element is None\n",
      "Youtube - cookies - [Errno 25] Inappropriate ioctl for device\n",
      "wrapper: passed element is None\n",
      "Youtube - cookies - [Errno 25] Inappropriate ioctl for device\n",
      "wrapper: passed element is None\n",
      "Youtube - cookies - [Errno 25] Inappropriate ioctl for device\n"
     ]
    },
    {
     "ename": "KeyboardInterrupt",
     "evalue": "",
     "output_type": "error",
     "traceback": [
      "\u001B[0;31m---------------------------------------------------------------------------\u001B[0m",
      "\u001B[0;31mKeyboardInterrupt\u001B[0m                         Traceback (most recent call last)",
      "Cell \u001B[0;32mIn[2], line 4\u001B[0m\n\u001B[1;32m      1\u001B[0m \u001B[38;5;28;01mfrom\u001B[39;00m \u001B[38;5;21;01mselenium_youtube\u001B[39;00m \u001B[38;5;28;01mimport\u001B[39;00m Visibility\n\u001B[1;32m      3\u001B[0m mp4_file \u001B[38;5;241m=\u001B[39m \u001B[38;5;124m'\u001B[39m\u001B[38;5;124m/Users/vincent/tmp/bilibili/video/508959410/BV1w4421S7y8/BV1w4421S7y8.mp4\u001B[39m\u001B[38;5;124m'\u001B[39m\n\u001B[0;32m----> 4\u001B[0m upload_result \u001B[38;5;241m=\u001B[39m \u001B[43myoutube\u001B[49m\u001B[38;5;241;43m.\u001B[39;49m\u001B[43mupload\u001B[49m\u001B[43m(\u001B[49m\u001B[43mmp4_file\u001B[49m\u001B[43m,\u001B[49m\n\u001B[1;32m      5\u001B[0m \u001B[43m                               \u001B[49m\u001B[38;5;124;43m'\u001B[39;49m\u001B[38;5;124;43mtitleTest\u001B[39;49m\u001B[38;5;124;43m'\u001B[39;49m\u001B[43m,\u001B[49m\n\u001B[1;32m      6\u001B[0m \u001B[43m                               \u001B[49m\u001B[38;5;124;43m'\u001B[39;49m\u001B[38;5;124;43mdescriptionTest\u001B[39;49m\u001B[38;5;124;43m'\u001B[39;49m\u001B[43m,\u001B[49m\u001B[43m \u001B[49m\u001B[43m[\u001B[49m\u001B[38;5;124;43m'\u001B[39;49m\u001B[38;5;124;43mtag1\u001B[39;49m\u001B[38;5;124;43m'\u001B[39;49m\u001B[43m,\u001B[49m\u001B[43m \u001B[49m\u001B[38;5;124;43m'\u001B[39;49m\u001B[38;5;124;43mtag2\u001B[39;49m\u001B[38;5;124;43m'\u001B[39;49m\u001B[43m]\u001B[49m\u001B[43m,\u001B[49m\n\u001B[1;32m      7\u001B[0m \u001B[43m                               \u001B[49m\u001B[43mextra_sleep_after_upload\u001B[49m\u001B[38;5;241;43m=\u001B[39;49m\u001B[38;5;241;43m5\u001B[39;49m\u001B[43m,\u001B[49m\n\u001B[1;32m      8\u001B[0m \u001B[43m                               \u001B[49m\u001B[43mthumbnail_image_path\u001B[49m\u001B[38;5;241;43m=\u001B[39;49m\u001B[38;5;124;43m'\u001B[39;49m\u001B[38;5;124;43m/Users/vincent/tmp/bilibili/video/508959410/BV1hz421i7DH/pic.jpg\u001B[39;49m\u001B[38;5;124;43m'\u001B[39;49m\u001B[43m,\u001B[49m\n\u001B[1;32m      9\u001B[0m \u001B[43m                               \u001B[49m\u001B[43mvisibility\u001B[49m\u001B[38;5;241;43m=\u001B[39;49m\u001B[43mVisibility\u001B[49m\u001B[38;5;241;43m.\u001B[39;49m\u001B[43mPRIVATE\u001B[49m\u001B[43m,\u001B[49m\n\u001B[1;32m     10\u001B[0m \u001B[43m                               \u001B[49m\u001B[43mchannel_name\u001B[49m\u001B[38;5;241;43m=\u001B[39;49m\u001B[38;5;124;43m'\u001B[39;49m\u001B[38;5;124;43m@voyageivi\u001B[39;49m\u001B[38;5;124;43m'\u001B[39;49m\u001B[43m,\u001B[49m\n\u001B[1;32m     11\u001B[0m \u001B[43m                               \u001B[49m\u001B[43m)\u001B[49m\n",
      "File \u001B[0;32m~/IdeaProjects/selenium_youtube/selenium_youtube/youtube.py:219\u001B[0m, in \u001B[0;36mYoutube.upload\u001B[0;34m(self, video_path, title, description, tags, made_for_kids, visibility, thumbnail_image_path, timeout, extra_sleep_after_upload, extra_sleep_before_publish, channel_name)\u001B[0m\n\u001B[1;32m    217\u001B[0m     \u001B[38;5;28mprint\u001B[39m(\u001B[38;5;124mf\u001B[39m\u001B[38;5;124m'\u001B[39m\u001B[38;5;124mSwitch channel: \u001B[39m\u001B[38;5;132;01m{\u001B[39;00mchannel_name\u001B[38;5;132;01m}\u001B[39;00m\u001B[38;5;124m'\u001B[39m)\n\u001B[1;32m    218\u001B[0m     time\u001B[38;5;241m.\u001B[39msleep(\u001B[38;5;241m1\u001B[39m)\n\u001B[0;32m--> 219\u001B[0m res \u001B[38;5;241m=\u001B[39m \u001B[38;5;28;43mself\u001B[39;49m\u001B[38;5;241;43m.\u001B[39;49m\u001B[43m__upload\u001B[49m\u001B[43m(\u001B[49m\n\u001B[1;32m    220\u001B[0m \u001B[43m    \u001B[49m\u001B[43mvideo_path\u001B[49m\u001B[38;5;241;43m=\u001B[39;49m\u001B[43mvideo_path\u001B[49m\u001B[43m,\u001B[49m\n\u001B[1;32m    221\u001B[0m \u001B[43m    \u001B[49m\u001B[43mtitle\u001B[49m\u001B[38;5;241;43m=\u001B[39;49m\u001B[43mtitle\u001B[49m\u001B[43m,\u001B[49m\n\u001B[1;32m    222\u001B[0m \u001B[43m    \u001B[49m\u001B[43mdescription\u001B[49m\u001B[38;5;241;43m=\u001B[39;49m\u001B[43mdescription\u001B[49m\u001B[43m,\u001B[49m\n\u001B[1;32m    223\u001B[0m \u001B[43m    \u001B[49m\u001B[43mtags\u001B[49m\u001B[38;5;241;43m=\u001B[39;49m\u001B[43mtags\u001B[49m\u001B[43m,\u001B[49m\n\u001B[1;32m    224\u001B[0m \u001B[43m    \u001B[49m\u001B[43mmade_for_kids\u001B[49m\u001B[38;5;241;43m=\u001B[39;49m\u001B[43mmade_for_kids\u001B[49m\u001B[43m,\u001B[49m\n\u001B[1;32m    225\u001B[0m \u001B[43m    \u001B[49m\u001B[43mvisibility\u001B[49m\u001B[38;5;241;43m=\u001B[39;49m\u001B[43mvisibility\u001B[49m\u001B[43m,\u001B[49m\n\u001B[1;32m    226\u001B[0m \u001B[43m    \u001B[49m\u001B[43mthumbnail_image_path\u001B[49m\u001B[38;5;241;43m=\u001B[39;49m\u001B[43mthumbnail_image_path\u001B[49m\u001B[43m,\u001B[49m\n\u001B[1;32m    227\u001B[0m \u001B[43m    \u001B[49m\u001B[43mextra_sleep_after_upload\u001B[49m\u001B[38;5;241;43m=\u001B[39;49m\u001B[43mextra_sleep_after_upload\u001B[49m\u001B[43m,\u001B[49m\n\u001B[1;32m    228\u001B[0m \u001B[43m    \u001B[49m\u001B[43mextra_sleep_before_publish\u001B[49m\u001B[38;5;241;43m=\u001B[39;49m\u001B[43mextra_sleep_before_publish\u001B[49m\u001B[43m,\u001B[49m\n\u001B[1;32m    229\u001B[0m \u001B[43m    \u001B[49m\u001B[43mtimeout\u001B[49m\u001B[38;5;241;43m=\u001B[39;49m\u001B[43mtimeout\u001B[49m\n\u001B[1;32m    230\u001B[0m \u001B[43m\u001B[49m\u001B[43m)\u001B[49m\n\u001B[1;32m    232\u001B[0m \u001B[38;5;28;01mif\u001B[39;00m \u001B[38;5;28misinstance\u001B[39m(res, \u001B[38;5;167;01mException\u001B[39;00m):\n\u001B[1;32m    233\u001B[0m     \u001B[38;5;28mself\u001B[39m\u001B[38;5;241m.\u001B[39mprint(res)\n",
      "File \u001B[0;32m~/miniforge3/envs/py3/lib/python3.9/site-packages/kstopit/kstopit.py:39\u001B[0m, in \u001B[0;36mtimeoutable.<locals>.real_decorator.<locals>.wrapper\u001B[0;34m(*args, **kwargs)\u001B[0m\n\u001B[1;32m     38\u001B[0m \u001B[38;5;28;01mdef\u001B[39;00m \u001B[38;5;21mwrapper\u001B[39m(\u001B[38;5;241m*\u001B[39margs, \u001B[38;5;241m*\u001B[39m\u001B[38;5;241m*\u001B[39mkwargs):\n\u001B[0;32m---> 39\u001B[0m     \u001B[38;5;28;01mreturn\u001B[39;00m \u001B[43m__run_with_timeout\u001B[49m\u001B[43m(\u001B[49m\n\u001B[1;32m     40\u001B[0m \u001B[43m        \u001B[49m\u001B[43mfunction\u001B[49m\u001B[43m,\u001B[49m\n\u001B[1;32m     41\u001B[0m \u001B[43m        \u001B[49m\u001B[43mstopit\u001B[49m\u001B[38;5;241;43m.\u001B[39;49m\u001B[43mSignalTimeout\u001B[49m\u001B[43m \u001B[49m\u001B[38;5;28;43;01mif\u001B[39;49;00m\u001B[43m \u001B[49m\u001B[43mtimeout_type\u001B[49m\u001B[43m \u001B[49m\u001B[38;5;241;43m==\u001B[39;49m\u001B[43m \u001B[49m\u001B[43mTimeoutType\u001B[49m\u001B[38;5;241;43m.\u001B[39;49m\u001B[43mSignal\u001B[49m\u001B[43m \u001B[49m\u001B[38;5;28;43;01melse\u001B[39;49;00m\u001B[43m \u001B[49m\u001B[43mstopit\u001B[49m\u001B[38;5;241;43m.\u001B[39;49m\u001B[43mThreadingTimeout\u001B[49m\u001B[43m,\u001B[49m\n\u001B[1;32m     42\u001B[0m \u001B[43m        \u001B[49m\u001B[43mname\u001B[49m\u001B[43m,\u001B[49m\n\u001B[1;32m     43\u001B[0m \u001B[43m        \u001B[49m\u001B[43mfunction_name\u001B[49m\u001B[43m,\u001B[49m\n\u001B[1;32m     44\u001B[0m \u001B[43m        \u001B[49m\u001B[43mtimeout_param\u001B[49m\u001B[43m,\u001B[49m\n\u001B[1;32m     45\u001B[0m \u001B[43m        \u001B[49m\u001B[38;5;241;43m*\u001B[39;49m\u001B[43margs\u001B[49m\u001B[43m,\u001B[49m\n\u001B[1;32m     46\u001B[0m \u001B[43m        \u001B[49m\u001B[38;5;241;43m*\u001B[39;49m\u001B[38;5;241;43m*\u001B[39;49m\u001B[43mkwargs\u001B[49m\n\u001B[1;32m     47\u001B[0m \u001B[43m    \u001B[49m\u001B[43m)\u001B[49m\n",
      "File \u001B[0;32m~/miniforge3/envs/py3/lib/python3.9/site-packages/kstopit/kstopit.py:137\u001B[0m, in \u001B[0;36m__run_with_timeout\u001B[0;34m(function, timeout_class, name, function_name, timeout_param, *args, **kwargs)\u001B[0m\n\u001B[1;32m    135\u001B[0m \u001B[38;5;28;01mtry\u001B[39;00m:\n\u001B[1;32m    136\u001B[0m     \u001B[38;5;28;01mwith\u001B[39;00m timeout_class(timeout, swallow_exc\u001B[38;5;241m=\u001B[39m\u001B[38;5;28;01mFalse\u001B[39;00m):\n\u001B[0;32m--> 137\u001B[0m         \u001B[38;5;28;01mreturn\u001B[39;00m \u001B[43mfunction\u001B[49m\u001B[43m(\u001B[49m\u001B[38;5;241;43m*\u001B[39;49m\u001B[43margs\u001B[49m\u001B[43m,\u001B[49m\u001B[43m \u001B[49m\u001B[38;5;241;43m*\u001B[39;49m\u001B[38;5;241;43m*\u001B[39;49m\u001B[43mkwargs\u001B[49m\u001B[43m)\u001B[49m\n\u001B[1;32m    138\u001B[0m \u001B[38;5;28;01mexcept\u001B[39;00m stopit\u001B[38;5;241m.\u001B[39mTimeoutException \u001B[38;5;28;01mas\u001B[39;00m e:\n\u001B[1;32m    139\u001B[0m     \u001B[38;5;28;01mreturn\u001B[39;00m stopit\u001B[38;5;241m.\u001B[39mTimeoutException(\n\u001B[1;32m    140\u001B[0m         \u001B[38;5;124m'\u001B[39m\u001B[38;5;132;01m{}\u001B[39;00m\u001B[38;5;124m did exceed maximum timeout value (\u001B[39m\u001B[38;5;132;01m{}\u001B[39;00m\u001B[38;5;124m \u001B[39m\u001B[38;5;132;01m{}\u001B[39;00m\u001B[38;5;124m)\u001B[39m\u001B[38;5;124m'\u001B[39m\u001B[38;5;241m.\u001B[39mformat(\n\u001B[1;32m    141\u001B[0m             \u001B[38;5;124m'\u001B[39m\u001B[38;5;130;01m\\'\u001B[39;00m\u001B[38;5;132;01m{}\u001B[39;00m\u001B[38;5;130;01m\\'\u001B[39;00m\u001B[38;5;124m'\u001B[39m\u001B[38;5;241m.\u001B[39mformat(name) \u001B[38;5;28;01mif\u001B[39;00m name \u001B[38;5;28;01melse\u001B[39;00m \u001B[38;5;124m'\u001B[39m\u001B[38;5;124mFunction \u001B[39m\u001B[38;5;130;01m\\'\u001B[39;00m\u001B[38;5;132;01m{}\u001B[39;00m\u001B[38;5;130;01m\\'\u001B[39;00m\u001B[38;5;124m'\u001B[39m\u001B[38;5;241m.\u001B[39mformat(function_name \u001B[38;5;129;01mor\u001B[39;00m function\u001B[38;5;241m.\u001B[39m\u001B[38;5;18m__name__\u001B[39m),\n\u001B[0;32m   (...)\u001B[0m\n\u001B[1;32m    144\u001B[0m         )\n\u001B[1;32m    145\u001B[0m     )\n",
      "File \u001B[0;32m~/IdeaProjects/selenium_youtube/selenium_youtube/youtube.py:760\u001B[0m, in \u001B[0;36mYoutube.__upload\u001B[0;34m(self, video_path, title, description, tags, made_for_kids, visibility, public_datetime, thumbnail_image_path, extra_sleep_after_upload, extra_sleep_before_publish, extra_sleep_after_publish, timeout)\u001B[0m\n\u001B[1;32m    756\u001B[0m                     \u001B[38;5;28;01mreturn\u001B[39;00m \u001B[38;5;28;01mTrue\u001B[39;00m, video_id\n\u001B[1;32m    758\u001B[0m                 \u001B[38;5;28;01mraise\u001B[39;00m\n\u001B[0;32m--> 760\u001B[0m         \u001B[43mtime\u001B[49m\u001B[38;5;241;43m.\u001B[39;49m\u001B[43msleep\u001B[49m\u001B[43m(\u001B[49m\u001B[38;5;241;43m1\u001B[39;49m\u001B[43m)\u001B[49m\n\u001B[1;32m    761\u001B[0m \u001B[38;5;28;01mexcept\u001B[39;00m \u001B[38;5;167;01mException\u001B[39;00m \u001B[38;5;28;01mas\u001B[39;00m e:\n\u001B[1;32m    762\u001B[0m     \u001B[38;5;28mself\u001B[39m\u001B[38;5;241m.\u001B[39mprint(e)\n",
      "\u001B[0;31mKeyboardInterrupt\u001B[0m: "
     ]
    }
   ],
   "source": [
    "from selenium_youtube import Visibility\n",
    "\n",
    "mp4_file = '/Users/vincent/tmp/bilibili/video/508959410/BV1w4421S7y8/BV1w4421S7y8.mp4'\n",
    "upload_result = youtube.upload(mp4_file,\n",
    "                               'titleTest',\n",
    "                               'descriptionTest', ['tag1', 'tag2'],\n",
    "                               extra_sleep_after_upload=5,\n",
    "                               thumbnail_image_path='/Users/vincent/tmp/bilibili/video/508959410/BV1hz421i7DH/pic.jpg',\n",
    "                               visibility=Visibility.PRIVATE,\n",
    "                               channel_name='@voyageivi',\n",
    "                               )\n"
   ],
   "metadata": {
    "collapsed": false,
    "ExecuteTime": {
     "end_time": "2024-08-22T11:11:39.656958Z",
     "start_time": "2024-08-22T11:10:29.021349Z"
    }
   }
  },
  {
   "cell_type": "code",
   "execution_count": 9,
   "outputs": [
    {
     "data": {
      "text/plain": "True"
     },
     "execution_count": 9,
     "metadata": {},
     "output_type": "execute_result"
    }
   ],
   "source": [
    "chrome.get('https://www.youtube.com/upload')"
   ],
   "metadata": {
    "collapsed": false,
    "ExecuteTime": {
     "end_time": "2024-08-22T14:19:06.033245Z",
     "start_time": "2024-08-22T14:19:05.691022Z"
    }
   }
  },
  {
   "cell_type": "code",
   "execution_count": 10,
   "outputs": [
    {
     "ename": "AttributeError",
     "evalue": "'Youtube' object has no attribute '__dismiss_welcome_popups'",
     "output_type": "error",
     "traceback": [
      "\u001B[0;31m---------------------------------------------------------------------------\u001B[0m",
      "\u001B[0;31mAttributeError\u001B[0m                            Traceback (most recent call last)",
      "Cell \u001B[0;32mIn[10], line 1\u001B[0m\n\u001B[0;32m----> 1\u001B[0m \u001B[43myoutube\u001B[49m\u001B[38;5;241;43m.\u001B[39;49m\u001B[43m__dismiss_welcome_popups\u001B[49m(timeout\u001B[38;5;241m=\u001B[39m\u001B[38;5;241m3\u001B[39m)\n",
      "\u001B[0;31mAttributeError\u001B[0m: 'Youtube' object has no attribute '__dismiss_welcome_popups'"
     ]
    }
   ],
   "source": [
    "youtube.__dismiss_welcome_popups(timeout=3)"
   ],
   "metadata": {
    "collapsed": false,
    "ExecuteTime": {
     "end_time": "2024-08-22T14:20:46.587356Z",
     "start_time": "2024-08-22T14:20:46.339678Z"
    }
   }
  },
  {
   "cell_type": "code",
   "execution_count": 11,
   "outputs": [
    {
     "data": {
      "text/plain": "<selenium_youtube.youtube.Youtube at 0x110a90ac0>"
     },
     "execution_count": 11,
     "metadata": {},
     "output_type": "execute_result"
    }
   ],
   "source": [
    "youtube"
   ],
   "metadata": {
    "collapsed": false,
    "ExecuteTime": {
     "end_time": "2024-08-22T14:20:54.161773Z",
     "start_time": "2024-08-22T14:20:54.136911Z"
    }
   }
  },
  {
   "cell_type": "code",
   "execution_count": 14,
   "outputs": [
    {
     "name": "stdout",
     "output_type": "stream",
     "text": [
      "move_to_element: None element passed\n"
     ]
    }
   ],
   "source": [
    "youtube._input_file('/Users/vincent/tmp/bilibili/video/508959410/BV1w4421S7y8/BV1w4421S7y8.mp4')"
   ],
   "metadata": {
    "collapsed": false,
    "ExecuteTime": {
     "end_time": "2024-08-22T14:23:48.006948Z",
     "start_time": "2024-08-22T14:23:45.282876Z"
    }
   }
  },
  {
   "cell_type": "code",
   "execution_count": 20,
   "outputs": [],
   "source": [
    "\n",
    "\n",
    "kids_section=chrome.find('name','VIDEO_MADE_FOR_KIDS_MFK')\n",
    "browser.find(\"id\", 'radioLabel', kids_section).click()"
   ],
   "metadata": {
    "collapsed": false,
    "ExecuteTime": {
     "end_time": "2024-08-22T14:28:45.660686Z",
     "start_time": "2024-08-22T14:28:45.507169Z"
    }
   }
  },
  {
   "cell_type": "code",
   "execution_count": 23,
   "outputs": [],
   "source": [
    "browser.find_by('ytcp-button', id='next-button').click()"
   ],
   "metadata": {
    "collapsed": false,
    "ExecuteTime": {
     "end_time": "2024-08-22T14:29:20.747206Z",
     "start_time": "2024-08-22T14:29:20.605307Z"
    }
   }
  },
  {
   "cell_type": "code",
   "execution_count": 28,
   "outputs": [],
   "source": [
    "btn_second_container=browser.find(\"id\",\"second-container-expand-button\")\n",
    "btn_second_container.click()"
   ],
   "metadata": {
    "collapsed": false,
    "ExecuteTime": {
     "end_time": "2024-08-22T14:32:22.604855Z",
     "start_time": "2024-08-22T14:32:22.425658Z"
    }
   }
  },
  {
   "cell_type": "code",
   "execution_count": 27,
   "outputs": [
    {
     "data": {
      "text/plain": "<undetected_chromedriver.webelement.WebElement (session=\"f8a7624337ab8059201fdd040bb1d32a\", element=\"f.F9654707872BB305974093F8FE335A72.d.CBB0590FD06D2B428EC17BDA14FD2DC3.e.214\")>"
     },
     "execution_count": 27,
     "metadata": {},
     "output_type": "execute_result"
    }
   ],
   "source": [
    "btn_second_container"
   ],
   "metadata": {
    "collapsed": false,
    "ExecuteTime": {
     "end_time": "2024-08-22T14:32:15.747033Z",
     "start_time": "2024-08-22T14:32:15.733231Z"
    }
   }
  },
  {
   "cell_type": "code",
   "execution_count": 29,
   "outputs": [
    {
     "ename": "SyntaxError",
     "evalue": "invalid syntax (2767668549.py, line 1)",
     "output_type": "error",
     "traceback": [
      "\u001B[0;36m  Cell \u001B[0;32mIn[29], line 1\u001B[0;36m\u001B[0m\n\u001B[0;31m    publish-from-private-non-sponsor-selector\u001B[0m\n\u001B[0m            ^\u001B[0m\n\u001B[0;31mSyntaxError\u001B[0m\u001B[0;31m:\u001B[0m invalid syntax\n"
     ]
    }
   ],
   "source": [],
   "metadata": {
    "collapsed": false,
    "ExecuteTime": {
     "end_time": "2024-08-22T15:03:05.612035Z",
     "start_time": "2024-08-22T15:03:05.495857Z"
    }
   }
  },
  {
   "cell_type": "code",
   "execution_count": 42,
   "outputs": [],
   "source": [
    "public_form=browser.find(\"id\",\"publish-from-private-non-sponsor-selector\")\n",
    "trigger1=browser.find_by('ytcp-dropdown-trigger',in_element=public_form)\n",
    "trigger1.click()"
   ],
   "metadata": {
    "collapsed": false,
    "ExecuteTime": {
     "end_time": "2024-08-22T15:28:29.094107Z",
     "start_time": "2024-08-22T15:28:29.015184Z"
    }
   }
  },
  {
   "cell_type": "code",
   "execution_count": 40,
   "outputs": [],
   "source": [],
   "metadata": {
    "collapsed": false,
    "ExecuteTime": {
     "end_time": "2024-08-22T15:11:25.172018Z",
     "start_time": "2024-08-22T15:11:25.095564Z"
    }
   }
  },
  {
   "cell_type": "code",
   "execution_count": 36,
   "outputs": [],
   "source": [
    "calendar_main=browser.find(\"id\",'calendar-main')"
   ],
   "metadata": {
    "collapsed": false,
    "ExecuteTime": {
     "end_time": "2024-08-22T15:05:49.862108Z",
     "start_time": "2024-08-22T15:05:49.837122Z"
    }
   }
  },
  {
   "cell_type": "code",
   "execution_count": 51,
   "outputs": [],
   "source": [
    "\n",
    "date_dlg=browser.find_by('tp-yt-paper-dialog[@id=\"dialog\"]')"
   ],
   "metadata": {
    "collapsed": false,
    "ExecuteTime": {
     "end_time": "2024-08-22T15:30:31.231047Z",
     "start_time": "2024-08-22T15:30:31.083469Z"
    }
   }
  },
  {
   "cell_type": "code",
   "execution_count": 63,
   "outputs": [],
   "source": [
    "browser.find_by('./descendant::input',in_element=date_dlg)\n"
   ],
   "metadata": {
    "collapsed": false,
    "ExecuteTime": {
     "end_time": "2024-08-22T15:35:49.836619Z",
     "start_time": "2024-08-22T15:35:47.181045Z"
    }
   }
  },
  {
   "cell_type": "code",
   "execution_count": 85,
   "outputs": [],
   "source": [
    "\n",
    "date_input=browser.find_by('tp-yt-paper-dialog[@id=\"dialog\"]/descendant::input',timeout=1)\n",
    "\n"
   ],
   "metadata": {
    "collapsed": false,
    "ExecuteTime": {
     "end_time": "2024-08-22T15:47:23.894874Z",
     "start_time": "2024-08-22T15:47:23.879362Z"
    }
   }
  },
  {
   "cell_type": "code",
   "execution_count": 86,
   "outputs": [
    {
     "data": {
      "text/plain": "''"
     },
     "execution_count": 86,
     "metadata": {},
     "output_type": "execute_result"
    }
   ],
   "source": [
    "date_input.text"
   ],
   "metadata": {
    "collapsed": false,
    "ExecuteTime": {
     "end_time": "2024-08-22T15:47:26.342046Z",
     "start_time": "2024-08-22T15:47:26.322319Z"
    }
   }
  },
  {
   "cell_type": "code",
   "execution_count": 190,
   "outputs": [],
   "source": [
    "\n",
    "from selenium.webdriver.remote.webelement import WebElement\n",
    "from selenium.webdriver import Keys\n",
    "from selenium.webdriver.common.action_chains import ActionChains\n",
    "import time\n",
    "from sys import platform\n",
    "\n",
    "def reset_input(element:WebElement,text):\n",
    "    actions = ActionChains(chrome.driver)\n",
    "    actions.move_to_element(element)\n",
    "    actions.key_down(Keys.COMMAND if platform == 'darwin' else Keys.CONTROL)\n",
    "    actions.send_keys('a')\n",
    "    actions.key_up(Keys.COMMAND)\n",
    "    # actions.pause(.5)\n",
    "    actions.send_keys(Keys.BACKSPACE)\n",
    "    # actions.pause(.5)\n",
    "    actions.send_keys(text)\n",
    "    actions.send_keys(Keys.ENTER)\n",
    "    actions.perform()\n",
    "\n",
    "\n"
   ],
   "metadata": {
    "collapsed": false,
    "ExecuteTime": {
     "end_time": "2024-08-22T16:25:01.365815Z",
     "start_time": "2024-08-22T16:25:01.339467Z"
    }
   }
  },
  {
   "cell_type": "code",
   "execution_count": 191,
   "outputs": [],
   "source": [
    "\n",
    "reset_input(element=date_input,text=\"2024/09/05\")"
   ],
   "metadata": {
    "collapsed": false,
    "ExecuteTime": {
     "end_time": "2024-08-22T16:25:10.739657Z",
     "start_time": "2024-08-22T16:25:05.402521Z"
    }
   }
  },
  {
   "cell_type": "code",
   "execution_count": 192,
   "outputs": [],
   "source": [
    "time_input=browser.find_by('tp-yt-paper-input-container[@id=\"container\"]/descendant::input',timeout=1)"
   ],
   "metadata": {
    "collapsed": false,
    "ExecuteTime": {
     "end_time": "2024-08-22T16:31:52.840327Z",
     "start_time": "2024-08-22T16:31:52.810621Z"
    }
   }
  },
  {
   "cell_type": "code",
   "execution_count": 196,
   "outputs": [],
   "source": [
    "reset_input (time_input,\"02:00\")"
   ],
   "metadata": {
    "collapsed": false,
    "ExecuteTime": {
     "end_time": "2024-08-22T16:33:42.097888Z",
     "start_time": "2024-08-22T16:33:40.794678Z"
    }
   }
  },
  {
   "cell_type": "code",
   "execution_count": null,
   "outputs": [],
   "source": [],
   "metadata": {
    "collapsed": false
   }
  }
 ],
 "metadata": {
  "kernelspec": {
   "display_name": "Python 3",
   "language": "python",
   "name": "python3"
  },
  "language_info": {
   "codemirror_mode": {
    "name": "ipython",
    "version": 2
   },
   "file_extension": ".py",
   "mimetype": "text/x-python",
   "name": "python",
   "nbconvert_exporter": "python",
   "pygments_lexer": "ipython2",
   "version": "2.7.6"
  }
 },
 "nbformat": 4,
 "nbformat_minor": 0
}
