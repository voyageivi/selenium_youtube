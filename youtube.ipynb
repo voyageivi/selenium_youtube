{
 "cells": [
  {
   "cell_type": "code",
   "execution_count": 1,
   "outputs": [
    {
     "name": "stderr",
     "output_type": "stream",
     "text": [
      "/Users/vincent/miniforge3/envs/py3/lib/python3.9/site-packages/undetected_chromedriver/__init__.py:339: UserWarning: using ChromeOptions.user_data_dir might stop working in future versions.use uc.Chrome(user_data_dir='/xyz/some/data') in case you need existing profile folder\n",
      "  warnings.warn(\n"
     ]
    },
    {
     "name": "stdout",
     "output_type": "stream",
     "text": [
      "Youtube - cookies - Successfully logged in. Saving cookies.\n"
     ]
    }
   ],
   "source": [
    "import time\n",
    "from selenium_chrome import Chrome\n",
    "\n",
    "from selenium_youtube import Youtube\n",
    "from chromedriver_py import binary_path\n",
    "\n",
    "# from pyvirtualdisplay import Display\n",
    "# disp = Display(visible=False, size=(1024, 864))\n",
    "# disp.start()\n",
    "\n",
    "chrome = Chrome(chromedriver_path=binary_path,headless=False,full_screen=False)\n",
    "browser=chrome\n",
    "youtube = Youtube(\n",
    "    browser=chrome  # or firefox\n",
    ")\n"
   ],
   "metadata": {
    "collapsed": false
   }
  },
  {
   "cell_type": "code",
   "execution_count": 3,
   "outputs": [],
   "source": [],
   "metadata": {
    "collapsed": false,
    "ExecuteTime": {
     "end_time": "2024-08-26T09:39:30.397872Z",
     "start_time": "2024-08-26T09:39:30.388215Z"
    }
   }
  },
  {
   "cell_type": "code",
   "execution_count": 2,
   "outputs": [
    {
     "data": {
      "text/plain": "False"
     },
     "execution_count": 2,
     "metadata": {},
     "output_type": "execute_result"
    }
   ],
   "source": [
    "chrome.get('https://www.youtube.com')"
   ],
   "metadata": {
    "collapsed": false,
    "ExecuteTime": {
     "end_time": "2024-09-06T05:35:26.617613Z",
     "start_time": "2024-09-06T05:35:26.602287Z"
    }
   }
  },
  {
   "cell_type": "code",
   "execution_count": 2,
   "outputs": [],
   "source": [
    "chrome.get('https://www.youtube.com/channel_switcher')\n",
    "# channel_name='@test2-u6v'\n",
    "channel_name='@voyageivi'\n",
    "\n",
    "# time.sleep(1)\n",
    "# browser.scroll_to_bottom()\n",
    "b=browser.find_by(f\"div[@id='contents']//yt-formatted-string[contains(text(), '{channel_name}')]\",timeout=5)\n"
   ],
   "metadata": {
    "collapsed": false,
    "ExecuteTime": {
     "end_time": "2024-09-13T07:42:02.600349Z",
     "start_time": "2024-09-13T07:42:01.378436Z"
    }
   }
  },
  {
   "cell_type": "code",
   "execution_count": 3,
   "outputs": [
    {
     "data": {
      "text/plain": "{'x': 569, 'y': 69}"
     },
     "execution_count": 3,
     "metadata": {},
     "output_type": "execute_result"
    }
   ],
   "source": [
    "b.location_once_scrolled_into_view"
   ],
   "metadata": {
    "collapsed": false,
    "ExecuteTime": {
     "end_time": "2024-09-13T07:42:12.253685Z",
     "start_time": "2024-09-13T07:42:12.183688Z"
    }
   }
  },
  {
   "cell_type": "code",
   "execution_count": 36,
   "outputs": [],
   "source": [
    "# channel_name='@voyageivi'\n",
    "channel_name='@test2-u6v'\n",
    "b=browser.find_by(f\"div[@id='contents']//yt-formatted-string[contains(text(), '{channel_name}')]\",timeout=5)"
   ],
   "metadata": {
    "collapsed": false,
    "ExecuteTime": {
     "end_time": "2024-09-13T08:09:19.703665Z",
     "start_time": "2024-09-13T08:09:19.664165Z"
    }
   }
  },
  {
   "cell_type": "code",
   "execution_count": 37,
   "outputs": [],
   "source": [
    "# header=browser.find_by('div[@id=\"contents\"]//ytd-account-item-renderer[1]')\n",
    "header=browser.find_by('div[@id=\"contents\"]//ytd-account-item-renderer[1]')\n",
    "_, element_y, _, _, _, _ = browser.get_element_coordinates(b)\n",
    "# browser.scroll_to_element(element=b, header_element=header)\n",
    "browser.scroll_to(element_y-156)\n"
   ],
   "metadata": {
    "collapsed": false,
    "ExecuteTime": {
     "end_time": "2024-09-13T08:09:19.977997Z",
     "start_time": "2024-09-13T08:09:19.914135Z"
    }
   }
  },
  {
   "cell_type": "markdown",
   "source": [],
   "metadata": {
    "collapsed": false
   }
  },
  {
   "cell_type": "code",
   "execution_count": 22,
   "outputs": [
    {
     "data": {
      "text/plain": "<undetected_chromedriver.webelement.WebElement (session=\"38866781224d87cf23b33684b2305336\", element=\"f.697960902F37AB48358CB54E756D7785.d.C3EC6DABF8995C2F15C57EF88EA8C75F.e.116\")>"
     },
     "execution_count": 22,
     "metadata": {},
     "output_type": "execute_result"
    }
   ],
   "source": [
    "browser.find_by('div[@id=\"contents\"]//ytd-account-item-renderer[1]')"
   ],
   "metadata": {
    "collapsed": false,
    "ExecuteTime": {
     "end_time": "2024-09-13T07:47:43.031135Z",
     "start_time": "2024-09-13T07:47:42.967527Z"
    }
   }
  },
  {
   "cell_type": "code",
   "execution_count": 18,
   "outputs": [
    {
     "data": {
      "text/plain": "True"
     },
     "execution_count": 18,
     "metadata": {},
     "output_type": "execute_result"
    }
   ],
   "source": [
    "b=browser.find_by(f\"div[@id='contents']//yt-formatted-string[contains(text(), '{channel_name}')]\",timeout=5)\n",
    "b.is_displayed()"
   ],
   "metadata": {
    "collapsed": false,
    "ExecuteTime": {
     "end_time": "2024-09-13T07:14:47.258177Z",
     "start_time": "2024-09-13T07:14:47.219834Z"
    }
   }
  },
  {
   "cell_type": "code",
   "execution_count": 24,
   "outputs": [],
   "source": [
    "html = browser.find_by('html')\n",
    "from selenium.webdriver.common.keys import Keys\n",
    "html.send_keys(Keys.PAGE_DOWN)"
   ],
   "metadata": {
    "collapsed": false,
    "ExecuteTime": {
     "end_time": "2024-09-13T07:16:57.755319Z",
     "start_time": "2024-09-13T07:16:57.698267Z"
    }
   }
  },
  {
   "cell_type": "code",
   "execution_count": 23,
   "outputs": [
    {
     "ename": "ElementClickInterceptedException",
     "evalue": "Message: element click intercepted: Element <yt-formatted-string respect-lang-dir=\"\" secondary=\"\" class=\"style-scope ytd-account-item-renderer\" dir=\"auto\" style=\"text-align: left;\">...</yt-formatted-string> is not clickable at point (863, 79). Other element would receive the click: <h2 class=\"style-scope ytd-channel-switcher-header-renderer\">...</h2>\n  (Session info: chrome=128.0.6613.138)\nStacktrace:\n0   undetected_chromedriver             0x00000001032bd8b8 undetected_chromedriver + 5179576\n1   undetected_chromedriver             0x00000001032b52ea undetected_chromedriver + 5145322\n2   undetected_chromedriver             0x0000000102e2c2b0 undetected_chromedriver + 389808\n3   undetected_chromedriver             0x0000000102e7f096 undetected_chromedriver + 729238\n4   undetected_chromedriver             0x0000000102e7cf88 undetected_chromedriver + 720776\n5   undetected_chromedriver             0x0000000102e7aa57 undetected_chromedriver + 711255\n6   undetected_chromedriver             0x0000000102e79902 undetected_chromedriver + 706818\n7   undetected_chromedriver             0x0000000102e6d496 undetected_chromedriver + 656534\n8   undetected_chromedriver             0x0000000102e9a7b2 undetected_chromedriver + 841650\n9   undetected_chromedriver             0x0000000102e6ce58 undetected_chromedriver + 654936\n10  undetected_chromedriver             0x0000000102e9a96e undetected_chromedriver + 842094\n11  undetected_chromedriver             0x0000000102eb7b9b undetected_chromedriver + 961435\n12  undetected_chromedriver             0x0000000102e9a553 undetected_chromedriver + 841043\n13  undetected_chromedriver             0x0000000102e6b7f6 undetected_chromedriver + 649206\n14  undetected_chromedriver             0x0000000102e6c05e undetected_chromedriver + 651358\n15  undetected_chromedriver             0x0000000103280b20 undetected_chromedriver + 4930336\n16  undetected_chromedriver             0x0000000103285a36 undetected_chromedriver + 4950582\n17  undetected_chromedriver             0x0000000103286105 undetected_chromedriver + 4952325\n18  undetected_chromedriver             0x0000000103262ee9 undetected_chromedriver + 4808425\n19  undetected_chromedriver             0x00000001032863f9 undetected_chromedriver + 4953081\n20  undetected_chromedriver             0x0000000103254844 undetected_chromedriver + 4749380\n21  undetected_chromedriver             0x00000001032a55c8 undetected_chromedriver + 5080520\n22  undetected_chromedriver             0x00000001032a5787 undetected_chromedriver + 5080967\n23  undetected_chromedriver             0x00000001032b4ece undetected_chromedriver + 5144270\n24  libsystem_pthread.dylib             0x00007ff804f7418b _pthread_start + 99\n25  libsystem_pthread.dylib             0x00007ff804f6fae3 thread_start + 15\n",
     "output_type": "error",
     "traceback": [
      "\u001B[0;31m---------------------------------------------------------------------------\u001B[0m",
      "\u001B[0;31mElementClickInterceptedException\u001B[0m          Traceback (most recent call last)",
      "Cell \u001B[0;32mIn[23], line 1\u001B[0m\n\u001B[0;32m----> 1\u001B[0m \u001B[43mb\u001B[49m\u001B[38;5;241;43m.\u001B[39;49m\u001B[43mclick\u001B[49m\u001B[43m(\u001B[49m\u001B[43m)\u001B[49m\n",
      "File \u001B[0;32m~/miniforge3/envs/py3/lib/python3.9/site-packages/selenium/webdriver/remote/webelement.py:94\u001B[0m, in \u001B[0;36mWebElement.click\u001B[0;34m(self)\u001B[0m\n\u001B[1;32m     92\u001B[0m \u001B[38;5;28;01mdef\u001B[39;00m \u001B[38;5;21mclick\u001B[39m(\u001B[38;5;28mself\u001B[39m) \u001B[38;5;241m-\u001B[39m\u001B[38;5;241m>\u001B[39m \u001B[38;5;28;01mNone\u001B[39;00m:\n\u001B[1;32m     93\u001B[0m \u001B[38;5;250m    \u001B[39m\u001B[38;5;124;03m\"\"\"Clicks the element.\"\"\"\u001B[39;00m\n\u001B[0;32m---> 94\u001B[0m     \u001B[38;5;28;43mself\u001B[39;49m\u001B[38;5;241;43m.\u001B[39;49m\u001B[43m_execute\u001B[49m\u001B[43m(\u001B[49m\u001B[43mCommand\u001B[49m\u001B[38;5;241;43m.\u001B[39;49m\u001B[43mCLICK_ELEMENT\u001B[49m\u001B[43m)\u001B[49m\n",
      "File \u001B[0;32m~/miniforge3/envs/py3/lib/python3.9/site-packages/selenium/webdriver/remote/webelement.py:395\u001B[0m, in \u001B[0;36mWebElement._execute\u001B[0;34m(self, command, params)\u001B[0m\n\u001B[1;32m    393\u001B[0m     params \u001B[38;5;241m=\u001B[39m {}\n\u001B[1;32m    394\u001B[0m params[\u001B[38;5;124m\"\u001B[39m\u001B[38;5;124mid\u001B[39m\u001B[38;5;124m\"\u001B[39m] \u001B[38;5;241m=\u001B[39m \u001B[38;5;28mself\u001B[39m\u001B[38;5;241m.\u001B[39m_id\n\u001B[0;32m--> 395\u001B[0m \u001B[38;5;28;01mreturn\u001B[39;00m \u001B[38;5;28;43mself\u001B[39;49m\u001B[38;5;241;43m.\u001B[39;49m\u001B[43m_parent\u001B[49m\u001B[38;5;241;43m.\u001B[39;49m\u001B[43mexecute\u001B[49m\u001B[43m(\u001B[49m\u001B[43mcommand\u001B[49m\u001B[43m,\u001B[49m\u001B[43m \u001B[49m\u001B[43mparams\u001B[49m\u001B[43m)\u001B[49m\n",
      "File \u001B[0;32m~/miniforge3/envs/py3/lib/python3.9/site-packages/selenium/webdriver/remote/webdriver.py:345\u001B[0m, in \u001B[0;36mWebDriver.execute\u001B[0;34m(self, driver_command, params)\u001B[0m\n\u001B[1;32m    343\u001B[0m response \u001B[38;5;241m=\u001B[39m \u001B[38;5;28mself\u001B[39m\u001B[38;5;241m.\u001B[39mcommand_executor\u001B[38;5;241m.\u001B[39mexecute(driver_command, params)\n\u001B[1;32m    344\u001B[0m \u001B[38;5;28;01mif\u001B[39;00m response:\n\u001B[0;32m--> 345\u001B[0m     \u001B[38;5;28;43mself\u001B[39;49m\u001B[38;5;241;43m.\u001B[39;49m\u001B[43merror_handler\u001B[49m\u001B[38;5;241;43m.\u001B[39;49m\u001B[43mcheck_response\u001B[49m\u001B[43m(\u001B[49m\u001B[43mresponse\u001B[49m\u001B[43m)\u001B[49m\n\u001B[1;32m    346\u001B[0m     response[\u001B[38;5;124m\"\u001B[39m\u001B[38;5;124mvalue\u001B[39m\u001B[38;5;124m\"\u001B[39m] \u001B[38;5;241m=\u001B[39m \u001B[38;5;28mself\u001B[39m\u001B[38;5;241m.\u001B[39m_unwrap_value(response\u001B[38;5;241m.\u001B[39mget(\u001B[38;5;124m\"\u001B[39m\u001B[38;5;124mvalue\u001B[39m\u001B[38;5;124m\"\u001B[39m, \u001B[38;5;28;01mNone\u001B[39;00m))\n\u001B[1;32m    347\u001B[0m     \u001B[38;5;28;01mreturn\u001B[39;00m response\n",
      "File \u001B[0;32m~/miniforge3/envs/py3/lib/python3.9/site-packages/selenium/webdriver/remote/errorhandler.py:229\u001B[0m, in \u001B[0;36mErrorHandler.check_response\u001B[0;34m(self, response)\u001B[0m\n\u001B[1;32m    227\u001B[0m         alert_text \u001B[38;5;241m=\u001B[39m value[\u001B[38;5;124m\"\u001B[39m\u001B[38;5;124malert\u001B[39m\u001B[38;5;124m\"\u001B[39m]\u001B[38;5;241m.\u001B[39mget(\u001B[38;5;124m\"\u001B[39m\u001B[38;5;124mtext\u001B[39m\u001B[38;5;124m\"\u001B[39m)\n\u001B[1;32m    228\u001B[0m     \u001B[38;5;28;01mraise\u001B[39;00m exception_class(message, screen, stacktrace, alert_text)  \u001B[38;5;66;03m# type: ignore[call-arg]  # mypy is not smart enough here\u001B[39;00m\n\u001B[0;32m--> 229\u001B[0m \u001B[38;5;28;01mraise\u001B[39;00m exception_class(message, screen, stacktrace)\n",
      "\u001B[0;31mElementClickInterceptedException\u001B[0m: Message: element click intercepted: Element <yt-formatted-string respect-lang-dir=\"\" secondary=\"\" class=\"style-scope ytd-account-item-renderer\" dir=\"auto\" style=\"text-align: left;\">...</yt-formatted-string> is not clickable at point (863, 79). Other element would receive the click: <h2 class=\"style-scope ytd-channel-switcher-header-renderer\">...</h2>\n  (Session info: chrome=128.0.6613.138)\nStacktrace:\n0   undetected_chromedriver             0x00000001032bd8b8 undetected_chromedriver + 5179576\n1   undetected_chromedriver             0x00000001032b52ea undetected_chromedriver + 5145322\n2   undetected_chromedriver             0x0000000102e2c2b0 undetected_chromedriver + 389808\n3   undetected_chromedriver             0x0000000102e7f096 undetected_chromedriver + 729238\n4   undetected_chromedriver             0x0000000102e7cf88 undetected_chromedriver + 720776\n5   undetected_chromedriver             0x0000000102e7aa57 undetected_chromedriver + 711255\n6   undetected_chromedriver             0x0000000102e79902 undetected_chromedriver + 706818\n7   undetected_chromedriver             0x0000000102e6d496 undetected_chromedriver + 656534\n8   undetected_chromedriver             0x0000000102e9a7b2 undetected_chromedriver + 841650\n9   undetected_chromedriver             0x0000000102e6ce58 undetected_chromedriver + 654936\n10  undetected_chromedriver             0x0000000102e9a96e undetected_chromedriver + 842094\n11  undetected_chromedriver             0x0000000102eb7b9b undetected_chromedriver + 961435\n12  undetected_chromedriver             0x0000000102e9a553 undetected_chromedriver + 841043\n13  undetected_chromedriver             0x0000000102e6b7f6 undetected_chromedriver + 649206\n14  undetected_chromedriver             0x0000000102e6c05e undetected_chromedriver + 651358\n15  undetected_chromedriver             0x0000000103280b20 undetected_chromedriver + 4930336\n16  undetected_chromedriver             0x0000000103285a36 undetected_chromedriver + 4950582\n17  undetected_chromedriver             0x0000000103286105 undetected_chromedriver + 4952325\n18  undetected_chromedriver             0x0000000103262ee9 undetected_chromedriver + 4808425\n19  undetected_chromedriver             0x00000001032863f9 undetected_chromedriver + 4953081\n20  undetected_chromedriver             0x0000000103254844 undetected_chromedriver + 4749380\n21  undetected_chromedriver             0x00000001032a55c8 undetected_chromedriver + 5080520\n22  undetected_chromedriver             0x00000001032a5787 undetected_chromedriver + 5080967\n23  undetected_chromedriver             0x00000001032b4ece undetected_chromedriver + 5144270\n24  libsystem_pthread.dylib             0x00007ff804f7418b _pthread_start + 99\n25  libsystem_pthread.dylib             0x00007ff804f6fae3 thread_start + 15\n"
     ]
    }
   ],
   "source": [
    "b.click()"
   ],
   "metadata": {
    "collapsed": false,
    "ExecuteTime": {
     "end_time": "2024-09-13T07:16:26.582768Z",
     "start_time": "2024-09-13T07:16:25.414613Z"
    }
   }
  },
  {
   "cell_type": "code",
   "execution_count": 16,
   "outputs": [
    {
     "data": {
      "image/png": "[encoded data removed]",
      "text/plain": "<IPython.core.display.Image object>"
     },
     "execution_count": 16,
     "metadata": {},
     "output_type": "execute_result"
    }
   ],
   "source": [
    "\n",
    "from IPython import display\n",
    "from base64 import b64decode\n",
    "\n",
    "# img_base64=chrome.driver.get_screenshot_as_base64()\n",
    "img_base64=b.screenshot_as_base64\n",
    "display.Image(b64decode(img_base64))\n"
   ],
   "metadata": {
    "collapsed": false,
    "ExecuteTime": {
     "end_time": "2024-09-13T07:14:08.977051Z",
     "start_time": "2024-09-13T07:14:08.673704Z"
    }
   }
  },
  {
   "cell_type": "code",
   "execution_count": 12,
   "outputs": [
    {
     "data": {
      "text/plain": "'https://www.youtube.com/'"
     },
     "execution_count": 12,
     "metadata": {},
     "output_type": "execute_result"
    }
   ],
   "source": [
    "browser.current_url\n",
    "b.click()\n",
    "browser.current_url"
   ],
   "metadata": {
    "collapsed": false,
    "ExecuteTime": {
     "end_time": "2024-09-13T03:45:09.145169Z",
     "start_time": "2024-09-13T03:45:07.131826Z"
    }
   }
  },
  {
   "cell_type": "code",
   "execution_count": 125,
   "outputs": [],
   "source": [
    "header =browser.find_by('div', id_='contents')\n",
    "b=browser.find_by(f\"div[@id='contents']//yt-formatted-string[contains(text(), '{channel_name}')]\")"
   ],
   "metadata": {
    "collapsed": false,
    "ExecuteTime": {
     "end_time": "2024-08-26T16:06:40.276010Z",
     "start_time": "2024-08-26T16:06:40.216291Z"
    }
   }
  },
  {
   "cell_type": "code",
   "execution_count": 117,
   "outputs": [],
   "source": [
    "browser.scroll_to_bottom()"
   ],
   "metadata": {
    "collapsed": false,
    "ExecuteTime": {
     "end_time": "2024-08-26T16:04:42.013103Z",
     "start_time": "2024-08-26T16:04:25.246441Z"
    }
   }
  },
  {
   "cell_type": "code",
   "execution_count": 11,
   "outputs": [],
   "source": [
    "b"
   ],
   "metadata": {
    "collapsed": false,
    "ExecuteTime": {
     "end_time": "2024-08-26T17:02:40.180034Z",
     "start_time": "2024-08-26T17:02:40.172107Z"
    }
   }
  },
  {
   "cell_type": "code",
   "execution_count": 12,
   "outputs": [],
   "source": [
    "browser.scroll_to_element(element=b, header_element=b)\n",
    "browser.scroll(-180)\n"
   ],
   "metadata": {
    "collapsed": false,
    "ExecuteTime": {
     "end_time": "2024-08-26T16:20:56.850562Z",
     "start_time": "2024-08-26T16:20:56.775349Z"
    }
   }
  },
  {
   "cell_type": "code",
   "execution_count": 13,
   "outputs": [
    {
     "ename": "ElementClickInterceptedException",
     "evalue": "Message: element click intercepted: Element <yt-formatted-string respect-lang-dir=\"\" secondary=\"\" class=\"style-scope ytd-account-item-renderer\" dir=\"auto\" style=\"text-align: left;\">...</yt-formatted-string> is not clickable at point (748, 987). Other element would receive the click: <tp-yt-iron-overlay-backdrop opened=\"\" class=\"opened\" style=\"z-index: 2201;\">...</tp-yt-iron-overlay-backdrop>\n  (Session info: chrome=128.0.6613.85)\nStacktrace:\n0   undetected_chromedriver             0x00000001049168b8 undetected_chromedriver + 5179576\n1   undetected_chromedriver             0x000000010490e2ea undetected_chromedriver + 5145322\n2   undetected_chromedriver             0x00000001044852b0 undetected_chromedriver + 389808\n3   undetected_chromedriver             0x00000001044d8096 undetected_chromedriver + 729238\n4   undetected_chromedriver             0x00000001044d5f88 undetected_chromedriver + 720776\n5   undetected_chromedriver             0x00000001044d3a57 undetected_chromedriver + 711255\n6   undetected_chromedriver             0x00000001044d2902 undetected_chromedriver + 706818\n7   undetected_chromedriver             0x00000001044c6496 undetected_chromedriver + 656534\n8   undetected_chromedriver             0x00000001044f37b2 undetected_chromedriver + 841650\n9   undetected_chromedriver             0x00000001044c5e58 undetected_chromedriver + 654936\n10  undetected_chromedriver             0x00000001044f396e undetected_chromedriver + 842094\n11  undetected_chromedriver             0x0000000104510b9b undetected_chromedriver + 961435\n12  undetected_chromedriver             0x00000001044f3553 undetected_chromedriver + 841043\n13  undetected_chromedriver             0x00000001044c47f6 undetected_chromedriver + 649206\n14  undetected_chromedriver             0x00000001044c505e undetected_chromedriver + 651358\n15  undetected_chromedriver             0x00000001048d9b20 undetected_chromedriver + 4930336\n16  undetected_chromedriver             0x00000001048dea36 undetected_chromedriver + 4950582\n17  undetected_chromedriver             0x00000001048df105 undetected_chromedriver + 4952325\n18  undetected_chromedriver             0x00000001048bbee9 undetected_chromedriver + 4808425\n19  undetected_chromedriver             0x00000001048df3f9 undetected_chromedriver + 4953081\n20  undetected_chromedriver             0x00000001048ad844 undetected_chromedriver + 4749380\n21  undetected_chromedriver             0x00000001048fe5c8 undetected_chromedriver + 5080520\n22  undetected_chromedriver             0x00000001048fe787 undetected_chromedriver + 5080967\n23  undetected_chromedriver             0x000000010490dece undetected_chromedriver + 5144270\n24  libsystem_pthread.dylib             0x00007ff803e5418b _pthread_start + 99\n25  libsystem_pthread.dylib             0x00007ff803e4fae3 thread_start + 15\n",
     "output_type": "error",
     "traceback": [
      "\u001B[0;31m---------------------------------------------------------------------------\u001B[0m",
      "\u001B[0;31mElementClickInterceptedException\u001B[0m          Traceback (most recent call last)",
      "Cell \u001B[0;32mIn[13], line 1\u001B[0m\n\u001B[0;32m----> 1\u001B[0m \u001B[43mb\u001B[49m\u001B[38;5;241;43m.\u001B[39;49m\u001B[43mclick\u001B[49m\u001B[43m(\u001B[49m\u001B[43m)\u001B[49m\n",
      "File \u001B[0;32m~/miniforge3/envs/py3/lib/python3.9/site-packages/selenium/webdriver/remote/webelement.py:94\u001B[0m, in \u001B[0;36mWebElement.click\u001B[0;34m(self)\u001B[0m\n\u001B[1;32m     92\u001B[0m \u001B[38;5;28;01mdef\u001B[39;00m \u001B[38;5;21mclick\u001B[39m(\u001B[38;5;28mself\u001B[39m) \u001B[38;5;241m-\u001B[39m\u001B[38;5;241m>\u001B[39m \u001B[38;5;28;01mNone\u001B[39;00m:\n\u001B[1;32m     93\u001B[0m \u001B[38;5;250m    \u001B[39m\u001B[38;5;124;03m\"\"\"Clicks the element.\"\"\"\u001B[39;00m\n\u001B[0;32m---> 94\u001B[0m     \u001B[38;5;28;43mself\u001B[39;49m\u001B[38;5;241;43m.\u001B[39;49m\u001B[43m_execute\u001B[49m\u001B[43m(\u001B[49m\u001B[43mCommand\u001B[49m\u001B[38;5;241;43m.\u001B[39;49m\u001B[43mCLICK_ELEMENT\u001B[49m\u001B[43m)\u001B[49m\n",
      "File \u001B[0;32m~/miniforge3/envs/py3/lib/python3.9/site-packages/selenium/webdriver/remote/webelement.py:395\u001B[0m, in \u001B[0;36mWebElement._execute\u001B[0;34m(self, command, params)\u001B[0m\n\u001B[1;32m    393\u001B[0m     params \u001B[38;5;241m=\u001B[39m {}\n\u001B[1;32m    394\u001B[0m params[\u001B[38;5;124m\"\u001B[39m\u001B[38;5;124mid\u001B[39m\u001B[38;5;124m\"\u001B[39m] \u001B[38;5;241m=\u001B[39m \u001B[38;5;28mself\u001B[39m\u001B[38;5;241m.\u001B[39m_id\n\u001B[0;32m--> 395\u001B[0m \u001B[38;5;28;01mreturn\u001B[39;00m \u001B[38;5;28;43mself\u001B[39;49m\u001B[38;5;241;43m.\u001B[39;49m\u001B[43m_parent\u001B[49m\u001B[38;5;241;43m.\u001B[39;49m\u001B[43mexecute\u001B[49m\u001B[43m(\u001B[49m\u001B[43mcommand\u001B[49m\u001B[43m,\u001B[49m\u001B[43m \u001B[49m\u001B[43mparams\u001B[49m\u001B[43m)\u001B[49m\n",
      "File \u001B[0;32m~/miniforge3/envs/py3/lib/python3.9/site-packages/selenium/webdriver/remote/webdriver.py:345\u001B[0m, in \u001B[0;36mWebDriver.execute\u001B[0;34m(self, driver_command, params)\u001B[0m\n\u001B[1;32m    343\u001B[0m response \u001B[38;5;241m=\u001B[39m \u001B[38;5;28mself\u001B[39m\u001B[38;5;241m.\u001B[39mcommand_executor\u001B[38;5;241m.\u001B[39mexecute(driver_command, params)\n\u001B[1;32m    344\u001B[0m \u001B[38;5;28;01mif\u001B[39;00m response:\n\u001B[0;32m--> 345\u001B[0m     \u001B[38;5;28;43mself\u001B[39;49m\u001B[38;5;241;43m.\u001B[39;49m\u001B[43merror_handler\u001B[49m\u001B[38;5;241;43m.\u001B[39;49m\u001B[43mcheck_response\u001B[49m\u001B[43m(\u001B[49m\u001B[43mresponse\u001B[49m\u001B[43m)\u001B[49m\n\u001B[1;32m    346\u001B[0m     response[\u001B[38;5;124m\"\u001B[39m\u001B[38;5;124mvalue\u001B[39m\u001B[38;5;124m\"\u001B[39m] \u001B[38;5;241m=\u001B[39m \u001B[38;5;28mself\u001B[39m\u001B[38;5;241m.\u001B[39m_unwrap_value(response\u001B[38;5;241m.\u001B[39mget(\u001B[38;5;124m\"\u001B[39m\u001B[38;5;124mvalue\u001B[39m\u001B[38;5;124m\"\u001B[39m, \u001B[38;5;28;01mNone\u001B[39;00m))\n\u001B[1;32m    347\u001B[0m     \u001B[38;5;28;01mreturn\u001B[39;00m response\n",
      "File \u001B[0;32m~/miniforge3/envs/py3/lib/python3.9/site-packages/selenium/webdriver/remote/errorhandler.py:229\u001B[0m, in \u001B[0;36mErrorHandler.check_response\u001B[0;34m(self, response)\u001B[0m\n\u001B[1;32m    227\u001B[0m         alert_text \u001B[38;5;241m=\u001B[39m value[\u001B[38;5;124m\"\u001B[39m\u001B[38;5;124malert\u001B[39m\u001B[38;5;124m\"\u001B[39m]\u001B[38;5;241m.\u001B[39mget(\u001B[38;5;124m\"\u001B[39m\u001B[38;5;124mtext\u001B[39m\u001B[38;5;124m\"\u001B[39m)\n\u001B[1;32m    228\u001B[0m     \u001B[38;5;28;01mraise\u001B[39;00m exception_class(message, screen, stacktrace, alert_text)  \u001B[38;5;66;03m# type: ignore[call-arg]  # mypy is not smart enough here\u001B[39;00m\n\u001B[0;32m--> 229\u001B[0m \u001B[38;5;28;01mraise\u001B[39;00m exception_class(message, screen, stacktrace)\n",
      "\u001B[0;31mElementClickInterceptedException\u001B[0m: Message: element click intercepted: Element <yt-formatted-string respect-lang-dir=\"\" secondary=\"\" class=\"style-scope ytd-account-item-renderer\" dir=\"auto\" style=\"text-align: left;\">...</yt-formatted-string> is not clickable at point (748, 987). Other element would receive the click: <tp-yt-iron-overlay-backdrop opened=\"\" class=\"opened\" style=\"z-index: 2201;\">...</tp-yt-iron-overlay-backdrop>\n  (Session info: chrome=128.0.6613.85)\nStacktrace:\n0   undetected_chromedriver             0x00000001049168b8 undetected_chromedriver + 5179576\n1   undetected_chromedriver             0x000000010490e2ea undetected_chromedriver + 5145322\n2   undetected_chromedriver             0x00000001044852b0 undetected_chromedriver + 389808\n3   undetected_chromedriver             0x00000001044d8096 undetected_chromedriver + 729238\n4   undetected_chromedriver             0x00000001044d5f88 undetected_chromedriver + 720776\n5   undetected_chromedriver             0x00000001044d3a57 undetected_chromedriver + 711255\n6   undetected_chromedriver             0x00000001044d2902 undetected_chromedriver + 706818\n7   undetected_chromedriver             0x00000001044c6496 undetected_chromedriver + 656534\n8   undetected_chromedriver             0x00000001044f37b2 undetected_chromedriver + 841650\n9   undetected_chromedriver             0x00000001044c5e58 undetected_chromedriver + 654936\n10  undetected_chromedriver             0x00000001044f396e undetected_chromedriver + 842094\n11  undetected_chromedriver             0x0000000104510b9b undetected_chromedriver + 961435\n12  undetected_chromedriver             0x00000001044f3553 undetected_chromedriver + 841043\n13  undetected_chromedriver             0x00000001044c47f6 undetected_chromedriver + 649206\n14  undetected_chromedriver             0x00000001044c505e undetected_chromedriver + 651358\n15  undetected_chromedriver             0x00000001048d9b20 undetected_chromedriver + 4930336\n16  undetected_chromedriver             0x00000001048dea36 undetected_chromedriver + 4950582\n17  undetected_chromedriver             0x00000001048df105 undetected_chromedriver + 4952325\n18  undetected_chromedriver             0x00000001048bbee9 undetected_chromedriver + 4808425\n19  undetected_chromedriver             0x00000001048df3f9 undetected_chromedriver + 4953081\n20  undetected_chromedriver             0x00000001048ad844 undetected_chromedriver + 4749380\n21  undetected_chromedriver             0x00000001048fe5c8 undetected_chromedriver + 5080520\n22  undetected_chromedriver             0x00000001048fe787 undetected_chromedriver + 5080967\n23  undetected_chromedriver             0x000000010490dece undetected_chromedriver + 5144270\n24  libsystem_pthread.dylib             0x00007ff803e5418b _pthread_start + 99\n25  libsystem_pthread.dylib             0x00007ff803e4fae3 thread_start + 15\n"
     ]
    }
   ],
   "source": [
    "b.click()"
   ],
   "metadata": {
    "collapsed": false,
    "ExecuteTime": {
     "end_time": "2024-08-26T16:21:00.665216Z",
     "start_time": "2024-08-26T16:20:59.563899Z"
    }
   }
  },
  {
   "cell_type": "code",
   "execution_count": 14,
   "outputs": [],
   "source": [
    "browser.find_by('yt-button-renderer[@id=\"confirm-button\"]',timeout=5).click()"
   ],
   "metadata": {
    "collapsed": false,
    "ExecuteTime": {
     "end_time": "2024-08-26T16:21:33.094295Z",
     "start_time": "2024-08-26T16:21:30.394741Z"
    }
   }
  },
  {
   "cell_type": "code",
   "execution_count": 18,
   "outputs": [
    {
     "data": {
      "text/plain": "'https://www.youtube.com/'"
     },
     "execution_count": 18,
     "metadata": {},
     "output_type": "execute_result"
    }
   ],
   "source": [
    "browser.current_url"
   ],
   "metadata": {
    "collapsed": false,
    "ExecuteTime": {
     "end_time": "2024-08-26T16:22:41.834247Z",
     "start_time": "2024-08-26T16:22:41.816769Z"
    }
   }
  },
  {
   "cell_type": "code",
   "execution_count": 11,
   "outputs": [
    {
     "ename": "ElementClickInterceptedException",
     "evalue": "Message: element click intercepted: Element <yt-formatted-string respect-lang-dir=\"\" secondary=\"\" class=\"style-scope ytd-account-item-renderer\" dir=\"auto\" style=\"text-align: left;\">...</yt-formatted-string> is not clickable at point (748, 987). Other element would receive the click: <tp-yt-iron-overlay-backdrop opened=\"\" class=\"opened\" style=\"z-index: 2201;\">...</tp-yt-iron-overlay-backdrop>\n  (Session info: chrome=128.0.6613.85)\nStacktrace:\n0   undetected_chromedriver             0x00000001049168b8 undetected_chromedriver + 5179576\n1   undetected_chromedriver             0x000000010490e2ea undetected_chromedriver + 5145322\n2   undetected_chromedriver             0x00000001044852b0 undetected_chromedriver + 389808\n3   undetected_chromedriver             0x00000001044d8096 undetected_chromedriver + 729238\n4   undetected_chromedriver             0x00000001044d5f88 undetected_chromedriver + 720776\n5   undetected_chromedriver             0x00000001044d3a57 undetected_chromedriver + 711255\n6   undetected_chromedriver             0x00000001044d2902 undetected_chromedriver + 706818\n7   undetected_chromedriver             0x00000001044c6496 undetected_chromedriver + 656534\n8   undetected_chromedriver             0x00000001044f37b2 undetected_chromedriver + 841650\n9   undetected_chromedriver             0x00000001044c5e58 undetected_chromedriver + 654936\n10  undetected_chromedriver             0x00000001044f396e undetected_chromedriver + 842094\n11  undetected_chromedriver             0x0000000104510b9b undetected_chromedriver + 961435\n12  undetected_chromedriver             0x00000001044f3553 undetected_chromedriver + 841043\n13  undetected_chromedriver             0x00000001044c47f6 undetected_chromedriver + 649206\n14  undetected_chromedriver             0x00000001044c505e undetected_chromedriver + 651358\n15  undetected_chromedriver             0x00000001048d9b20 undetected_chromedriver + 4930336\n16  undetected_chromedriver             0x00000001048dea36 undetected_chromedriver + 4950582\n17  undetected_chromedriver             0x00000001048df105 undetected_chromedriver + 4952325\n18  undetected_chromedriver             0x00000001048bbee9 undetected_chromedriver + 4808425\n19  undetected_chromedriver             0x00000001048df3f9 undetected_chromedriver + 4953081\n20  undetected_chromedriver             0x00000001048ad844 undetected_chromedriver + 4749380\n21  undetected_chromedriver             0x00000001048fe5c8 undetected_chromedriver + 5080520\n22  undetected_chromedriver             0x00000001048fe787 undetected_chromedriver + 5080967\n23  undetected_chromedriver             0x000000010490dece undetected_chromedriver + 5144270\n24  libsystem_pthread.dylib             0x00007ff803e5418b _pthread_start + 99\n25  libsystem_pthread.dylib             0x00007ff803e4fae3 thread_start + 15\n",
     "output_type": "error",
     "traceback": [
      "\u001B[0;31m---------------------------------------------------------------------------\u001B[0m",
      "\u001B[0;31mElementClickInterceptedException\u001B[0m          Traceback (most recent call last)",
      "Cell \u001B[0;32mIn[11], line 1\u001B[0m\n\u001B[0;32m----> 1\u001B[0m \u001B[43mb\u001B[49m\u001B[38;5;241;43m.\u001B[39;49m\u001B[43mclick\u001B[49m\u001B[43m(\u001B[49m\u001B[43m)\u001B[49m\n",
      "File \u001B[0;32m~/miniforge3/envs/py3/lib/python3.9/site-packages/selenium/webdriver/remote/webelement.py:94\u001B[0m, in \u001B[0;36mWebElement.click\u001B[0;34m(self)\u001B[0m\n\u001B[1;32m     92\u001B[0m \u001B[38;5;28;01mdef\u001B[39;00m \u001B[38;5;21mclick\u001B[39m(\u001B[38;5;28mself\u001B[39m) \u001B[38;5;241m-\u001B[39m\u001B[38;5;241m>\u001B[39m \u001B[38;5;28;01mNone\u001B[39;00m:\n\u001B[1;32m     93\u001B[0m \u001B[38;5;250m    \u001B[39m\u001B[38;5;124;03m\"\"\"Clicks the element.\"\"\"\u001B[39;00m\n\u001B[0;32m---> 94\u001B[0m     \u001B[38;5;28;43mself\u001B[39;49m\u001B[38;5;241;43m.\u001B[39;49m\u001B[43m_execute\u001B[49m\u001B[43m(\u001B[49m\u001B[43mCommand\u001B[49m\u001B[38;5;241;43m.\u001B[39;49m\u001B[43mCLICK_ELEMENT\u001B[49m\u001B[43m)\u001B[49m\n",
      "File \u001B[0;32m~/miniforge3/envs/py3/lib/python3.9/site-packages/selenium/webdriver/remote/webelement.py:395\u001B[0m, in \u001B[0;36mWebElement._execute\u001B[0;34m(self, command, params)\u001B[0m\n\u001B[1;32m    393\u001B[0m     params \u001B[38;5;241m=\u001B[39m {}\n\u001B[1;32m    394\u001B[0m params[\u001B[38;5;124m\"\u001B[39m\u001B[38;5;124mid\u001B[39m\u001B[38;5;124m\"\u001B[39m] \u001B[38;5;241m=\u001B[39m \u001B[38;5;28mself\u001B[39m\u001B[38;5;241m.\u001B[39m_id\n\u001B[0;32m--> 395\u001B[0m \u001B[38;5;28;01mreturn\u001B[39;00m \u001B[38;5;28;43mself\u001B[39;49m\u001B[38;5;241;43m.\u001B[39;49m\u001B[43m_parent\u001B[49m\u001B[38;5;241;43m.\u001B[39;49m\u001B[43mexecute\u001B[49m\u001B[43m(\u001B[49m\u001B[43mcommand\u001B[49m\u001B[43m,\u001B[49m\u001B[43m \u001B[49m\u001B[43mparams\u001B[49m\u001B[43m)\u001B[49m\n",
      "File \u001B[0;32m~/miniforge3/envs/py3/lib/python3.9/site-packages/selenium/webdriver/remote/webdriver.py:345\u001B[0m, in \u001B[0;36mWebDriver.execute\u001B[0;34m(self, driver_command, params)\u001B[0m\n\u001B[1;32m    343\u001B[0m response \u001B[38;5;241m=\u001B[39m \u001B[38;5;28mself\u001B[39m\u001B[38;5;241m.\u001B[39mcommand_executor\u001B[38;5;241m.\u001B[39mexecute(driver_command, params)\n\u001B[1;32m    344\u001B[0m \u001B[38;5;28;01mif\u001B[39;00m response:\n\u001B[0;32m--> 345\u001B[0m     \u001B[38;5;28;43mself\u001B[39;49m\u001B[38;5;241;43m.\u001B[39;49m\u001B[43merror_handler\u001B[49m\u001B[38;5;241;43m.\u001B[39;49m\u001B[43mcheck_response\u001B[49m\u001B[43m(\u001B[49m\u001B[43mresponse\u001B[49m\u001B[43m)\u001B[49m\n\u001B[1;32m    346\u001B[0m     response[\u001B[38;5;124m\"\u001B[39m\u001B[38;5;124mvalue\u001B[39m\u001B[38;5;124m\"\u001B[39m] \u001B[38;5;241m=\u001B[39m \u001B[38;5;28mself\u001B[39m\u001B[38;5;241m.\u001B[39m_unwrap_value(response\u001B[38;5;241m.\u001B[39mget(\u001B[38;5;124m\"\u001B[39m\u001B[38;5;124mvalue\u001B[39m\u001B[38;5;124m\"\u001B[39m, \u001B[38;5;28;01mNone\u001B[39;00m))\n\u001B[1;32m    347\u001B[0m     \u001B[38;5;28;01mreturn\u001B[39;00m response\n",
      "File \u001B[0;32m~/miniforge3/envs/py3/lib/python3.9/site-packages/selenium/webdriver/remote/errorhandler.py:229\u001B[0m, in \u001B[0;36mErrorHandler.check_response\u001B[0;34m(self, response)\u001B[0m\n\u001B[1;32m    227\u001B[0m         alert_text \u001B[38;5;241m=\u001B[39m value[\u001B[38;5;124m\"\u001B[39m\u001B[38;5;124malert\u001B[39m\u001B[38;5;124m\"\u001B[39m]\u001B[38;5;241m.\u001B[39mget(\u001B[38;5;124m\"\u001B[39m\u001B[38;5;124mtext\u001B[39m\u001B[38;5;124m\"\u001B[39m)\n\u001B[1;32m    228\u001B[0m     \u001B[38;5;28;01mraise\u001B[39;00m exception_class(message, screen, stacktrace, alert_text)  \u001B[38;5;66;03m# type: ignore[call-arg]  # mypy is not smart enough here\u001B[39;00m\n\u001B[0;32m--> 229\u001B[0m \u001B[38;5;28;01mraise\u001B[39;00m exception_class(message, screen, stacktrace)\n",
      "\u001B[0;31mElementClickInterceptedException\u001B[0m: Message: element click intercepted: Element <yt-formatted-string respect-lang-dir=\"\" secondary=\"\" class=\"style-scope ytd-account-item-renderer\" dir=\"auto\" style=\"text-align: left;\">...</yt-formatted-string> is not clickable at point (748, 987). Other element would receive the click: <tp-yt-iron-overlay-backdrop opened=\"\" class=\"opened\" style=\"z-index: 2201;\">...</tp-yt-iron-overlay-backdrop>\n  (Session info: chrome=128.0.6613.85)\nStacktrace:\n0   undetected_chromedriver             0x00000001049168b8 undetected_chromedriver + 5179576\n1   undetected_chromedriver             0x000000010490e2ea undetected_chromedriver + 5145322\n2   undetected_chromedriver             0x00000001044852b0 undetected_chromedriver + 389808\n3   undetected_chromedriver             0x00000001044d8096 undetected_chromedriver + 729238\n4   undetected_chromedriver             0x00000001044d5f88 undetected_chromedriver + 720776\n5   undetected_chromedriver             0x00000001044d3a57 undetected_chromedriver + 711255\n6   undetected_chromedriver             0x00000001044d2902 undetected_chromedriver + 706818\n7   undetected_chromedriver             0x00000001044c6496 undetected_chromedriver + 656534\n8   undetected_chromedriver             0x00000001044f37b2 undetected_chromedriver + 841650\n9   undetected_chromedriver             0x00000001044c5e58 undetected_chromedriver + 654936\n10  undetected_chromedriver             0x00000001044f396e undetected_chromedriver + 842094\n11  undetected_chromedriver             0x0000000104510b9b undetected_chromedriver + 961435\n12  undetected_chromedriver             0x00000001044f3553 undetected_chromedriver + 841043\n13  undetected_chromedriver             0x00000001044c47f6 undetected_chromedriver + 649206\n14  undetected_chromedriver             0x00000001044c505e undetected_chromedriver + 651358\n15  undetected_chromedriver             0x00000001048d9b20 undetected_chromedriver + 4930336\n16  undetected_chromedriver             0x00000001048dea36 undetected_chromedriver + 4950582\n17  undetected_chromedriver             0x00000001048df105 undetected_chromedriver + 4952325\n18  undetected_chromedriver             0x00000001048bbee9 undetected_chromedriver + 4808425\n19  undetected_chromedriver             0x00000001048df3f9 undetected_chromedriver + 4953081\n20  undetected_chromedriver             0x00000001048ad844 undetected_chromedriver + 4749380\n21  undetected_chromedriver             0x00000001048fe5c8 undetected_chromedriver + 5080520\n22  undetected_chromedriver             0x00000001048fe787 undetected_chromedriver + 5080967\n23  undetected_chromedriver             0x000000010490dece undetected_chromedriver + 5144270\n24  libsystem_pthread.dylib             0x00007ff803e5418b _pthread_start + 99\n25  libsystem_pthread.dylib             0x00007ff803e4fae3 thread_start + 15\n"
     ]
    }
   ],
   "source": [
    "b.click()"
   ],
   "metadata": {
    "collapsed": false,
    "ExecuteTime": {
     "end_time": "2024-08-26T16:20:49.331534Z",
     "start_time": "2024-08-26T16:20:48.148458Z"
    }
   }
  },
  {
   "cell_type": "code",
   "execution_count": 8,
   "outputs": [
    {
     "data": {
      "text/plain": "{'height': 0, 'width': 1512}"
     },
     "execution_count": 8,
     "metadata": {},
     "output_type": "execute_result"
    }
   ],
   "source": [
    "browser.find_by('ytd-permission-role-bottom-bar-renderer').size"
   ],
   "metadata": {
    "collapsed": false,
    "ExecuteTime": {
     "end_time": "2024-08-26T14:25:11.633506Z",
     "start_time": "2024-08-26T14:25:11.557803Z"
    }
   }
  },
  {
   "cell_type": "code",
   "execution_count": 19,
   "outputs": [
    {
     "data": {
      "text/plain": "'@唯快不破'"
     },
     "execution_count": 19,
     "metadata": {},
     "output_type": "execute_result"
    }
   ],
   "source": [
    "browser.find_by(\"*\",id_=\"avatar-btn\").click()\n",
    "chrome.find_by('yt-formatted-string',id_='channel-handle').text"
   ],
   "metadata": {
    "collapsed": false,
    "ExecuteTime": {
     "end_time": "2024-08-26T16:24:18.318100Z",
     "start_time": "2024-08-26T16:24:17.645263Z"
    }
   }
  },
  {
   "cell_type": "code",
   "execution_count": 3,
   "outputs": [
    {
     "ename": "TypeError",
     "evalue": "object of type 'NoneType' has no len()",
     "output_type": "error",
     "traceback": [
      "\u001B[0;31m---------------------------------------------------------------------------\u001B[0m",
      "\u001B[0;31mTypeError\u001B[0m                                 Traceback (most recent call last)",
      "Cell \u001B[0;32mIn[3], line 4\u001B[0m\n\u001B[1;32m      2\u001B[0m channel_name\u001B[38;5;241m=\u001B[39m\u001B[38;5;124m'\u001B[39m\u001B[38;5;124m@行你上\u001B[39m\u001B[38;5;124m'\u001B[39m\n\u001B[1;32m      3\u001B[0m a\u001B[38;5;241m=\u001B[39mchrome\u001B[38;5;241m.\u001B[39mfind_all_by(\u001B[38;5;124mf\u001B[39m\u001B[38;5;124m\"\u001B[39m\u001B[38;5;124m*[contains(text(), \u001B[39m\u001B[38;5;124m'\u001B[39m\u001B[38;5;132;01m{\u001B[39;00mchannel_name\u001B[38;5;132;01m}\u001B[39;00m\u001B[38;5;124m'\u001B[39m\u001B[38;5;124m)]/../..\u001B[39m\u001B[38;5;124m\"\u001B[39m)\n\u001B[0;32m----> 4\u001B[0m \u001B[38;5;28;01mif\u001B[39;00m \u001B[38;5;28;43mlen\u001B[39;49m\u001B[43m(\u001B[49m\u001B[43ma\u001B[49m\u001B[43m)\u001B[49m\u001B[38;5;241m>\u001B[39m\u001B[38;5;241m0\u001B[39m:\n\u001B[1;32m      5\u001B[0m     a[\u001B[38;5;241m0\u001B[39m]\u001B[38;5;241m.\u001B[39mclick()\n",
      "\u001B[0;31mTypeError\u001B[0m: object of type 'NoneType' has no len()"
     ]
    }
   ],
   "source": [
    "# channel_name='@voyageivi'\n",
    "channel_name='@你行你上'\n",
    "a=chrome.find_all_by(f\"*[contains(text(), '{channel_name}')]/../..\")\n",
    "if len(a)>0:\n",
    "    a[0].click()"
   ],
   "metadata": {
    "collapsed": false,
    "ExecuteTime": {
     "end_time": "2024-08-26T08:59:35.967167Z",
     "start_time": "2024-08-26T08:59:33.213013Z"
    }
   }
  },
  {
   "cell_type": "code",
   "execution_count": 7,
   "outputs": [],
   "source": [
    "channel_name='@vlog7551'\n",
    "a=chrome.find_by(f\"yt-formatted-string[contains(text(), '{channel_name}')]\")"
   ],
   "metadata": {
    "collapsed": false,
    "ExecuteTime": {
     "end_time": "2024-08-22T14:14:49.217155Z",
     "start_time": "2024-08-22T14:14:49.172543Z"
    }
   }
  },
  {
   "cell_type": "code",
   "execution_count": 8,
   "outputs": [],
   "source": [
    "a.click()"
   ],
   "metadata": {
    "collapsed": false,
    "ExecuteTime": {
     "end_time": "2024-08-22T14:14:56.797310Z",
     "start_time": "2024-08-22T14:14:52.676048Z"
    }
   }
  },
  {
   "cell_type": "code",
   "execution_count": 25,
   "outputs": [],
   "source": [
    "from xpath_utils import XPathUtils, XPathCondition, XPathConditionRelation"
   ],
   "metadata": {
    "collapsed": false,
    "ExecuteTime": {
     "end_time": "2024-08-22T10:01:55.532847Z",
     "start_time": "2024-08-22T10:01:55.515676Z"
    }
   }
  },
  {
   "cell_type": "code",
   "execution_count": 28,
   "outputs": [
    {
     "data": {
      "text/plain": "'////div[@contain(text(),\"a\"'"
     },
     "execution_count": 28,
     "metadata": {},
     "output_type": "execute_result"
    }
   ],
   "source": [
    "XPathUtils.generate_xpath('//div[@contain(text(),\"a\"')"
   ],
   "metadata": {
    "collapsed": false,
    "ExecuteTime": {
     "end_time": "2024-08-22T10:02:58.399873Z",
     "start_time": "2024-08-22T10:02:58.389778Z"
    }
   }
  },
  {
   "cell_type": "code",
   "execution_count": 2,
   "outputs": [
    {
     "name": "stdout",
     "output_type": "stream",
     "text": [
      "Switch channel: @vlog7551\n",
      "__dismiss_welcome_popup_2\n",
      "__dismiss_welcome_popup\n",
      "__dismiss_callouts\n",
      "move_to_element: None element passed\n",
      "Youtube - cookies - Upload: uploaded video\n",
      "Youtube - cookies - Sleeping extra 5 seconds\n",
      "__dismiss_welcome_popup_2\n",
      "__dismiss_welcome_popup\n",
      "__dismiss_callouts\n",
      "__dismiss_welcome_popup_2\n",
      "__dismiss_welcome_popup\n",
      "__dismiss_callouts\n",
      "Youtube - cookies - Upload: added title\n",
      "Youtube - cookies - Upload: added description\n",
      "Youtube - cookies - Upload: clicked more options\n",
      "__dismiss_welcome_popup_2\n",
      "__dismiss_welcome_popup\n",
      "__dismiss_callouts\n",
      "Youtube - cookies - Upload: added tags\n",
      "Youtube - cookies - Upload: did set VIDEO_MADE_FOR_KIDS_NOT_MFK\n",
      "Youtube - cookies - Upload: clicked first next\n",
      "__dismiss_callouts\n",
      "Youtube - cookies - Upload: clicked second next\n",
      "__dismiss_callouts\n",
      "third_next: aria-disabled: false | is_displayed: True | is_enabled: True\n",
      "Youtube - cookies - Upload: Clicking third next\n",
      "Youtube - cookies - Upload: Clicked third next\n",
      "Youtube - cookies - Upload: set to PRIVATE\n",
      "Youtube - cookies - Upload: published\n"
     ]
    }
   ],
   "source": [
    "from selenium_youtube import Visibility\n",
    "\n",
    "mp4_file = '/Users/vincent/tmp/bilibili/video/508959410/none_20240404_反杀白男、诈骗光棍，越南如何成为世界第三？【世界奇葩史】/none_20240404_反杀白男、诈骗光棍，越南如何成为世界第三？【世界奇葩史】.mp4'\n",
    "upload_result = youtube.upload(mp4_file,\n",
    "                               'titleTest',\n",
    "                               'descriptionTest', ['tag1', 'tag2'],\n",
    "                               extra_sleep_after_upload=5,\n",
    "                               thumbnail_image_path=None,\n",
    "                               visibility=Visibility.PRIVATE,\n",
    "                               channel_name='@vlog7551',\n",
    "                               )\n"
   ],
   "metadata": {
    "collapsed": false,
    "ExecuteTime": {
     "end_time": "2024-09-06T09:26:21.066899Z",
     "start_time": "2024-09-06T09:24:15.541298Z"
    }
   }
  },
  {
   "cell_type": "code",
   "execution_count": 3,
   "outputs": [
    {
     "data": {
      "text/plain": "(False, 'cant switch channel')"
     },
     "execution_count": 3,
     "metadata": {},
     "output_type": "execute_result"
    }
   ],
   "source": [
    "upload_result"
   ],
   "metadata": {
    "collapsed": false,
    "ExecuteTime": {
     "end_time": "2024-09-06T08:04:08.112730Z",
     "start_time": "2024-09-06T08:04:08.107850Z"
    }
   }
  },
  {
   "cell_type": "code",
   "execution_count": 3,
   "outputs": [
    {
     "data": {
      "text/plain": "True"
     },
     "execution_count": 3,
     "metadata": {},
     "output_type": "execute_result"
    }
   ],
   "source": [
    "upload_progress = browser.find_by('tp-yt-paper-progress',\n",
    "                                       class_=\"style-scope ytcp-video-upload-progress-hover\")\n",
    "attriutes = browser.get_attributes(upload_progress)"
   ],
   "metadata": {
    "collapsed": false,
    "ExecuteTime": {
     "end_time": "2024-08-24T08:23:28.975869Z",
     "start_time": "2024-08-24T08:23:27.482347Z"
    }
   }
  },
  {
   "cell_type": "code",
   "execution_count": 5,
   "outputs": [
    {
     "data": {
      "text/plain": "<undetected_chromedriver.webelement.WebElement (session=\"a717ff48ed824c22a9f4c498d3860940\", element=\"f.0FF45AD2B2AD55D49B58F15478DAD5E7.d.3E1E06D09F6A0C6AD348CF0D3452B337.e.220\")>"
     },
     "execution_count": 5,
     "metadata": {},
     "output_type": "execute_result"
    }
   ],
   "source": [
    "browser.find_by('div', class_='error-short style-scope ytcp-uploads-dialog', timeout=10)"
   ],
   "metadata": {
    "collapsed": false,
    "ExecuteTime": {
     "end_time": "2024-09-05T14:00:54.117078Z",
     "start_time": "2024-09-05T14:00:54.072763Z"
    }
   }
  },
  {
   "cell_type": "code",
   "execution_count": null,
   "outputs": [],
   "source": [],
   "metadata": {
    "collapsed": false
   }
  },
  {
   "cell_type": "code",
   "execution_count": 10,
   "outputs": [
    {
     "ename": "AttributeError",
     "evalue": "'Youtube' object has no attribute '__dismiss_welcome_popups'",
     "output_type": "error",
     "traceback": [
      "\u001B[0;31m---------------------------------------------------------------------------\u001B[0m",
      "\u001B[0;31mAttributeError\u001B[0m                            Traceback (most recent call last)",
      "Cell \u001B[0;32mIn[10], line 1\u001B[0m\n\u001B[0;32m----> 1\u001B[0m \u001B[43myoutube\u001B[49m\u001B[38;5;241;43m.\u001B[39;49m\u001B[43m__dismiss_welcome_popups\u001B[49m(timeout\u001B[38;5;241m=\u001B[39m\u001B[38;5;241m3\u001B[39m)\n",
      "\u001B[0;31mAttributeError\u001B[0m: 'Youtube' object has no attribute '__dismiss_welcome_popups'"
     ]
    }
   ],
   "source": [
    "youtube.__dismiss_welcome_popups(timeout=3)"
   ],
   "metadata": {
    "collapsed": false,
    "ExecuteTime": {
     "end_time": "2024-08-22T14:20:46.587356Z",
     "start_time": "2024-08-22T14:20:46.339678Z"
    }
   }
  },
  {
   "cell_type": "code",
   "execution_count": 11,
   "outputs": [
    {
     "data": {
      "text/plain": "<selenium_youtube.youtube.Youtube at 0x110a90ac0>"
     },
     "execution_count": 11,
     "metadata": {},
     "output_type": "execute_result"
    }
   ],
   "source": [
    "youtube"
   ],
   "metadata": {
    "collapsed": false,
    "ExecuteTime": {
     "end_time": "2024-08-22T14:20:54.161773Z",
     "start_time": "2024-08-22T14:20:54.136911Z"
    }
   }
  },
  {
   "cell_type": "code",
   "execution_count": 14,
   "outputs": [
    {
     "name": "stdout",
     "output_type": "stream",
     "text": [
      "move_to_element: None element passed\n"
     ]
    }
   ],
   "source": [
    "youtube._input_file('/Users/vincent/tmp/bilibili/video/508959410/BV1w4421S7y8/BV1w4421S7y8.mp4')"
   ],
   "metadata": {
    "collapsed": false,
    "ExecuteTime": {
     "end_time": "2024-08-22T14:23:48.006948Z",
     "start_time": "2024-08-22T14:23:45.282876Z"
    }
   }
  },
  {
   "cell_type": "code",
   "execution_count": 20,
   "outputs": [],
   "source": [
    "\n",
    "\n",
    "kids_section=chrome.find('name','VIDEO_MADE_FOR_KIDS_MFK')\n",
    "browser.find(\"id\", 'radioLabel', kids_section).click()"
   ],
   "metadata": {
    "collapsed": false,
    "ExecuteTime": {
     "end_time": "2024-08-22T14:28:45.660686Z",
     "start_time": "2024-08-22T14:28:45.507169Z"
    }
   }
  },
  {
   "cell_type": "code",
   "execution_count": 23,
   "outputs": [],
   "source": [
    "browser.find_by('ytcp-button', id='next-button').click()"
   ],
   "metadata": {
    "collapsed": false,
    "ExecuteTime": {
     "end_time": "2024-08-22T14:29:20.747206Z",
     "start_time": "2024-08-22T14:29:20.605307Z"
    }
   }
  },
  {
   "cell_type": "code",
   "execution_count": 28,
   "outputs": [],
   "source": [
    "btn_second_container=browser.find(\"id\",\"second-container-expand-button\")\n",
    "btn_second_container.click()"
   ],
   "metadata": {
    "collapsed": false,
    "ExecuteTime": {
     "end_time": "2024-08-22T14:32:22.604855Z",
     "start_time": "2024-08-22T14:32:22.425658Z"
    }
   }
  },
  {
   "cell_type": "code",
   "execution_count": 27,
   "outputs": [
    {
     "data": {
      "text/plain": "<undetected_chromedriver.webelement.WebElement (session=\"f8a7624337ab8059201fdd040bb1d32a\", element=\"f.F9654707872BB305974093F8FE335A72.d.CBB0590FD06D2B428EC17BDA14FD2DC3.e.214\")>"
     },
     "execution_count": 27,
     "metadata": {},
     "output_type": "execute_result"
    }
   ],
   "source": [
    "btn_second_container"
   ],
   "metadata": {
    "collapsed": false,
    "ExecuteTime": {
     "end_time": "2024-08-22T14:32:15.747033Z",
     "start_time": "2024-08-22T14:32:15.733231Z"
    }
   }
  },
  {
   "cell_type": "code",
   "execution_count": 5,
   "outputs": [
    {
     "ename": "AttributeError",
     "evalue": "'NoneType' object has no attribute 'click'",
     "output_type": "error",
     "traceback": [
      "\u001B[0;31m---------------------------------------------------------------------------\u001B[0m",
      "\u001B[0;31mAttributeError\u001B[0m                            Traceback (most recent call last)",
      "Cell \u001B[0;32mIn[5], line 3\u001B[0m\n\u001B[1;32m      1\u001B[0m public_form\u001B[38;5;241m=\u001B[39mbrowser\u001B[38;5;241m.\u001B[39mfind(\u001B[38;5;124m\"\u001B[39m\u001B[38;5;124mid\u001B[39m\u001B[38;5;124m\"\u001B[39m,\u001B[38;5;124m\"\u001B[39m\u001B[38;5;124mpublish-from-private-non-sponsor-selector\u001B[39m\u001B[38;5;124m\"\u001B[39m)\n\u001B[1;32m      2\u001B[0m trigger1\u001B[38;5;241m=\u001B[39mbrowser\u001B[38;5;241m.\u001B[39mfind_by(\u001B[38;5;124m'\u001B[39m\u001B[38;5;124mytcp-dropdown-trigger\u001B[39m\u001B[38;5;124m'\u001B[39m,in_element\u001B[38;5;241m=\u001B[39mpublic_form)\n\u001B[0;32m----> 3\u001B[0m \u001B[43mtrigger1\u001B[49m\u001B[38;5;241;43m.\u001B[39;49m\u001B[43mclick\u001B[49m()\n",
      "\u001B[0;31mAttributeError\u001B[0m: 'NoneType' object has no attribute 'click'"
     ]
    }
   ],
   "source": [
    "public_form=browser.find(\"id\",\"publish-from-private-non-sponsor-selector\")\n",
    "trigger1=browser.find_by('ytcp-dropdown-trigger',in_element=public_form)\n",
    "trigger1.click()"
   ],
   "metadata": {
    "collapsed": false,
    "ExecuteTime": {
     "end_time": "2024-08-24T07:36:44.308085Z",
     "start_time": "2024-08-24T07:36:41.732686Z"
    }
   }
  },
  {
   "cell_type": "code",
   "execution_count": 5,
   "outputs": [
    {
     "ename": "ElementNotInteractableException",
     "evalue": "Message: element not interactable\n  (Session info: chrome=128.0.6613.85)\nStacktrace:\n0   undetected_chromedriver             0x000000010147e2a8 undetected_chromedriver + 5096104\n1   undetected_chromedriver             0x0000000101475ada undetected_chromedriver + 5061338\n2   undetected_chromedriver             0x0000000101000e01 undetected_chromedriver + 388609\n3   undetected_chromedriver             0x000000010104ea85 undetected_chromedriver + 707205\n4   undetected_chromedriver             0x00000001010428c6 undetected_chromedriver + 657606\n5   undetected_chromedriver             0x0000000101071ef2 undetected_chromedriver + 851698\n6   undetected_chromedriver             0x0000000101042288 undetected_chromedriver + 656008\n7   undetected_chromedriver             0x00000001010720ae undetected_chromedriver + 852142\n8   undetected_chromedriver             0x000000010108f250 undetected_chromedriver + 971344\n9   undetected_chromedriver             0x0000000101071c93 undetected_chromedriver + 851091\n10  undetected_chromedriver             0x0000000101040c79 undetected_chromedriver + 650361\n11  undetected_chromedriver             0x000000010104149e undetected_chromedriver + 652446\n12  undetected_chromedriver             0x0000000101441020 undetected_chromedriver + 4845600\n13  undetected_chromedriver             0x0000000101445f38 undetected_chromedriver + 4865848\n14  undetected_chromedriver             0x0000000101446605 undetected_chromedriver + 4867589\n15  undetected_chromedriver             0x0000000101423c59 undetected_chromedriver + 4725849\n16  undetected_chromedriver             0x00000001014468f9 undetected_chromedriver + 4868345\n17  undetected_chromedriver             0x0000000101415b74 undetected_chromedriver + 4668276\n18  undetected_chromedriver             0x0000000101465dd8 undetected_chromedriver + 4996568\n19  undetected_chromedriver             0x0000000101465fd7 undetected_chromedriver + 4997079\n20  undetected_chromedriver             0x00000001014756de undetected_chromedriver + 5060318\n21  libsystem_pthread.dylib             0x00007ff803e5418b _pthread_start + 99\n22  libsystem_pthread.dylib             0x00007ff803e4fae3 thread_start + 15\n",
     "output_type": "error",
     "traceback": [
      "\u001B[0;31m---------------------------------------------------------------------------\u001B[0m",
      "\u001B[0;31mElementNotInteractableException\u001B[0m           Traceback (most recent call last)",
      "Cell \u001B[0;32mIn[5], line 4\u001B[0m\n\u001B[1;32m      1\u001B[0m \u001B[38;5;28;01mfrom\u001B[39;00m \u001B[38;5;21;01mselenium\u001B[39;00m\u001B[38;5;21;01m.\u001B[39;00m\u001B[38;5;21;01mwebdriver\u001B[39;00m\u001B[38;5;21;01m.\u001B[39;00m\u001B[38;5;21;01mcommon\u001B[39;00m\u001B[38;5;21;01m.\u001B[39;00m\u001B[38;5;21;01mby\u001B[39;00m \u001B[38;5;28;01mimport\u001B[39;00m By\n\u001B[1;32m      3\u001B[0m btn_second_container \u001B[38;5;241m=\u001B[39m browser\u001B[38;5;241m.\u001B[39mfind(By\u001B[38;5;241m.\u001B[39mID, \u001B[38;5;124m\"\u001B[39m\u001B[38;5;124msecond-container-expand-button\u001B[39m\u001B[38;5;124m\"\u001B[39m)\n\u001B[0;32m----> 4\u001B[0m \u001B[43mbtn_second_container\u001B[49m\u001B[38;5;241;43m.\u001B[39;49m\u001B[43mclick\u001B[49m\u001B[43m(\u001B[49m\u001B[43m)\u001B[49m\n",
      "File \u001B[0;32m~/miniforge3/envs/py3/lib/python3.9/site-packages/selenium/webdriver/remote/webelement.py:94\u001B[0m, in \u001B[0;36mWebElement.click\u001B[0;34m(self)\u001B[0m\n\u001B[1;32m     92\u001B[0m \u001B[38;5;28;01mdef\u001B[39;00m \u001B[38;5;21mclick\u001B[39m(\u001B[38;5;28mself\u001B[39m) \u001B[38;5;241m-\u001B[39m\u001B[38;5;241m>\u001B[39m \u001B[38;5;28;01mNone\u001B[39;00m:\n\u001B[1;32m     93\u001B[0m \u001B[38;5;250m    \u001B[39m\u001B[38;5;124;03m\"\"\"Clicks the element.\"\"\"\u001B[39;00m\n\u001B[0;32m---> 94\u001B[0m     \u001B[38;5;28;43mself\u001B[39;49m\u001B[38;5;241;43m.\u001B[39;49m\u001B[43m_execute\u001B[49m\u001B[43m(\u001B[49m\u001B[43mCommand\u001B[49m\u001B[38;5;241;43m.\u001B[39;49m\u001B[43mCLICK_ELEMENT\u001B[49m\u001B[43m)\u001B[49m\n",
      "File \u001B[0;32m~/miniforge3/envs/py3/lib/python3.9/site-packages/selenium/webdriver/remote/webelement.py:395\u001B[0m, in \u001B[0;36mWebElement._execute\u001B[0;34m(self, command, params)\u001B[0m\n\u001B[1;32m    393\u001B[0m     params \u001B[38;5;241m=\u001B[39m {}\n\u001B[1;32m    394\u001B[0m params[\u001B[38;5;124m\"\u001B[39m\u001B[38;5;124mid\u001B[39m\u001B[38;5;124m\"\u001B[39m] \u001B[38;5;241m=\u001B[39m \u001B[38;5;28mself\u001B[39m\u001B[38;5;241m.\u001B[39m_id\n\u001B[0;32m--> 395\u001B[0m \u001B[38;5;28;01mreturn\u001B[39;00m \u001B[38;5;28;43mself\u001B[39;49m\u001B[38;5;241;43m.\u001B[39;49m\u001B[43m_parent\u001B[49m\u001B[38;5;241;43m.\u001B[39;49m\u001B[43mexecute\u001B[49m\u001B[43m(\u001B[49m\u001B[43mcommand\u001B[49m\u001B[43m,\u001B[49m\u001B[43m \u001B[49m\u001B[43mparams\u001B[49m\u001B[43m)\u001B[49m\n",
      "File \u001B[0;32m~/miniforge3/envs/py3/lib/python3.9/site-packages/selenium/webdriver/remote/webdriver.py:345\u001B[0m, in \u001B[0;36mWebDriver.execute\u001B[0;34m(self, driver_command, params)\u001B[0m\n\u001B[1;32m    343\u001B[0m response \u001B[38;5;241m=\u001B[39m \u001B[38;5;28mself\u001B[39m\u001B[38;5;241m.\u001B[39mcommand_executor\u001B[38;5;241m.\u001B[39mexecute(driver_command, params)\n\u001B[1;32m    344\u001B[0m \u001B[38;5;28;01mif\u001B[39;00m response:\n\u001B[0;32m--> 345\u001B[0m     \u001B[38;5;28;43mself\u001B[39;49m\u001B[38;5;241;43m.\u001B[39;49m\u001B[43merror_handler\u001B[49m\u001B[38;5;241;43m.\u001B[39;49m\u001B[43mcheck_response\u001B[49m\u001B[43m(\u001B[49m\u001B[43mresponse\u001B[49m\u001B[43m)\u001B[49m\n\u001B[1;32m    346\u001B[0m     response[\u001B[38;5;124m\"\u001B[39m\u001B[38;5;124mvalue\u001B[39m\u001B[38;5;124m\"\u001B[39m] \u001B[38;5;241m=\u001B[39m \u001B[38;5;28mself\u001B[39m\u001B[38;5;241m.\u001B[39m_unwrap_value(response\u001B[38;5;241m.\u001B[39mget(\u001B[38;5;124m\"\u001B[39m\u001B[38;5;124mvalue\u001B[39m\u001B[38;5;124m\"\u001B[39m, \u001B[38;5;28;01mNone\u001B[39;00m))\n\u001B[1;32m    347\u001B[0m     \u001B[38;5;28;01mreturn\u001B[39;00m response\n",
      "File \u001B[0;32m~/miniforge3/envs/py3/lib/python3.9/site-packages/selenium/webdriver/remote/errorhandler.py:229\u001B[0m, in \u001B[0;36mErrorHandler.check_response\u001B[0;34m(self, response)\u001B[0m\n\u001B[1;32m    227\u001B[0m         alert_text \u001B[38;5;241m=\u001B[39m value[\u001B[38;5;124m\"\u001B[39m\u001B[38;5;124malert\u001B[39m\u001B[38;5;124m\"\u001B[39m]\u001B[38;5;241m.\u001B[39mget(\u001B[38;5;124m\"\u001B[39m\u001B[38;5;124mtext\u001B[39m\u001B[38;5;124m\"\u001B[39m)\n\u001B[1;32m    228\u001B[0m     \u001B[38;5;28;01mraise\u001B[39;00m exception_class(message, screen, stacktrace, alert_text)  \u001B[38;5;66;03m# type: ignore[call-arg]  # mypy is not smart enough here\u001B[39;00m\n\u001B[0;32m--> 229\u001B[0m \u001B[38;5;28;01mraise\u001B[39;00m exception_class(message, screen, stacktrace)\n",
      "\u001B[0;31mElementNotInteractableException\u001B[0m: Message: element not interactable\n  (Session info: chrome=128.0.6613.85)\nStacktrace:\n0   undetected_chromedriver             0x000000010147e2a8 undetected_chromedriver + 5096104\n1   undetected_chromedriver             0x0000000101475ada undetected_chromedriver + 5061338\n2   undetected_chromedriver             0x0000000101000e01 undetected_chromedriver + 388609\n3   undetected_chromedriver             0x000000010104ea85 undetected_chromedriver + 707205\n4   undetected_chromedriver             0x00000001010428c6 undetected_chromedriver + 657606\n5   undetected_chromedriver             0x0000000101071ef2 undetected_chromedriver + 851698\n6   undetected_chromedriver             0x0000000101042288 undetected_chromedriver + 656008\n7   undetected_chromedriver             0x00000001010720ae undetected_chromedriver + 852142\n8   undetected_chromedriver             0x000000010108f250 undetected_chromedriver + 971344\n9   undetected_chromedriver             0x0000000101071c93 undetected_chromedriver + 851091\n10  undetected_chromedriver             0x0000000101040c79 undetected_chromedriver + 650361\n11  undetected_chromedriver             0x000000010104149e undetected_chromedriver + 652446\n12  undetected_chromedriver             0x0000000101441020 undetected_chromedriver + 4845600\n13  undetected_chromedriver             0x0000000101445f38 undetected_chromedriver + 4865848\n14  undetected_chromedriver             0x0000000101446605 undetected_chromedriver + 4867589\n15  undetected_chromedriver             0x0000000101423c59 undetected_chromedriver + 4725849\n16  undetected_chromedriver             0x00000001014468f9 undetected_chromedriver + 4868345\n17  undetected_chromedriver             0x0000000101415b74 undetected_chromedriver + 4668276\n18  undetected_chromedriver             0x0000000101465dd8 undetected_chromedriver + 4996568\n19  undetected_chromedriver             0x0000000101465fd7 undetected_chromedriver + 4997079\n20  undetected_chromedriver             0x00000001014756de undetected_chromedriver + 5060318\n21  libsystem_pthread.dylib             0x00007ff803e5418b _pthread_start + 99\n22  libsystem_pthread.dylib             0x00007ff803e4fae3 thread_start + 15\n"
     ]
    }
   ],
   "source": [
    "from selenium.webdriver.common.by import By\n",
    "\n",
    "btn_second_container = browser.find(By.ID, \"second-container-expand-button\")\n",
    "btn_second_container.click()"
   ],
   "metadata": {
    "collapsed": false,
    "ExecuteTime": {
     "end_time": "2024-08-24T08:24:16.960213Z",
     "start_time": "2024-08-24T08:24:16.704738Z"
    }
   }
  },
  {
   "cell_type": "code",
   "execution_count": 9,
   "outputs": [
    {
     "data": {
      "text/plain": "<undetected_chromedriver.webelement.WebElement (session=\"0de0b94cfa7c8a33a5f01e3068b694fd\", element=\"f.30EA9AA24E92F334CFF6FBD426842037.d.6F9BC613E82A1141CB6C2C4859361975.e.89\")>"
     },
     "execution_count": 9,
     "metadata": {},
     "output_type": "execute_result"
    }
   ],
   "source": [],
   "metadata": {
    "collapsed": false,
    "ExecuteTime": {
     "end_time": "2024-08-24T07:41:51.851283Z",
     "start_time": "2024-08-24T07:41:51.834890Z"
    }
   }
  },
  {
   "cell_type": "code",
   "execution_count": 20,
   "outputs": [],
   "source": [
    "\n",
    "date_dlg=browser.find_by('tp-yt-paper-dialog[@id=\"dialog\"]')"
   ],
   "metadata": {
    "collapsed": false,
    "ExecuteTime": {
     "end_time": "2024-08-24T07:44:42.475960Z",
     "start_time": "2024-08-24T07:44:42.449376Z"
    }
   }
  },
  {
   "cell_type": "code",
   "execution_count": 21,
   "outputs": [],
   "source": [
    "browser.find_by('./descendant::input',in_element=date_dlg)\n"
   ],
   "metadata": {
    "collapsed": false,
    "ExecuteTime": {
     "end_time": "2024-08-24T07:44:46.366963Z",
     "start_time": "2024-08-24T07:44:43.745795Z"
    }
   }
  },
  {
   "cell_type": "code",
   "execution_count": 6,
   "outputs": [],
   "source": [
    "\n",
    "date_input=browser.find_by('tp-yt-paper-dialog[@id=\"dialog\"]/descendant::input',timeout=1)\n",
    "\n"
   ],
   "metadata": {
    "collapsed": false,
    "ExecuteTime": {
     "end_time": "2024-08-24T08:24:31.847150Z",
     "start_time": "2024-08-24T08:24:31.830693Z"
    }
   }
  },
  {
   "cell_type": "code",
   "execution_count": 23,
   "outputs": [
    {
     "data": {
      "text/plain": "''"
     },
     "execution_count": 23,
     "metadata": {},
     "output_type": "execute_result"
    }
   ],
   "source": [
    "date_input.text"
   ],
   "metadata": {
    "collapsed": false,
    "ExecuteTime": {
     "end_time": "2024-08-24T07:44:59.583006Z",
     "start_time": "2024-08-24T07:44:59.566334Z"
    }
   }
  },
  {
   "cell_type": "code",
   "execution_count": 11,
   "outputs": [],
   "source": [
    "\n",
    "from selenium.webdriver.remote.webelement import WebElement\n",
    "from selenium.webdriver import Keys\n",
    "from selenium.webdriver.common.action_chains import ActionChains\n",
    "import time\n",
    "from sys import platform\n",
    "\n",
    "def _reset_input_val( element: WebElement, text):\n",
    "    actions = ActionChains(browser.driver) \\\n",
    "        .move_to_element(element) \\\n",
    "        .pause(1) \\\n",
    "        # actions.click(element) \\\n",
    "    actions.key_down(Keys.COMMAND if platform == 'darwin' else Keys.CONTROL) \\\n",
    "        .send_keys('a') \\\n",
    "        .key_up(Keys.COMMAND) \\\n",
    "        .pause(.5) \\\n",
    "        .send_keys(Keys.BACKSPACE) \\\n",
    "        .pause(.5) \\\n",
    "        .send_keys(text) \\\n",
    "        .pause(.1) \\\n",
    "        .send_keys(Keys.ENTER)\n",
    "    actions.perform()\n",
    "\n",
    "\n"
   ],
   "metadata": {
    "collapsed": false,
    "ExecuteTime": {
     "end_time": "2024-08-24T08:25:11.678465Z",
     "start_time": "2024-08-24T08:25:11.657853Z"
    }
   }
  },
  {
   "cell_type": "code",
   "execution_count": 8,
   "outputs": [],
   "source": [
    "_reset_input_val(element=date_input,text=\"2024/09/06\")"
   ],
   "metadata": {
    "collapsed": false,
    "ExecuteTime": {
     "end_time": "2024-08-24T08:24:48.447919Z",
     "start_time": "2024-08-24T08:24:42.590861Z"
    }
   }
  },
  {
   "cell_type": "code",
   "execution_count": 16,
   "outputs": [],
   "source": [
    "time_input=browser.find_by('*[@id=\"labelAndInputContainer\"]/descendant::input',timeout=2)\n",
    "time_input.click()\n",
    "_reset_input_val (time_input,\"07:00\")"
   ],
   "metadata": {
    "collapsed": false,
    "ExecuteTime": {
     "end_time": "2024-08-24T08:28:07.639966Z",
     "start_time": "2024-08-24T08:28:04.441231Z"
    }
   }
  },
  {
   "cell_type": "code",
   "execution_count": 9,
   "outputs": [
    {
     "data": {
      "text/plain": "<undetected_chromedriver.webelement.WebElement (session=\"60072d697cc71750b162ae76ad06aad0\", element=\"f.4E1E2073931C7843B2871C57BAB02F2E.d.6CAF49F6F6DC97804C6A3A0120224D82.e.62\")>"
     },
     "execution_count": 9,
     "metadata": {},
     "output_type": "execute_result"
    }
   ],
   "source": [
    "browser.find_by('*[@id=\"labelAndInputContainer\"]/descendant::input',timeout=1)"
   ],
   "metadata": {
    "collapsed": false,
    "ExecuteTime": {
     "end_time": "2024-08-24T08:24:51.664828Z",
     "start_time": "2024-08-24T08:24:51.631896Z"
    }
   }
  },
  {
   "cell_type": "code",
   "execution_count": 39,
   "outputs": [
    {
     "name": "stdout",
     "output_type": "stream",
     "text": [
      "wrapper: passed element is None\n"
     ]
    },
    {
     "ename": "OSError",
     "evalue": "[Errno 25] Inappropriate ioctl for device",
     "output_type": "error",
     "traceback": [
      "\u001B[0;31m---------------------------------------------------------------------------\u001B[0m",
      "\u001B[0;31mTypeError\u001B[0m                                 Traceback (most recent call last)",
      "File \u001B[0;32m~/miniforge3/envs/py3/lib/python3.9/site-packages/noraise/noraise.py:35\u001B[0m, in \u001B[0;36mnoraise.<locals>.real_decorator.<locals>.wrapper\u001B[0;34m(*args, **kwargs)\u001B[0m\n\u001B[1;32m     34\u001B[0m \u001B[38;5;28;01mtry\u001B[39;00m:\n\u001B[0;32m---> 35\u001B[0m     \u001B[38;5;28;01mreturn\u001B[39;00m \u001B[43mfunction\u001B[49m\u001B[43m(\u001B[49m\u001B[38;5;241;43m*\u001B[39;49m\u001B[43margs\u001B[49m\u001B[43m,\u001B[49m\u001B[43m \u001B[49m\u001B[38;5;241;43m*\u001B[39;49m\u001B[38;5;241;43m*\u001B[39;49m\u001B[43mkwargs\u001B[49m\u001B[43m)\u001B[49m\n\u001B[1;32m     36\u001B[0m \u001B[38;5;28;01mexcept\u001B[39;00m \u001B[38;5;167;01mKeyboardInterrupt\u001B[39;00m \u001B[38;5;28;01mas\u001B[39;00m e:\n",
      "File \u001B[0;32m~/miniforge3/envs/py3/lib/python3.9/site-packages/selenium_browser/core/browser_js_functions.py:42\u001B[0m, in \u001B[0;36mBrowserJSFunctions.js_get_attributes\u001B[0;34m(self, element)\u001B[0m\n\u001B[1;32m     37\u001B[0m \u001B[38;5;129m@noraise\u001B[39m()\n\u001B[1;32m     38\u001B[0m \u001B[38;5;28;01mdef\u001B[39;00m \u001B[38;5;21mjs_get_attributes\u001B[39m(\n\u001B[1;32m     39\u001B[0m     \u001B[38;5;28mself\u001B[39m,\n\u001B[1;32m     40\u001B[0m     element: WebElement\n\u001B[1;32m     41\u001B[0m ) \u001B[38;5;241m-\u001B[39m\u001B[38;5;241m>\u001B[39m Optional:\n\u001B[0;32m---> 42\u001B[0m     \u001B[38;5;28;01mreturn\u001B[39;00m \u001B[43mjson\u001B[49m\u001B[38;5;241;43m.\u001B[39;49m\u001B[43mloads\u001B[49m\u001B[43m(\u001B[49m\n\u001B[1;32m     43\u001B[0m \u001B[43m        \u001B[49m\u001B[38;5;28;43mself\u001B[39;49m\u001B[38;5;241;43m.\u001B[39;49m\u001B[43mexecute_script_on_element\u001B[49m\u001B[43m(\u001B[49m\n\u001B[1;32m     44\u001B[0m \u001B[43m            \u001B[49m\u001B[38;5;124;43m'\u001B[39;49m\u001B[38;5;124;43mvar items = \u001B[39;49m\u001B[38;5;132;43;01m{}\u001B[39;49;00m\u001B[38;5;124;43m; for (index = 0; index < arguments[0].attributes.length; ++index) \u001B[39;49m\u001B[38;5;124;43m{\u001B[39;49m\u001B[38;5;124;43m items[arguments[0].attributes[index].name] = arguments[0].attributes[index].value }; return JSON.stringify(items);\u001B[39;49m\u001B[38;5;124;43m'\u001B[39;49m\u001B[43m,\u001B[49m\n\u001B[1;32m     45\u001B[0m \u001B[43m            \u001B[49m\u001B[43melement\u001B[49m\n\u001B[1;32m     46\u001B[0m \u001B[43m        \u001B[49m\u001B[43m)\u001B[49m\n\u001B[1;32m     47\u001B[0m \u001B[43m    \u001B[49m\u001B[43m)\u001B[49m\n",
      "File \u001B[0;32m~/miniforge3/envs/py3/lib/python3.9/json/__init__.py:339\u001B[0m, in \u001B[0;36mloads\u001B[0;34m(s, cls, object_hook, parse_float, parse_int, parse_constant, object_pairs_hook, **kw)\u001B[0m\n\u001B[1;32m    338\u001B[0m \u001B[38;5;28;01mif\u001B[39;00m \u001B[38;5;129;01mnot\u001B[39;00m \u001B[38;5;28misinstance\u001B[39m(s, (\u001B[38;5;28mbytes\u001B[39m, \u001B[38;5;28mbytearray\u001B[39m)):\n\u001B[0;32m--> 339\u001B[0m     \u001B[38;5;28;01mraise\u001B[39;00m \u001B[38;5;167;01mTypeError\u001B[39;00m(\u001B[38;5;124mf\u001B[39m\u001B[38;5;124m'\u001B[39m\u001B[38;5;124mthe JSON object must be str, bytes or bytearray, \u001B[39m\u001B[38;5;124m'\u001B[39m\n\u001B[1;32m    340\u001B[0m                     \u001B[38;5;124mf\u001B[39m\u001B[38;5;124m'\u001B[39m\u001B[38;5;124mnot \u001B[39m\u001B[38;5;132;01m{\u001B[39;00ms\u001B[38;5;241m.\u001B[39m\u001B[38;5;18m__class__\u001B[39m\u001B[38;5;241m.\u001B[39m\u001B[38;5;18m__name__\u001B[39m\u001B[38;5;132;01m}\u001B[39;00m\u001B[38;5;124m'\u001B[39m)\n\u001B[1;32m    341\u001B[0m s \u001B[38;5;241m=\u001B[39m s\u001B[38;5;241m.\u001B[39mdecode(detect_encoding(s), \u001B[38;5;124m'\u001B[39m\u001B[38;5;124msurrogatepass\u001B[39m\u001B[38;5;124m'\u001B[39m)\n",
      "\u001B[0;31mTypeError\u001B[0m: the JSON object must be str, bytes or bytearray, not bool",
      "\nDuring handling of the above exception, another exception occurred:\n",
      "\u001B[0;31mOSError\u001B[0m                                   Traceback (most recent call last)",
      "Cell \u001B[0;32mIn[39], line 2\u001B[0m\n\u001B[1;32m      1\u001B[0m upload_progress \u001B[38;5;241m=\u001B[39m browser\u001B[38;5;241m.\u001B[39mfind_by(\u001B[38;5;124m'\u001B[39m\u001B[38;5;124mtp-yt-paper-progress\u001B[39m\u001B[38;5;124m'\u001B[39m,class_\u001B[38;5;241m=\u001B[39m\u001B[38;5;124m\"\u001B[39m\u001B[38;5;124mstyle-scope ytcp-video-upload-progress-hover\u001B[39m\u001B[38;5;124m\"\u001B[39m)\n\u001B[0;32m----> 2\u001B[0m attriutes \u001B[38;5;241m=\u001B[39m \u001B[43mbrowser\u001B[49m\u001B[38;5;241;43m.\u001B[39;49m\u001B[43mget_attributes\u001B[49m\u001B[43m(\u001B[49m\u001B[43mupload_progress\u001B[49m\u001B[43m)\u001B[49m\n\u001B[1;32m      3\u001B[0m attriutes \u001B[38;5;129;01mand\u001B[39;00m attriutes[\u001B[38;5;124m'\u001B[39m\u001B[38;5;124maria-valuenow\u001B[39m\u001B[38;5;124m'\u001B[39m] \u001B[38;5;241m==\u001B[39m \u001B[38;5;124m'\u001B[39m\u001B[38;5;124m100\u001B[39m\u001B[38;5;124m'\u001B[39m\n",
      "File \u001B[0;32m~/miniforge3/envs/py3/lib/python3.9/site-packages/noraise/noraise.py:45\u001B[0m, in \u001B[0;36mnoraise.<locals>.real_decorator.<locals>.wrapper\u001B[0;34m(*args, **kwargs)\u001B[0m\n\u001B[1;32m     42\u001B[0m clr_end   \u001B[38;5;241m=\u001B[39m \u001B[38;5;124m'\u001B[39m\u001B[38;5;130;01m\\033\u001B[39;00m\u001B[38;5;124m[0m\u001B[39m\u001B[38;5;124m'\u001B[39m\n\u001B[1;32m     43\u001B[0m colored_title \u001B[38;5;241m=\u001B[39m clr_start \u001B[38;5;241m+\u001B[39m title \u001B[38;5;241m+\u001B[39m clr_end\n\u001B[0;32m---> 45\u001B[0m \u001B[38;5;28mprint\u001B[39m(\u001B[38;5;124m'\u001B[39m\u001B[38;5;130;01m\\n\u001B[39;00m\u001B[38;5;130;01m\\n\u001B[39;00m\u001B[38;5;132;01m{}\u001B[39;00m\u001B[38;5;130;01m\\n\u001B[39;00m\u001B[38;5;124m'\u001B[39m\u001B[38;5;241m.\u001B[39mformat(\u001B[43m__comment_line\u001B[49m\u001B[43m(\u001B[49m\u001B[43mtitle\u001B[49m\u001B[43m)\u001B[49m\u001B[38;5;241m.\u001B[39mreplace(title, colored_title)))\n\u001B[1;32m     46\u001B[0m traceback\u001B[38;5;241m.\u001B[39mprint_exc()\n\u001B[1;32m     47\u001B[0m \u001B[38;5;28mprint\u001B[39m(\u001B[38;5;124m'\u001B[39m\u001B[38;5;130;01m\\n\u001B[39;00m\u001B[38;5;132;01m{}\u001B[39;00m\u001B[38;5;130;01m\\n\u001B[39;00m\u001B[38;5;130;01m\\n\u001B[39;00m\u001B[38;5;124m'\u001B[39m\u001B[38;5;241m.\u001B[39mformat(__comment_line(\u001B[38;5;124m'\u001B[39m\u001B[38;5;124m'\u001B[39m, text_padding_char\u001B[38;5;241m=\u001B[39m\u001B[38;5;124m'\u001B[39m\u001B[38;5;124m'\u001B[39m)))\n",
      "File \u001B[0;32m~/miniforge3/envs/py3/lib/python3.9/site-packages/noraise/noraise.py:69\u001B[0m, in \u001B[0;36m__comment_line\u001B[0;34m(text, start_char, end_char, filler_char, text_padding_char, start_end_char_padding_char)\u001B[0m\n\u001B[1;32m     67\u001B[0m text \u001B[38;5;241m=\u001B[39m text\u001B[38;5;241m.\u001B[39mstrip()\n\u001B[1;32m     68\u001B[0m pre, post \u001B[38;5;241m=\u001B[39m \u001B[38;5;124m'\u001B[39m\u001B[38;5;132;01m{}\u001B[39;00m\u001B[38;5;132;01m{}\u001B[39;00m\u001B[38;5;124m'\u001B[39m\u001B[38;5;241m.\u001B[39mformat(start_char, start_end_char_padding_char), \u001B[38;5;124m'\u001B[39m\u001B[38;5;132;01m{}\u001B[39;00m\u001B[38;5;132;01m{}\u001B[39;00m\u001B[38;5;124m'\u001B[39m\u001B[38;5;241m.\u001B[39mformat(start_end_char_padding_char, end_char)\n\u001B[0;32m---> 69\u001B[0m needeed_len \u001B[38;5;241m=\u001B[39m \u001B[43mos\u001B[49m\u001B[38;5;241;43m.\u001B[39;49m\u001B[43mget_terminal_size\u001B[49m\u001B[43m(\u001B[49m\u001B[43m)\u001B[49m\u001B[38;5;241m.\u001B[39mcolumns \u001B[38;5;241m-\u001B[39m (\u001B[38;5;28mlen\u001B[39m(text)\u001B[38;5;241m+\u001B[39m\u001B[38;5;241m2\u001B[39m\u001B[38;5;241m*\u001B[39m\u001B[38;5;28mlen\u001B[39m(text_padding_char)) \u001B[38;5;241m-\u001B[39m \u001B[38;5;28mlen\u001B[39m(pre) \u001B[38;5;241m-\u001B[39m \u001B[38;5;28mlen\u001B[39m(post)\n\u001B[1;32m     71\u001B[0m pre_div_len \u001B[38;5;241m=\u001B[39m math\u001B[38;5;241m.\u001B[39mceil(needeed_len\u001B[38;5;241m/\u001B[39m\u001B[38;5;241m2\u001B[39m)\n\u001B[1;32m     72\u001B[0m post_div_len \u001B[38;5;241m=\u001B[39m needeed_len \u001B[38;5;241m-\u001B[39m pre_div_len\n",
      "\u001B[0;31mOSError\u001B[0m: [Errno 25] Inappropriate ioctl for device"
     ]
    }
   ],
   "source": [
    "upload_progress = browser.find_by('tp-yt-paper-progress',class_=\"style-scope ytcp-video-upload-progress-hover\")\n",
    "attriutes = browser.get_attributes(upload_progress)\n",
    "attriutes and attriutes['aria-valuenow'] == '100'"
   ],
   "metadata": {
    "collapsed": false,
    "ExecuteTime": {
     "end_time": "2024-09-06T08:31:04.874964Z",
     "start_time": "2024-09-06T08:31:02.227304Z"
    }
   }
  },
  {
   "cell_type": "code",
   "execution_count": 53,
   "outputs": [],
   "source": [
    "a=browser.find_by(\"ytcp-video-upload-progress-hover\")"
   ],
   "metadata": {
    "collapsed": false,
    "ExecuteTime": {
     "end_time": "2024-09-06T08:54:17.100174Z",
     "start_time": "2024-09-06T08:54:17.077703Z"
    }
   }
  },
  {
   "cell_type": "code",
   "execution_count": 117,
   "outputs": [
    {
     "name": "stdout",
     "output_type": "stream",
     "text": [
      "True\n"
     ]
    }
   ],
   "source": [
    "a=browser.find_by('ytcp-video-upload-progress-hover[@progress-type=\"UPLOADING\"]')\n",
    "if a:\n",
    "    b=browser.find_by('div/tp-yt-paper-progress',in_element=a)\n",
    "    print(b is None)"
   ],
   "metadata": {
    "collapsed": false,
    "ExecuteTime": {
     "end_time": "2024-09-06T09:19:02.932353Z",
     "start_time": "2024-09-06T09:19:00.331980Z"
    }
   }
  },
  {
   "cell_type": "code",
   "execution_count": 114,
   "outputs": [],
   "source": [
    "b"
   ],
   "metadata": {
    "collapsed": false,
    "ExecuteTime": {
     "end_time": "2024-09-06T09:18:04.789063Z",
     "start_time": "2024-09-06T09:18:04.782Z"
    }
   }
  },
  {
   "cell_type": "code",
   "execution_count": 86,
   "outputs": [],
   "source": [
    "b"
   ],
   "metadata": {
    "collapsed": false,
    "ExecuteTime": {
     "end_time": "2024-09-06T09:10:34.958435Z",
     "start_time": "2024-09-06T09:10:34.951410Z"
    }
   }
  },
  {
   "cell_type": "code",
   "execution_count": 77,
   "outputs": [
    {
     "data": {
      "text/plain": "''"
     },
     "execution_count": 77,
     "metadata": {},
     "output_type": "execute_result"
    }
   ],
   "source": [
    "b.text"
   ],
   "metadata": {
    "collapsed": false,
    "ExecuteTime": {
     "end_time": "2024-09-06T09:09:39.375676Z",
     "start_time": "2024-09-06T09:09:39.347529Z"
    }
   }
  },
  {
   "cell_type": "code",
   "execution_count": null,
   "outputs": [],
   "source": [],
   "metadata": {
    "collapsed": false
   }
  }
 ],
 "metadata": {
  "kernelspec": {
   "display_name": "Python 3",
   "language": "python",
   "name": "python3"
  },
  "language_info": {
   "codemirror_mode": {
    "name": "ipython",
    "version": 2
   },
   "file_extension": ".py",
   "mimetype": "text/x-python",
   "name": "python",
   "nbconvert_exporter": "python",
   "pygments_lexer": "ipython2",
   "version": "2.7.6"
  }
 },
 "nbformat": 4,
 "nbformat_minor": 0
}
