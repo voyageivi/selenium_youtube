{
 "cells": [
  {
   "cell_type": "code",
   "execution_count": 2,
   "outputs": [
    {
     "name": "stderr",
     "output_type": "stream",
     "text": [
      "/Users/vincent/miniforge3/envs/py3/lib/python3.9/site-packages/undetected_chromedriver/__init__.py:339: UserWarning: using ChromeOptions.user_data_dir might stop working in future versions.use uc.Chrome(user_data_dir='/xyz/some/data') in case you need existing profile folder\n",
      "  warnings.warn(\n"
     ]
    },
    {
     "name": "stdout",
     "output_type": "stream",
     "text": [
      "Youtube - cookies - Successfully logged in. Saving cookies.\n"
     ]
    }
   ],
   "source": [
    "import time\n",
    "from selenium_chrome import Chrome\n",
    "\n",
    "from selenium_youtube import Youtube\n",
    "from chromedriver_py import binary_path\n",
    "\n",
    "# from pyvirtualdisplay import Display\n",
    "# disp = Display(visible=False, size=(1024, 864))\n",
    "# disp.start()\n",
    "\n",
    "chrome = Chrome(chromedriver_path=binary_path,headless=False)\n",
    "browser=chrome\n",
    "youtube = Youtube(\n",
    "    browser=chrome  # or firefox\n",
    ")\n"
   ],
   "metadata": {
    "collapsed": false,
    "ExecuteTime": {
     "end_time": "2024-08-26T17:00:15.748944Z",
     "start_time": "2024-08-26T17:00:01.009018Z"
    }
   }
  },
  {
   "cell_type": "code",
   "execution_count": 3,
   "outputs": [],
   "source": [
    "import time"
   ],
   "metadata": {
    "collapsed": false,
    "ExecuteTime": {
     "end_time": "2024-08-26T09:39:30.397872Z",
     "start_time": "2024-08-26T09:39:30.388215Z"
    }
   }
  },
  {
   "cell_type": "code",
   "execution_count": 6,
   "outputs": [
    {
     "data": {
      "text/plain": "True"
     },
     "execution_count": 6,
     "metadata": {},
     "output_type": "execute_result"
    }
   ],
   "source": [
    "chrome.get('https://www.youtube.com')"
   ],
   "metadata": {
    "collapsed": false,
    "ExecuteTime": {
     "end_time": "2024-08-26T09:55:13.563808Z",
     "start_time": "2024-08-26T09:55:10.389209Z"
    }
   }
  },
  {
   "cell_type": "code",
   "execution_count": 10,
   "outputs": [],
   "source": [
    "chrome.get('https://www.youtube.com/channel_switcher')\n",
    "channel_name='@唯快不破'\n",
    "\n",
    "# time.sleep(1)\n",
    "browser.scroll_to_bottom()\n",
    "b=browser.find_by(f\"div[@id='contents']//yt-formatted-string[contains(text(), '{channel_name}')]\",timeout=5)\n"
   ],
   "metadata": {
    "collapsed": false,
    "ExecuteTime": {
     "end_time": "2024-08-26T17:02:40.170642Z",
     "start_time": "2024-08-26T17:02:21.710230Z"
    }
   }
  },
  {
   "cell_type": "code",
   "execution_count": 125,
   "outputs": [],
   "source": [
    "header =browser.find_by('div', id_='contents')\n",
    "b=browser.find_by(f\"div[@id='contents']//yt-formatted-string[contains(text(), '{channel_name}')]\")"
   ],
   "metadata": {
    "collapsed": false,
    "ExecuteTime": {
     "end_time": "2024-08-26T16:06:40.276010Z",
     "start_time": "2024-08-26T16:06:40.216291Z"
    }
   }
  },
  {
   "cell_type": "code",
   "execution_count": 117,
   "outputs": [],
   "source": [
    "browser.scroll_to_bottom()"
   ],
   "metadata": {
    "collapsed": false,
    "ExecuteTime": {
     "end_time": "2024-08-26T16:04:42.013103Z",
     "start_time": "2024-08-26T16:04:25.246441Z"
    }
   }
  },
  {
   "cell_type": "code",
   "execution_count": 11,
   "outputs": [],
   "source": [
    "b"
   ],
   "metadata": {
    "collapsed": false,
    "ExecuteTime": {
     "end_time": "2024-08-26T17:02:40.180034Z",
     "start_time": "2024-08-26T17:02:40.172107Z"
    }
   }
  },
  {
   "cell_type": "code",
   "execution_count": 12,
   "outputs": [],
   "source": [
    "browser.scroll_to_element(element=b, header_element=b)\n",
    "browser.scroll(-180)\n"
   ],
   "metadata": {
    "collapsed": false,
    "ExecuteTime": {
     "end_time": "2024-08-26T16:20:56.850562Z",
     "start_time": "2024-08-26T16:20:56.775349Z"
    }
   }
  },
  {
   "cell_type": "code",
   "execution_count": 13,
   "outputs": [
    {
     "ename": "ElementClickInterceptedException",
     "evalue": "Message: element click intercepted: Element <yt-formatted-string respect-lang-dir=\"\" secondary=\"\" class=\"style-scope ytd-account-item-renderer\" dir=\"auto\" style=\"text-align: left;\">...</yt-formatted-string> is not clickable at point (748, 987). Other element would receive the click: <tp-yt-iron-overlay-backdrop opened=\"\" class=\"opened\" style=\"z-index: 2201;\">...</tp-yt-iron-overlay-backdrop>\n  (Session info: chrome=128.0.6613.85)\nStacktrace:\n0   undetected_chromedriver             0x00000001049168b8 undetected_chromedriver + 5179576\n1   undetected_chromedriver             0x000000010490e2ea undetected_chromedriver + 5145322\n2   undetected_chromedriver             0x00000001044852b0 undetected_chromedriver + 389808\n3   undetected_chromedriver             0x00000001044d8096 undetected_chromedriver + 729238\n4   undetected_chromedriver             0x00000001044d5f88 undetected_chromedriver + 720776\n5   undetected_chromedriver             0x00000001044d3a57 undetected_chromedriver + 711255\n6   undetected_chromedriver             0x00000001044d2902 undetected_chromedriver + 706818\n7   undetected_chromedriver             0x00000001044c6496 undetected_chromedriver + 656534\n8   undetected_chromedriver             0x00000001044f37b2 undetected_chromedriver + 841650\n9   undetected_chromedriver             0x00000001044c5e58 undetected_chromedriver + 654936\n10  undetected_chromedriver             0x00000001044f396e undetected_chromedriver + 842094\n11  undetected_chromedriver             0x0000000104510b9b undetected_chromedriver + 961435\n12  undetected_chromedriver             0x00000001044f3553 undetected_chromedriver + 841043\n13  undetected_chromedriver             0x00000001044c47f6 undetected_chromedriver + 649206\n14  undetected_chromedriver             0x00000001044c505e undetected_chromedriver + 651358\n15  undetected_chromedriver             0x00000001048d9b20 undetected_chromedriver + 4930336\n16  undetected_chromedriver             0x00000001048dea36 undetected_chromedriver + 4950582\n17  undetected_chromedriver             0x00000001048df105 undetected_chromedriver + 4952325\n18  undetected_chromedriver             0x00000001048bbee9 undetected_chromedriver + 4808425\n19  undetected_chromedriver             0x00000001048df3f9 undetected_chromedriver + 4953081\n20  undetected_chromedriver             0x00000001048ad844 undetected_chromedriver + 4749380\n21  undetected_chromedriver             0x00000001048fe5c8 undetected_chromedriver + 5080520\n22  undetected_chromedriver             0x00000001048fe787 undetected_chromedriver + 5080967\n23  undetected_chromedriver             0x000000010490dece undetected_chromedriver + 5144270\n24  libsystem_pthread.dylib             0x00007ff803e5418b _pthread_start + 99\n25  libsystem_pthread.dylib             0x00007ff803e4fae3 thread_start + 15\n",
     "output_type": "error",
     "traceback": [
      "\u001B[0;31m---------------------------------------------------------------------------\u001B[0m",
      "\u001B[0;31mElementClickInterceptedException\u001B[0m          Traceback (most recent call last)",
      "Cell \u001B[0;32mIn[13], line 1\u001B[0m\n\u001B[0;32m----> 1\u001B[0m \u001B[43mb\u001B[49m\u001B[38;5;241;43m.\u001B[39;49m\u001B[43mclick\u001B[49m\u001B[43m(\u001B[49m\u001B[43m)\u001B[49m\n",
      "File \u001B[0;32m~/miniforge3/envs/py3/lib/python3.9/site-packages/selenium/webdriver/remote/webelement.py:94\u001B[0m, in \u001B[0;36mWebElement.click\u001B[0;34m(self)\u001B[0m\n\u001B[1;32m     92\u001B[0m \u001B[38;5;28;01mdef\u001B[39;00m \u001B[38;5;21mclick\u001B[39m(\u001B[38;5;28mself\u001B[39m) \u001B[38;5;241m-\u001B[39m\u001B[38;5;241m>\u001B[39m \u001B[38;5;28;01mNone\u001B[39;00m:\n\u001B[1;32m     93\u001B[0m \u001B[38;5;250m    \u001B[39m\u001B[38;5;124;03m\"\"\"Clicks the element.\"\"\"\u001B[39;00m\n\u001B[0;32m---> 94\u001B[0m     \u001B[38;5;28;43mself\u001B[39;49m\u001B[38;5;241;43m.\u001B[39;49m\u001B[43m_execute\u001B[49m\u001B[43m(\u001B[49m\u001B[43mCommand\u001B[49m\u001B[38;5;241;43m.\u001B[39;49m\u001B[43mCLICK_ELEMENT\u001B[49m\u001B[43m)\u001B[49m\n",
      "File \u001B[0;32m~/miniforge3/envs/py3/lib/python3.9/site-packages/selenium/webdriver/remote/webelement.py:395\u001B[0m, in \u001B[0;36mWebElement._execute\u001B[0;34m(self, command, params)\u001B[0m\n\u001B[1;32m    393\u001B[0m     params \u001B[38;5;241m=\u001B[39m {}\n\u001B[1;32m    394\u001B[0m params[\u001B[38;5;124m\"\u001B[39m\u001B[38;5;124mid\u001B[39m\u001B[38;5;124m\"\u001B[39m] \u001B[38;5;241m=\u001B[39m \u001B[38;5;28mself\u001B[39m\u001B[38;5;241m.\u001B[39m_id\n\u001B[0;32m--> 395\u001B[0m \u001B[38;5;28;01mreturn\u001B[39;00m \u001B[38;5;28;43mself\u001B[39;49m\u001B[38;5;241;43m.\u001B[39;49m\u001B[43m_parent\u001B[49m\u001B[38;5;241;43m.\u001B[39;49m\u001B[43mexecute\u001B[49m\u001B[43m(\u001B[49m\u001B[43mcommand\u001B[49m\u001B[43m,\u001B[49m\u001B[43m \u001B[49m\u001B[43mparams\u001B[49m\u001B[43m)\u001B[49m\n",
      "File \u001B[0;32m~/miniforge3/envs/py3/lib/python3.9/site-packages/selenium/webdriver/remote/webdriver.py:345\u001B[0m, in \u001B[0;36mWebDriver.execute\u001B[0;34m(self, driver_command, params)\u001B[0m\n\u001B[1;32m    343\u001B[0m response \u001B[38;5;241m=\u001B[39m \u001B[38;5;28mself\u001B[39m\u001B[38;5;241m.\u001B[39mcommand_executor\u001B[38;5;241m.\u001B[39mexecute(driver_command, params)\n\u001B[1;32m    344\u001B[0m \u001B[38;5;28;01mif\u001B[39;00m response:\n\u001B[0;32m--> 345\u001B[0m     \u001B[38;5;28;43mself\u001B[39;49m\u001B[38;5;241;43m.\u001B[39;49m\u001B[43merror_handler\u001B[49m\u001B[38;5;241;43m.\u001B[39;49m\u001B[43mcheck_response\u001B[49m\u001B[43m(\u001B[49m\u001B[43mresponse\u001B[49m\u001B[43m)\u001B[49m\n\u001B[1;32m    346\u001B[0m     response[\u001B[38;5;124m\"\u001B[39m\u001B[38;5;124mvalue\u001B[39m\u001B[38;5;124m\"\u001B[39m] \u001B[38;5;241m=\u001B[39m \u001B[38;5;28mself\u001B[39m\u001B[38;5;241m.\u001B[39m_unwrap_value(response\u001B[38;5;241m.\u001B[39mget(\u001B[38;5;124m\"\u001B[39m\u001B[38;5;124mvalue\u001B[39m\u001B[38;5;124m\"\u001B[39m, \u001B[38;5;28;01mNone\u001B[39;00m))\n\u001B[1;32m    347\u001B[0m     \u001B[38;5;28;01mreturn\u001B[39;00m response\n",
      "File \u001B[0;32m~/miniforge3/envs/py3/lib/python3.9/site-packages/selenium/webdriver/remote/errorhandler.py:229\u001B[0m, in \u001B[0;36mErrorHandler.check_response\u001B[0;34m(self, response)\u001B[0m\n\u001B[1;32m    227\u001B[0m         alert_text \u001B[38;5;241m=\u001B[39m value[\u001B[38;5;124m\"\u001B[39m\u001B[38;5;124malert\u001B[39m\u001B[38;5;124m\"\u001B[39m]\u001B[38;5;241m.\u001B[39mget(\u001B[38;5;124m\"\u001B[39m\u001B[38;5;124mtext\u001B[39m\u001B[38;5;124m\"\u001B[39m)\n\u001B[1;32m    228\u001B[0m     \u001B[38;5;28;01mraise\u001B[39;00m exception_class(message, screen, stacktrace, alert_text)  \u001B[38;5;66;03m# type: ignore[call-arg]  # mypy is not smart enough here\u001B[39;00m\n\u001B[0;32m--> 229\u001B[0m \u001B[38;5;28;01mraise\u001B[39;00m exception_class(message, screen, stacktrace)\n",
      "\u001B[0;31mElementClickInterceptedException\u001B[0m: Message: element click intercepted: Element <yt-formatted-string respect-lang-dir=\"\" secondary=\"\" class=\"style-scope ytd-account-item-renderer\" dir=\"auto\" style=\"text-align: left;\">...</yt-formatted-string> is not clickable at point (748, 987). Other element would receive the click: <tp-yt-iron-overlay-backdrop opened=\"\" class=\"opened\" style=\"z-index: 2201;\">...</tp-yt-iron-overlay-backdrop>\n  (Session info: chrome=128.0.6613.85)\nStacktrace:\n0   undetected_chromedriver             0x00000001049168b8 undetected_chromedriver + 5179576\n1   undetected_chromedriver             0x000000010490e2ea undetected_chromedriver + 5145322\n2   undetected_chromedriver             0x00000001044852b0 undetected_chromedriver + 389808\n3   undetected_chromedriver             0x00000001044d8096 undetected_chromedriver + 729238\n4   undetected_chromedriver             0x00000001044d5f88 undetected_chromedriver + 720776\n5   undetected_chromedriver             0x00000001044d3a57 undetected_chromedriver + 711255\n6   undetected_chromedriver             0x00000001044d2902 undetected_chromedriver + 706818\n7   undetected_chromedriver             0x00000001044c6496 undetected_chromedriver + 656534\n8   undetected_chromedriver             0x00000001044f37b2 undetected_chromedriver + 841650\n9   undetected_chromedriver             0x00000001044c5e58 undetected_chromedriver + 654936\n10  undetected_chromedriver             0x00000001044f396e undetected_chromedriver + 842094\n11  undetected_chromedriver             0x0000000104510b9b undetected_chromedriver + 961435\n12  undetected_chromedriver             0x00000001044f3553 undetected_chromedriver + 841043\n13  undetected_chromedriver             0x00000001044c47f6 undetected_chromedriver + 649206\n14  undetected_chromedriver             0x00000001044c505e undetected_chromedriver + 651358\n15  undetected_chromedriver             0x00000001048d9b20 undetected_chromedriver + 4930336\n16  undetected_chromedriver             0x00000001048dea36 undetected_chromedriver + 4950582\n17  undetected_chromedriver             0x00000001048df105 undetected_chromedriver + 4952325\n18  undetected_chromedriver             0x00000001048bbee9 undetected_chromedriver + 4808425\n19  undetected_chromedriver             0x00000001048df3f9 undetected_chromedriver + 4953081\n20  undetected_chromedriver             0x00000001048ad844 undetected_chromedriver + 4749380\n21  undetected_chromedriver             0x00000001048fe5c8 undetected_chromedriver + 5080520\n22  undetected_chromedriver             0x00000001048fe787 undetected_chromedriver + 5080967\n23  undetected_chromedriver             0x000000010490dece undetected_chromedriver + 5144270\n24  libsystem_pthread.dylib             0x00007ff803e5418b _pthread_start + 99\n25  libsystem_pthread.dylib             0x00007ff803e4fae3 thread_start + 15\n"
     ]
    }
   ],
   "source": [
    "b.click()"
   ],
   "metadata": {
    "collapsed": false,
    "ExecuteTime": {
     "end_time": "2024-08-26T16:21:00.665216Z",
     "start_time": "2024-08-26T16:20:59.563899Z"
    }
   }
  },
  {
   "cell_type": "code",
   "execution_count": 14,
   "outputs": [],
   "source": [
    "browser.find_by('yt-button-renderer[@id=\"confirm-button\"]',timeout=5).click()"
   ],
   "metadata": {
    "collapsed": false,
    "ExecuteTime": {
     "end_time": "2024-08-26T16:21:33.094295Z",
     "start_time": "2024-08-26T16:21:30.394741Z"
    }
   }
  },
  {
   "cell_type": "code",
   "execution_count": 18,
   "outputs": [
    {
     "data": {
      "text/plain": "'https://www.youtube.com/'"
     },
     "execution_count": 18,
     "metadata": {},
     "output_type": "execute_result"
    }
   ],
   "source": [
    "browser.current_url"
   ],
   "metadata": {
    "collapsed": false,
    "ExecuteTime": {
     "end_time": "2024-08-26T16:22:41.834247Z",
     "start_time": "2024-08-26T16:22:41.816769Z"
    }
   }
  },
  {
   "cell_type": "code",
   "execution_count": 11,
   "outputs": [
    {
     "ename": "ElementClickInterceptedException",
     "evalue": "Message: element click intercepted: Element <yt-formatted-string respect-lang-dir=\"\" secondary=\"\" class=\"style-scope ytd-account-item-renderer\" dir=\"auto\" style=\"text-align: left;\">...</yt-formatted-string> is not clickable at point (748, 987). Other element would receive the click: <tp-yt-iron-overlay-backdrop opened=\"\" class=\"opened\" style=\"z-index: 2201;\">...</tp-yt-iron-overlay-backdrop>\n  (Session info: chrome=128.0.6613.85)\nStacktrace:\n0   undetected_chromedriver             0x00000001049168b8 undetected_chromedriver + 5179576\n1   undetected_chromedriver             0x000000010490e2ea undetected_chromedriver + 5145322\n2   undetected_chromedriver             0x00000001044852b0 undetected_chromedriver + 389808\n3   undetected_chromedriver             0x00000001044d8096 undetected_chromedriver + 729238\n4   undetected_chromedriver             0x00000001044d5f88 undetected_chromedriver + 720776\n5   undetected_chromedriver             0x00000001044d3a57 undetected_chromedriver + 711255\n6   undetected_chromedriver             0x00000001044d2902 undetected_chromedriver + 706818\n7   undetected_chromedriver             0x00000001044c6496 undetected_chromedriver + 656534\n8   undetected_chromedriver             0x00000001044f37b2 undetected_chromedriver + 841650\n9   undetected_chromedriver             0x00000001044c5e58 undetected_chromedriver + 654936\n10  undetected_chromedriver             0x00000001044f396e undetected_chromedriver + 842094\n11  undetected_chromedriver             0x0000000104510b9b undetected_chromedriver + 961435\n12  undetected_chromedriver             0x00000001044f3553 undetected_chromedriver + 841043\n13  undetected_chromedriver             0x00000001044c47f6 undetected_chromedriver + 649206\n14  undetected_chromedriver             0x00000001044c505e undetected_chromedriver + 651358\n15  undetected_chromedriver             0x00000001048d9b20 undetected_chromedriver + 4930336\n16  undetected_chromedriver             0x00000001048dea36 undetected_chromedriver + 4950582\n17  undetected_chromedriver             0x00000001048df105 undetected_chromedriver + 4952325\n18  undetected_chromedriver             0x00000001048bbee9 undetected_chromedriver + 4808425\n19  undetected_chromedriver             0x00000001048df3f9 undetected_chromedriver + 4953081\n20  undetected_chromedriver             0x00000001048ad844 undetected_chromedriver + 4749380\n21  undetected_chromedriver             0x00000001048fe5c8 undetected_chromedriver + 5080520\n22  undetected_chromedriver             0x00000001048fe787 undetected_chromedriver + 5080967\n23  undetected_chromedriver             0x000000010490dece undetected_chromedriver + 5144270\n24  libsystem_pthread.dylib             0x00007ff803e5418b _pthread_start + 99\n25  libsystem_pthread.dylib             0x00007ff803e4fae3 thread_start + 15\n",
     "output_type": "error",
     "traceback": [
      "\u001B[0;31m---------------------------------------------------------------------------\u001B[0m",
      "\u001B[0;31mElementClickInterceptedException\u001B[0m          Traceback (most recent call last)",
      "Cell \u001B[0;32mIn[11], line 1\u001B[0m\n\u001B[0;32m----> 1\u001B[0m \u001B[43mb\u001B[49m\u001B[38;5;241;43m.\u001B[39;49m\u001B[43mclick\u001B[49m\u001B[43m(\u001B[49m\u001B[43m)\u001B[49m\n",
      "File \u001B[0;32m~/miniforge3/envs/py3/lib/python3.9/site-packages/selenium/webdriver/remote/webelement.py:94\u001B[0m, in \u001B[0;36mWebElement.click\u001B[0;34m(self)\u001B[0m\n\u001B[1;32m     92\u001B[0m \u001B[38;5;28;01mdef\u001B[39;00m \u001B[38;5;21mclick\u001B[39m(\u001B[38;5;28mself\u001B[39m) \u001B[38;5;241m-\u001B[39m\u001B[38;5;241m>\u001B[39m \u001B[38;5;28;01mNone\u001B[39;00m:\n\u001B[1;32m     93\u001B[0m \u001B[38;5;250m    \u001B[39m\u001B[38;5;124;03m\"\"\"Clicks the element.\"\"\"\u001B[39;00m\n\u001B[0;32m---> 94\u001B[0m     \u001B[38;5;28;43mself\u001B[39;49m\u001B[38;5;241;43m.\u001B[39;49m\u001B[43m_execute\u001B[49m\u001B[43m(\u001B[49m\u001B[43mCommand\u001B[49m\u001B[38;5;241;43m.\u001B[39;49m\u001B[43mCLICK_ELEMENT\u001B[49m\u001B[43m)\u001B[49m\n",
      "File \u001B[0;32m~/miniforge3/envs/py3/lib/python3.9/site-packages/selenium/webdriver/remote/webelement.py:395\u001B[0m, in \u001B[0;36mWebElement._execute\u001B[0;34m(self, command, params)\u001B[0m\n\u001B[1;32m    393\u001B[0m     params \u001B[38;5;241m=\u001B[39m {}\n\u001B[1;32m    394\u001B[0m params[\u001B[38;5;124m\"\u001B[39m\u001B[38;5;124mid\u001B[39m\u001B[38;5;124m\"\u001B[39m] \u001B[38;5;241m=\u001B[39m \u001B[38;5;28mself\u001B[39m\u001B[38;5;241m.\u001B[39m_id\n\u001B[0;32m--> 395\u001B[0m \u001B[38;5;28;01mreturn\u001B[39;00m \u001B[38;5;28;43mself\u001B[39;49m\u001B[38;5;241;43m.\u001B[39;49m\u001B[43m_parent\u001B[49m\u001B[38;5;241;43m.\u001B[39;49m\u001B[43mexecute\u001B[49m\u001B[43m(\u001B[49m\u001B[43mcommand\u001B[49m\u001B[43m,\u001B[49m\u001B[43m \u001B[49m\u001B[43mparams\u001B[49m\u001B[43m)\u001B[49m\n",
      "File \u001B[0;32m~/miniforge3/envs/py3/lib/python3.9/site-packages/selenium/webdriver/remote/webdriver.py:345\u001B[0m, in \u001B[0;36mWebDriver.execute\u001B[0;34m(self, driver_command, params)\u001B[0m\n\u001B[1;32m    343\u001B[0m response \u001B[38;5;241m=\u001B[39m \u001B[38;5;28mself\u001B[39m\u001B[38;5;241m.\u001B[39mcommand_executor\u001B[38;5;241m.\u001B[39mexecute(driver_command, params)\n\u001B[1;32m    344\u001B[0m \u001B[38;5;28;01mif\u001B[39;00m response:\n\u001B[0;32m--> 345\u001B[0m     \u001B[38;5;28;43mself\u001B[39;49m\u001B[38;5;241;43m.\u001B[39;49m\u001B[43merror_handler\u001B[49m\u001B[38;5;241;43m.\u001B[39;49m\u001B[43mcheck_response\u001B[49m\u001B[43m(\u001B[49m\u001B[43mresponse\u001B[49m\u001B[43m)\u001B[49m\n\u001B[1;32m    346\u001B[0m     response[\u001B[38;5;124m\"\u001B[39m\u001B[38;5;124mvalue\u001B[39m\u001B[38;5;124m\"\u001B[39m] \u001B[38;5;241m=\u001B[39m \u001B[38;5;28mself\u001B[39m\u001B[38;5;241m.\u001B[39m_unwrap_value(response\u001B[38;5;241m.\u001B[39mget(\u001B[38;5;124m\"\u001B[39m\u001B[38;5;124mvalue\u001B[39m\u001B[38;5;124m\"\u001B[39m, \u001B[38;5;28;01mNone\u001B[39;00m))\n\u001B[1;32m    347\u001B[0m     \u001B[38;5;28;01mreturn\u001B[39;00m response\n",
      "File \u001B[0;32m~/miniforge3/envs/py3/lib/python3.9/site-packages/selenium/webdriver/remote/errorhandler.py:229\u001B[0m, in \u001B[0;36mErrorHandler.check_response\u001B[0;34m(self, response)\u001B[0m\n\u001B[1;32m    227\u001B[0m         alert_text \u001B[38;5;241m=\u001B[39m value[\u001B[38;5;124m\"\u001B[39m\u001B[38;5;124malert\u001B[39m\u001B[38;5;124m\"\u001B[39m]\u001B[38;5;241m.\u001B[39mget(\u001B[38;5;124m\"\u001B[39m\u001B[38;5;124mtext\u001B[39m\u001B[38;5;124m\"\u001B[39m)\n\u001B[1;32m    228\u001B[0m     \u001B[38;5;28;01mraise\u001B[39;00m exception_class(message, screen, stacktrace, alert_text)  \u001B[38;5;66;03m# type: ignore[call-arg]  # mypy is not smart enough here\u001B[39;00m\n\u001B[0;32m--> 229\u001B[0m \u001B[38;5;28;01mraise\u001B[39;00m exception_class(message, screen, stacktrace)\n",
      "\u001B[0;31mElementClickInterceptedException\u001B[0m: Message: element click intercepted: Element <yt-formatted-string respect-lang-dir=\"\" secondary=\"\" class=\"style-scope ytd-account-item-renderer\" dir=\"auto\" style=\"text-align: left;\">...</yt-formatted-string> is not clickable at point (748, 987). Other element would receive the click: <tp-yt-iron-overlay-backdrop opened=\"\" class=\"opened\" style=\"z-index: 2201;\">...</tp-yt-iron-overlay-backdrop>\n  (Session info: chrome=128.0.6613.85)\nStacktrace:\n0   undetected_chromedriver             0x00000001049168b8 undetected_chromedriver + 5179576\n1   undetected_chromedriver             0x000000010490e2ea undetected_chromedriver + 5145322\n2   undetected_chromedriver             0x00000001044852b0 undetected_chromedriver + 389808\n3   undetected_chromedriver             0x00000001044d8096 undetected_chromedriver + 729238\n4   undetected_chromedriver             0x00000001044d5f88 undetected_chromedriver + 720776\n5   undetected_chromedriver             0x00000001044d3a57 undetected_chromedriver + 711255\n6   undetected_chromedriver             0x00000001044d2902 undetected_chromedriver + 706818\n7   undetected_chromedriver             0x00000001044c6496 undetected_chromedriver + 656534\n8   undetected_chromedriver             0x00000001044f37b2 undetected_chromedriver + 841650\n9   undetected_chromedriver             0x00000001044c5e58 undetected_chromedriver + 654936\n10  undetected_chromedriver             0x00000001044f396e undetected_chromedriver + 842094\n11  undetected_chromedriver             0x0000000104510b9b undetected_chromedriver + 961435\n12  undetected_chromedriver             0x00000001044f3553 undetected_chromedriver + 841043\n13  undetected_chromedriver             0x00000001044c47f6 undetected_chromedriver + 649206\n14  undetected_chromedriver             0x00000001044c505e undetected_chromedriver + 651358\n15  undetected_chromedriver             0x00000001048d9b20 undetected_chromedriver + 4930336\n16  undetected_chromedriver             0x00000001048dea36 undetected_chromedriver + 4950582\n17  undetected_chromedriver             0x00000001048df105 undetected_chromedriver + 4952325\n18  undetected_chromedriver             0x00000001048bbee9 undetected_chromedriver + 4808425\n19  undetected_chromedriver             0x00000001048df3f9 undetected_chromedriver + 4953081\n20  undetected_chromedriver             0x00000001048ad844 undetected_chromedriver + 4749380\n21  undetected_chromedriver             0x00000001048fe5c8 undetected_chromedriver + 5080520\n22  undetected_chromedriver             0x00000001048fe787 undetected_chromedriver + 5080967\n23  undetected_chromedriver             0x000000010490dece undetected_chromedriver + 5144270\n24  libsystem_pthread.dylib             0x00007ff803e5418b _pthread_start + 99\n25  libsystem_pthread.dylib             0x00007ff803e4fae3 thread_start + 15\n"
     ]
    }
   ],
   "source": [
    "b.click()"
   ],
   "metadata": {
    "collapsed": false,
    "ExecuteTime": {
     "end_time": "2024-08-26T16:20:49.331534Z",
     "start_time": "2024-08-26T16:20:48.148458Z"
    }
   }
  },
  {
   "cell_type": "code",
   "execution_count": 8,
   "outputs": [
    {
     "data": {
      "text/plain": "{'height': 0, 'width': 1512}"
     },
     "execution_count": 8,
     "metadata": {},
     "output_type": "execute_result"
    }
   ],
   "source": [
    "browser.find_by('ytd-permission-role-bottom-bar-renderer').size"
   ],
   "metadata": {
    "collapsed": false,
    "ExecuteTime": {
     "end_time": "2024-08-26T14:25:11.633506Z",
     "start_time": "2024-08-26T14:25:11.557803Z"
    }
   }
  },
  {
   "cell_type": "code",
   "execution_count": 19,
   "outputs": [
    {
     "data": {
      "text/plain": "'@唯快不破'"
     },
     "execution_count": 19,
     "metadata": {},
     "output_type": "execute_result"
    }
   ],
   "source": [
    "browser.find_by(\"*\",id_=\"avatar-btn\").click()\n",
    "chrome.find_by('yt-formatted-string',id_='channel-handle').text"
   ],
   "metadata": {
    "collapsed": false,
    "ExecuteTime": {
     "end_time": "2024-08-26T16:24:18.318100Z",
     "start_time": "2024-08-26T16:24:17.645263Z"
    }
   }
  },
  {
   "cell_type": "code",
   "execution_count": 3,
   "outputs": [
    {
     "ename": "TypeError",
     "evalue": "object of type 'NoneType' has no len()",
     "output_type": "error",
     "traceback": [
      "\u001B[0;31m---------------------------------------------------------------------------\u001B[0m",
      "\u001B[0;31mTypeError\u001B[0m                                 Traceback (most recent call last)",
      "Cell \u001B[0;32mIn[3], line 4\u001B[0m\n\u001B[1;32m      2\u001B[0m channel_name\u001B[38;5;241m=\u001B[39m\u001B[38;5;124m'\u001B[39m\u001B[38;5;124m@行你上\u001B[39m\u001B[38;5;124m'\u001B[39m\n\u001B[1;32m      3\u001B[0m a\u001B[38;5;241m=\u001B[39mchrome\u001B[38;5;241m.\u001B[39mfind_all_by(\u001B[38;5;124mf\u001B[39m\u001B[38;5;124m\"\u001B[39m\u001B[38;5;124m*[contains(text(), \u001B[39m\u001B[38;5;124m'\u001B[39m\u001B[38;5;132;01m{\u001B[39;00mchannel_name\u001B[38;5;132;01m}\u001B[39;00m\u001B[38;5;124m'\u001B[39m\u001B[38;5;124m)]/../..\u001B[39m\u001B[38;5;124m\"\u001B[39m)\n\u001B[0;32m----> 4\u001B[0m \u001B[38;5;28;01mif\u001B[39;00m \u001B[38;5;28;43mlen\u001B[39;49m\u001B[43m(\u001B[49m\u001B[43ma\u001B[49m\u001B[43m)\u001B[49m\u001B[38;5;241m>\u001B[39m\u001B[38;5;241m0\u001B[39m:\n\u001B[1;32m      5\u001B[0m     a[\u001B[38;5;241m0\u001B[39m]\u001B[38;5;241m.\u001B[39mclick()\n",
      "\u001B[0;31mTypeError\u001B[0m: object of type 'NoneType' has no len()"
     ]
    }
   ],
   "source": [
    "# channel_name='@voyageivi'\n",
    "channel_name='@你行你上'\n",
    "a=chrome.find_all_by(f\"*[contains(text(), '{channel_name}')]/../..\")\n",
    "if len(a)>0:\n",
    "    a[0].click()"
   ],
   "metadata": {
    "collapsed": false,
    "ExecuteTime": {
     "end_time": "2024-08-26T08:59:35.967167Z",
     "start_time": "2024-08-26T08:59:33.213013Z"
    }
   }
  },
  {
   "cell_type": "code",
   "execution_count": 7,
   "outputs": [],
   "source": [
    "channel_name='@vlog7551'\n",
    "a=chrome.find_by(f\"yt-formatted-string[contains(text(), '{channel_name}')]\")"
   ],
   "metadata": {
    "collapsed": false,
    "ExecuteTime": {
     "end_time": "2024-08-22T14:14:49.217155Z",
     "start_time": "2024-08-22T14:14:49.172543Z"
    }
   }
  },
  {
   "cell_type": "code",
   "execution_count": 8,
   "outputs": [],
   "source": [
    "a.click()"
   ],
   "metadata": {
    "collapsed": false,
    "ExecuteTime": {
     "end_time": "2024-08-22T14:14:56.797310Z",
     "start_time": "2024-08-22T14:14:52.676048Z"
    }
   }
  },
  {
   "cell_type": "code",
   "execution_count": 25,
   "outputs": [],
   "source": [
    "from xpath_utils import XPathUtils, XPathCondition, XPathConditionRelation"
   ],
   "metadata": {
    "collapsed": false,
    "ExecuteTime": {
     "end_time": "2024-08-22T10:01:55.532847Z",
     "start_time": "2024-08-22T10:01:55.515676Z"
    }
   }
  },
  {
   "cell_type": "code",
   "execution_count": 28,
   "outputs": [
    {
     "data": {
      "text/plain": "'////div[@contain(text(),\"a\"'"
     },
     "execution_count": 28,
     "metadata": {},
     "output_type": "execute_result"
    }
   ],
   "source": [
    "XPathUtils.generate_xpath('//div[@contain(text(),\"a\"')"
   ],
   "metadata": {
    "collapsed": false,
    "ExecuteTime": {
     "end_time": "2024-08-22T10:02:58.399873Z",
     "start_time": "2024-08-22T10:02:58.389778Z"
    }
   }
  },
  {
   "cell_type": "code",
   "execution_count": 2,
   "outputs": [
    {
     "name": "stdout",
     "output_type": "stream",
     "text": [
      "Switch channel: @voyageivi\n",
      "__dismiss_welcome_popup_2\n",
      "__dismiss_welcome_popup\n",
      "__dismiss_callouts\n",
      "move_to_element: None element passed\n",
      "Youtube - cookies - Upload: uploaded video\n",
      "Youtube - cookies - Sleeping extra 5 seconds\n",
      "__dismiss_welcome_popup_2\n",
      "__dismiss_welcome_popup\n",
      "__dismiss_callouts\n",
      "__dismiss_welcome_popup_2\n",
      "__dismiss_welcome_popup\n",
      "__dismiss_callouts\n",
      "Youtube - cookies - Upload: added title\n",
      "Youtube - cookies - Upload: added description\n",
      "Youtube - cookies - Upload: added thumbnail\n",
      "Youtube - cookies - Upload: clicked more options\n",
      "__dismiss_welcome_popup_2\n",
      "__dismiss_welcome_popup\n",
      "__dismiss_callouts\n",
      "Youtube - cookies - Upload: added tags\n",
      "Youtube - cookies - Upload: did set VIDEO_MADE_FOR_KIDS_NOT_MFK\n",
      "Youtube - cookies - Upload: clicked first next\n",
      "__dismiss_callouts\n",
      "Youtube - cookies - Upload: clicked second next\n",
      "__dismiss_callouts\n",
      "third_next: aria-disabled: false | is_displayed: True | is_enabled: True\n",
      "Youtube - cookies - Upload: Clicking third next\n",
      "Youtube - cookies - Upload: Clicked third next\n",
      "Youtube - cookies - Upload: set to PRIVATE\n",
      "Youtube - cookies - 'NoneType' object has no attribute 'get_attribute'\n",
      "wrapper: passed element is None\n",
      "Youtube - cookies - [Errno 25] Inappropriate ioctl for device\n",
      "wrapper: passed element is None\n",
      "Youtube - cookies - [Errno 25] Inappropriate ioctl for device\n",
      "wrapper: passed element is None\n",
      "Youtube - cookies - [Errno 25] Inappropriate ioctl for device\n",
      "wrapper: passed element is None\n",
      "Youtube - cookies - [Errno 25] Inappropriate ioctl for device\n",
      "wrapper: passed element is None\n",
      "Youtube - cookies - [Errno 25] Inappropriate ioctl for device\n"
     ]
    },
    {
     "ename": "KeyboardInterrupt",
     "evalue": "",
     "output_type": "error",
     "traceback": [
      "\u001B[0;31m---------------------------------------------------------------------------\u001B[0m",
      "\u001B[0;31mKeyboardInterrupt\u001B[0m                         Traceback (most recent call last)",
      "Cell \u001B[0;32mIn[2], line 4\u001B[0m\n\u001B[1;32m      1\u001B[0m \u001B[38;5;28;01mfrom\u001B[39;00m \u001B[38;5;21;01mselenium_youtube\u001B[39;00m \u001B[38;5;28;01mimport\u001B[39;00m Visibility\n\u001B[1;32m      3\u001B[0m mp4_file \u001B[38;5;241m=\u001B[39m \u001B[38;5;124m'\u001B[39m\u001B[38;5;124m/Users/vincent/tmp/bilibili/video/508959410/BV1w4421S7y8/BV1w4421S7y8.mp4\u001B[39m\u001B[38;5;124m'\u001B[39m\n\u001B[0;32m----> 4\u001B[0m upload_result \u001B[38;5;241m=\u001B[39m \u001B[43myoutube\u001B[49m\u001B[38;5;241;43m.\u001B[39;49m\u001B[43mupload\u001B[49m\u001B[43m(\u001B[49m\u001B[43mmp4_file\u001B[49m\u001B[43m,\u001B[49m\n\u001B[1;32m      5\u001B[0m \u001B[43m                               \u001B[49m\u001B[38;5;124;43m'\u001B[39;49m\u001B[38;5;124;43mtitleTest\u001B[39;49m\u001B[38;5;124;43m'\u001B[39;49m\u001B[43m,\u001B[49m\n\u001B[1;32m      6\u001B[0m \u001B[43m                               \u001B[49m\u001B[38;5;124;43m'\u001B[39;49m\u001B[38;5;124;43mdescriptionTest\u001B[39;49m\u001B[38;5;124;43m'\u001B[39;49m\u001B[43m,\u001B[49m\u001B[43m \u001B[49m\u001B[43m[\u001B[49m\u001B[38;5;124;43m'\u001B[39;49m\u001B[38;5;124;43mtag1\u001B[39;49m\u001B[38;5;124;43m'\u001B[39;49m\u001B[43m,\u001B[49m\u001B[43m \u001B[49m\u001B[38;5;124;43m'\u001B[39;49m\u001B[38;5;124;43mtag2\u001B[39;49m\u001B[38;5;124;43m'\u001B[39;49m\u001B[43m]\u001B[49m\u001B[43m,\u001B[49m\n\u001B[1;32m      7\u001B[0m \u001B[43m                               \u001B[49m\u001B[43mextra_sleep_after_upload\u001B[49m\u001B[38;5;241;43m=\u001B[39;49m\u001B[38;5;241;43m5\u001B[39;49m\u001B[43m,\u001B[49m\n\u001B[1;32m      8\u001B[0m \u001B[43m                               \u001B[49m\u001B[43mthumbnail_image_path\u001B[49m\u001B[38;5;241;43m=\u001B[39;49m\u001B[38;5;124;43m'\u001B[39;49m\u001B[38;5;124;43m/Users/vincent/tmp/bilibili/video/508959410/BV1hz421i7DH/pic.jpg\u001B[39;49m\u001B[38;5;124;43m'\u001B[39;49m\u001B[43m,\u001B[49m\n\u001B[1;32m      9\u001B[0m \u001B[43m                               \u001B[49m\u001B[43mvisibility\u001B[49m\u001B[38;5;241;43m=\u001B[39;49m\u001B[43mVisibility\u001B[49m\u001B[38;5;241;43m.\u001B[39;49m\u001B[43mPRIVATE\u001B[49m\u001B[43m,\u001B[49m\n\u001B[1;32m     10\u001B[0m \u001B[43m                               \u001B[49m\u001B[43mchannel_name\u001B[49m\u001B[38;5;241;43m=\u001B[39;49m\u001B[38;5;124;43m'\u001B[39;49m\u001B[38;5;124;43m@voyageivi\u001B[39;49m\u001B[38;5;124;43m'\u001B[39;49m\u001B[43m,\u001B[49m\n\u001B[1;32m     11\u001B[0m \u001B[43m                               \u001B[49m\u001B[43m)\u001B[49m\n",
      "File \u001B[0;32m~/IdeaProjects/selenium_youtube/selenium_youtube/youtube.py:219\u001B[0m, in \u001B[0;36mYoutube.upload\u001B[0;34m(self, video_path, title, description, tags, made_for_kids, visibility, thumbnail_image_path, timeout, extra_sleep_after_upload, extra_sleep_before_publish, channel_name)\u001B[0m\n\u001B[1;32m    217\u001B[0m     \u001B[38;5;28mprint\u001B[39m(\u001B[38;5;124mf\u001B[39m\u001B[38;5;124m'\u001B[39m\u001B[38;5;124mSwitch channel: \u001B[39m\u001B[38;5;132;01m{\u001B[39;00mchannel_name\u001B[38;5;132;01m}\u001B[39;00m\u001B[38;5;124m'\u001B[39m)\n\u001B[1;32m    218\u001B[0m     time\u001B[38;5;241m.\u001B[39msleep(\u001B[38;5;241m1\u001B[39m)\n\u001B[0;32m--> 219\u001B[0m res \u001B[38;5;241m=\u001B[39m \u001B[38;5;28;43mself\u001B[39;49m\u001B[38;5;241;43m.\u001B[39;49m\u001B[43m__upload\u001B[49m\u001B[43m(\u001B[49m\n\u001B[1;32m    220\u001B[0m \u001B[43m    \u001B[49m\u001B[43mvideo_path\u001B[49m\u001B[38;5;241;43m=\u001B[39;49m\u001B[43mvideo_path\u001B[49m\u001B[43m,\u001B[49m\n\u001B[1;32m    221\u001B[0m \u001B[43m    \u001B[49m\u001B[43mtitle\u001B[49m\u001B[38;5;241;43m=\u001B[39;49m\u001B[43mtitle\u001B[49m\u001B[43m,\u001B[49m\n\u001B[1;32m    222\u001B[0m \u001B[43m    \u001B[49m\u001B[43mdescription\u001B[49m\u001B[38;5;241;43m=\u001B[39;49m\u001B[43mdescription\u001B[49m\u001B[43m,\u001B[49m\n\u001B[1;32m    223\u001B[0m \u001B[43m    \u001B[49m\u001B[43mtags\u001B[49m\u001B[38;5;241;43m=\u001B[39;49m\u001B[43mtags\u001B[49m\u001B[43m,\u001B[49m\n\u001B[1;32m    224\u001B[0m \u001B[43m    \u001B[49m\u001B[43mmade_for_kids\u001B[49m\u001B[38;5;241;43m=\u001B[39;49m\u001B[43mmade_for_kids\u001B[49m\u001B[43m,\u001B[49m\n\u001B[1;32m    225\u001B[0m \u001B[43m    \u001B[49m\u001B[43mvisibility\u001B[49m\u001B[38;5;241;43m=\u001B[39;49m\u001B[43mvisibility\u001B[49m\u001B[43m,\u001B[49m\n\u001B[1;32m    226\u001B[0m \u001B[43m    \u001B[49m\u001B[43mthumbnail_image_path\u001B[49m\u001B[38;5;241;43m=\u001B[39;49m\u001B[43mthumbnail_image_path\u001B[49m\u001B[43m,\u001B[49m\n\u001B[1;32m    227\u001B[0m \u001B[43m    \u001B[49m\u001B[43mextra_sleep_after_upload\u001B[49m\u001B[38;5;241;43m=\u001B[39;49m\u001B[43mextra_sleep_after_upload\u001B[49m\u001B[43m,\u001B[49m\n\u001B[1;32m    228\u001B[0m \u001B[43m    \u001B[49m\u001B[43mextra_sleep_before_publish\u001B[49m\u001B[38;5;241;43m=\u001B[39;49m\u001B[43mextra_sleep_before_publish\u001B[49m\u001B[43m,\u001B[49m\n\u001B[1;32m    229\u001B[0m \u001B[43m    \u001B[49m\u001B[43mtimeout\u001B[49m\u001B[38;5;241;43m=\u001B[39;49m\u001B[43mtimeout\u001B[49m\n\u001B[1;32m    230\u001B[0m \u001B[43m\u001B[49m\u001B[43m)\u001B[49m\n\u001B[1;32m    232\u001B[0m \u001B[38;5;28;01mif\u001B[39;00m \u001B[38;5;28misinstance\u001B[39m(res, \u001B[38;5;167;01mException\u001B[39;00m):\n\u001B[1;32m    233\u001B[0m     \u001B[38;5;28mself\u001B[39m\u001B[38;5;241m.\u001B[39mprint(res)\n",
      "File \u001B[0;32m~/miniforge3/envs/py3/lib/python3.9/site-packages/kstopit/kstopit.py:39\u001B[0m, in \u001B[0;36mtimeoutable.<locals>.real_decorator.<locals>.wrapper\u001B[0;34m(*args, **kwargs)\u001B[0m\n\u001B[1;32m     38\u001B[0m \u001B[38;5;28;01mdef\u001B[39;00m \u001B[38;5;21mwrapper\u001B[39m(\u001B[38;5;241m*\u001B[39margs, \u001B[38;5;241m*\u001B[39m\u001B[38;5;241m*\u001B[39mkwargs):\n\u001B[0;32m---> 39\u001B[0m     \u001B[38;5;28;01mreturn\u001B[39;00m \u001B[43m__run_with_timeout\u001B[49m\u001B[43m(\u001B[49m\n\u001B[1;32m     40\u001B[0m \u001B[43m        \u001B[49m\u001B[43mfunction\u001B[49m\u001B[43m,\u001B[49m\n\u001B[1;32m     41\u001B[0m \u001B[43m        \u001B[49m\u001B[43mstopit\u001B[49m\u001B[38;5;241;43m.\u001B[39;49m\u001B[43mSignalTimeout\u001B[49m\u001B[43m \u001B[49m\u001B[38;5;28;43;01mif\u001B[39;49;00m\u001B[43m \u001B[49m\u001B[43mtimeout_type\u001B[49m\u001B[43m \u001B[49m\u001B[38;5;241;43m==\u001B[39;49m\u001B[43m \u001B[49m\u001B[43mTimeoutType\u001B[49m\u001B[38;5;241;43m.\u001B[39;49m\u001B[43mSignal\u001B[49m\u001B[43m \u001B[49m\u001B[38;5;28;43;01melse\u001B[39;49;00m\u001B[43m \u001B[49m\u001B[43mstopit\u001B[49m\u001B[38;5;241;43m.\u001B[39;49m\u001B[43mThreadingTimeout\u001B[49m\u001B[43m,\u001B[49m\n\u001B[1;32m     42\u001B[0m \u001B[43m        \u001B[49m\u001B[43mname\u001B[49m\u001B[43m,\u001B[49m\n\u001B[1;32m     43\u001B[0m \u001B[43m        \u001B[49m\u001B[43mfunction_name\u001B[49m\u001B[43m,\u001B[49m\n\u001B[1;32m     44\u001B[0m \u001B[43m        \u001B[49m\u001B[43mtimeout_param\u001B[49m\u001B[43m,\u001B[49m\n\u001B[1;32m     45\u001B[0m \u001B[43m        \u001B[49m\u001B[38;5;241;43m*\u001B[39;49m\u001B[43margs\u001B[49m\u001B[43m,\u001B[49m\n\u001B[1;32m     46\u001B[0m \u001B[43m        \u001B[49m\u001B[38;5;241;43m*\u001B[39;49m\u001B[38;5;241;43m*\u001B[39;49m\u001B[43mkwargs\u001B[49m\n\u001B[1;32m     47\u001B[0m \u001B[43m    \u001B[49m\u001B[43m)\u001B[49m\n",
      "File \u001B[0;32m~/miniforge3/envs/py3/lib/python3.9/site-packages/kstopit/kstopit.py:137\u001B[0m, in \u001B[0;36m__run_with_timeout\u001B[0;34m(function, timeout_class, name, function_name, timeout_param, *args, **kwargs)\u001B[0m\n\u001B[1;32m    135\u001B[0m \u001B[38;5;28;01mtry\u001B[39;00m:\n\u001B[1;32m    136\u001B[0m     \u001B[38;5;28;01mwith\u001B[39;00m timeout_class(timeout, swallow_exc\u001B[38;5;241m=\u001B[39m\u001B[38;5;28;01mFalse\u001B[39;00m):\n\u001B[0;32m--> 137\u001B[0m         \u001B[38;5;28;01mreturn\u001B[39;00m \u001B[43mfunction\u001B[49m\u001B[43m(\u001B[49m\u001B[38;5;241;43m*\u001B[39;49m\u001B[43margs\u001B[49m\u001B[43m,\u001B[49m\u001B[43m \u001B[49m\u001B[38;5;241;43m*\u001B[39;49m\u001B[38;5;241;43m*\u001B[39;49m\u001B[43mkwargs\u001B[49m\u001B[43m)\u001B[49m\n\u001B[1;32m    138\u001B[0m \u001B[38;5;28;01mexcept\u001B[39;00m stopit\u001B[38;5;241m.\u001B[39mTimeoutException \u001B[38;5;28;01mas\u001B[39;00m e:\n\u001B[1;32m    139\u001B[0m     \u001B[38;5;28;01mreturn\u001B[39;00m stopit\u001B[38;5;241m.\u001B[39mTimeoutException(\n\u001B[1;32m    140\u001B[0m         \u001B[38;5;124m'\u001B[39m\u001B[38;5;132;01m{}\u001B[39;00m\u001B[38;5;124m did exceed maximum timeout value (\u001B[39m\u001B[38;5;132;01m{}\u001B[39;00m\u001B[38;5;124m \u001B[39m\u001B[38;5;132;01m{}\u001B[39;00m\u001B[38;5;124m)\u001B[39m\u001B[38;5;124m'\u001B[39m\u001B[38;5;241m.\u001B[39mformat(\n\u001B[1;32m    141\u001B[0m             \u001B[38;5;124m'\u001B[39m\u001B[38;5;130;01m\\'\u001B[39;00m\u001B[38;5;132;01m{}\u001B[39;00m\u001B[38;5;130;01m\\'\u001B[39;00m\u001B[38;5;124m'\u001B[39m\u001B[38;5;241m.\u001B[39mformat(name) \u001B[38;5;28;01mif\u001B[39;00m name \u001B[38;5;28;01melse\u001B[39;00m \u001B[38;5;124m'\u001B[39m\u001B[38;5;124mFunction \u001B[39m\u001B[38;5;130;01m\\'\u001B[39;00m\u001B[38;5;132;01m{}\u001B[39;00m\u001B[38;5;130;01m\\'\u001B[39;00m\u001B[38;5;124m'\u001B[39m\u001B[38;5;241m.\u001B[39mformat(function_name \u001B[38;5;129;01mor\u001B[39;00m function\u001B[38;5;241m.\u001B[39m\u001B[38;5;18m__name__\u001B[39m),\n\u001B[0;32m   (...)\u001B[0m\n\u001B[1;32m    144\u001B[0m         )\n\u001B[1;32m    145\u001B[0m     )\n",
      "File \u001B[0;32m~/IdeaProjects/selenium_youtube/selenium_youtube/youtube.py:760\u001B[0m, in \u001B[0;36mYoutube.__upload\u001B[0;34m(self, video_path, title, description, tags, made_for_kids, visibility, public_datetime, thumbnail_image_path, extra_sleep_after_upload, extra_sleep_before_publish, extra_sleep_after_publish, timeout)\u001B[0m\n\u001B[1;32m    756\u001B[0m                     \u001B[38;5;28;01mreturn\u001B[39;00m \u001B[38;5;28;01mTrue\u001B[39;00m, video_id\n\u001B[1;32m    758\u001B[0m                 \u001B[38;5;28;01mraise\u001B[39;00m\n\u001B[0;32m--> 760\u001B[0m         \u001B[43mtime\u001B[49m\u001B[38;5;241;43m.\u001B[39;49m\u001B[43msleep\u001B[49m\u001B[43m(\u001B[49m\u001B[38;5;241;43m1\u001B[39;49m\u001B[43m)\u001B[49m\n\u001B[1;32m    761\u001B[0m \u001B[38;5;28;01mexcept\u001B[39;00m \u001B[38;5;167;01mException\u001B[39;00m \u001B[38;5;28;01mas\u001B[39;00m e:\n\u001B[1;32m    762\u001B[0m     \u001B[38;5;28mself\u001B[39m\u001B[38;5;241m.\u001B[39mprint(e)\n",
      "\u001B[0;31mKeyboardInterrupt\u001B[0m: "
     ]
    }
   ],
   "source": [
    "from selenium_youtube import Visibility\n",
    "\n",
    "mp4_file = '/Users/vincent/tmp/bilibili/video/508959410/BV1w4421S7y8/BV1w4421S7y8.mp4'\n",
    "upload_result = youtube.upload(mp4_file,\n",
    "                               'titleTest',\n",
    "                               'descriptionTest', ['tag1', 'tag2'],\n",
    "                               extra_sleep_after_upload=5,\n",
    "                               thumbnail_image_path='/Users/vincent/tmp/bilibili/video/508959410/BV1hz421i7DH/pic.jpg',\n",
    "                               visibility=Visibility.PRIVATE,\n",
    "                               channel_name='@voyageivi',\n",
    "                               )\n"
   ],
   "metadata": {
    "collapsed": false,
    "ExecuteTime": {
     "end_time": "2024-08-22T11:11:39.656958Z",
     "start_time": "2024-08-22T11:10:29.021349Z"
    }
   }
  },
  {
   "cell_type": "code",
   "execution_count": 3,
   "outputs": [
    {
     "data": {
      "text/plain": "True"
     },
     "execution_count": 3,
     "metadata": {},
     "output_type": "execute_result"
    }
   ],
   "source": [
    "chrome.get('https://www.youtube.com/upload')"
   ],
   "metadata": {
    "collapsed": false,
    "ExecuteTime": {
     "end_time": "2024-08-24T08:23:28.975869Z",
     "start_time": "2024-08-24T08:23:27.482347Z"
    }
   }
  },
  {
   "cell_type": "code",
   "execution_count": 10,
   "outputs": [
    {
     "ename": "AttributeError",
     "evalue": "'Youtube' object has no attribute '__dismiss_welcome_popups'",
     "output_type": "error",
     "traceback": [
      "\u001B[0;31m---------------------------------------------------------------------------\u001B[0m",
      "\u001B[0;31mAttributeError\u001B[0m                            Traceback (most recent call last)",
      "Cell \u001B[0;32mIn[10], line 1\u001B[0m\n\u001B[0;32m----> 1\u001B[0m \u001B[43myoutube\u001B[49m\u001B[38;5;241;43m.\u001B[39;49m\u001B[43m__dismiss_welcome_popups\u001B[49m(timeout\u001B[38;5;241m=\u001B[39m\u001B[38;5;241m3\u001B[39m)\n",
      "\u001B[0;31mAttributeError\u001B[0m: 'Youtube' object has no attribute '__dismiss_welcome_popups'"
     ]
    }
   ],
   "source": [
    "youtube.__dismiss_welcome_popups(timeout=3)"
   ],
   "metadata": {
    "collapsed": false,
    "ExecuteTime": {
     "end_time": "2024-08-22T14:20:46.587356Z",
     "start_time": "2024-08-22T14:20:46.339678Z"
    }
   }
  },
  {
   "cell_type": "code",
   "execution_count": 11,
   "outputs": [
    {
     "data": {
      "text/plain": "<selenium_youtube.youtube.Youtube at 0x110a90ac0>"
     },
     "execution_count": 11,
     "metadata": {},
     "output_type": "execute_result"
    }
   ],
   "source": [
    "youtube"
   ],
   "metadata": {
    "collapsed": false,
    "ExecuteTime": {
     "end_time": "2024-08-22T14:20:54.161773Z",
     "start_time": "2024-08-22T14:20:54.136911Z"
    }
   }
  },
  {
   "cell_type": "code",
   "execution_count": 14,
   "outputs": [
    {
     "name": "stdout",
     "output_type": "stream",
     "text": [
      "move_to_element: None element passed\n"
     ]
    }
   ],
   "source": [
    "youtube._input_file('/Users/vincent/tmp/bilibili/video/508959410/BV1w4421S7y8/BV1w4421S7y8.mp4')"
   ],
   "metadata": {
    "collapsed": false,
    "ExecuteTime": {
     "end_time": "2024-08-22T14:23:48.006948Z",
     "start_time": "2024-08-22T14:23:45.282876Z"
    }
   }
  },
  {
   "cell_type": "code",
   "execution_count": 20,
   "outputs": [],
   "source": [
    "\n",
    "\n",
    "kids_section=chrome.find('name','VIDEO_MADE_FOR_KIDS_MFK')\n",
    "browser.find(\"id\", 'radioLabel', kids_section).click()"
   ],
   "metadata": {
    "collapsed": false,
    "ExecuteTime": {
     "end_time": "2024-08-22T14:28:45.660686Z",
     "start_time": "2024-08-22T14:28:45.507169Z"
    }
   }
  },
  {
   "cell_type": "code",
   "execution_count": 23,
   "outputs": [],
   "source": [
    "browser.find_by('ytcp-button', id='next-button').click()"
   ],
   "metadata": {
    "collapsed": false,
    "ExecuteTime": {
     "end_time": "2024-08-22T14:29:20.747206Z",
     "start_time": "2024-08-22T14:29:20.605307Z"
    }
   }
  },
  {
   "cell_type": "code",
   "execution_count": 28,
   "outputs": [],
   "source": [
    "btn_second_container=browser.find(\"id\",\"second-container-expand-button\")\n",
    "btn_second_container.click()"
   ],
   "metadata": {
    "collapsed": false,
    "ExecuteTime": {
     "end_time": "2024-08-22T14:32:22.604855Z",
     "start_time": "2024-08-22T14:32:22.425658Z"
    }
   }
  },
  {
   "cell_type": "code",
   "execution_count": 27,
   "outputs": [
    {
     "data": {
      "text/plain": "<undetected_chromedriver.webelement.WebElement (session=\"f8a7624337ab8059201fdd040bb1d32a\", element=\"f.F9654707872BB305974093F8FE335A72.d.CBB0590FD06D2B428EC17BDA14FD2DC3.e.214\")>"
     },
     "execution_count": 27,
     "metadata": {},
     "output_type": "execute_result"
    }
   ],
   "source": [
    "btn_second_container"
   ],
   "metadata": {
    "collapsed": false,
    "ExecuteTime": {
     "end_time": "2024-08-22T14:32:15.747033Z",
     "start_time": "2024-08-22T14:32:15.733231Z"
    }
   }
  },
  {
   "cell_type": "code",
   "execution_count": 5,
   "outputs": [
    {
     "ename": "AttributeError",
     "evalue": "'NoneType' object has no attribute 'click'",
     "output_type": "error",
     "traceback": [
      "\u001B[0;31m---------------------------------------------------------------------------\u001B[0m",
      "\u001B[0;31mAttributeError\u001B[0m                            Traceback (most recent call last)",
      "Cell \u001B[0;32mIn[5], line 3\u001B[0m\n\u001B[1;32m      1\u001B[0m public_form\u001B[38;5;241m=\u001B[39mbrowser\u001B[38;5;241m.\u001B[39mfind(\u001B[38;5;124m\"\u001B[39m\u001B[38;5;124mid\u001B[39m\u001B[38;5;124m\"\u001B[39m,\u001B[38;5;124m\"\u001B[39m\u001B[38;5;124mpublish-from-private-non-sponsor-selector\u001B[39m\u001B[38;5;124m\"\u001B[39m)\n\u001B[1;32m      2\u001B[0m trigger1\u001B[38;5;241m=\u001B[39mbrowser\u001B[38;5;241m.\u001B[39mfind_by(\u001B[38;5;124m'\u001B[39m\u001B[38;5;124mytcp-dropdown-trigger\u001B[39m\u001B[38;5;124m'\u001B[39m,in_element\u001B[38;5;241m=\u001B[39mpublic_form)\n\u001B[0;32m----> 3\u001B[0m \u001B[43mtrigger1\u001B[49m\u001B[38;5;241;43m.\u001B[39;49m\u001B[43mclick\u001B[49m()\n",
      "\u001B[0;31mAttributeError\u001B[0m: 'NoneType' object has no attribute 'click'"
     ]
    }
   ],
   "source": [
    "public_form=browser.find(\"id\",\"publish-from-private-non-sponsor-selector\")\n",
    "trigger1=browser.find_by('ytcp-dropdown-trigger',in_element=public_form)\n",
    "trigger1.click()"
   ],
   "metadata": {
    "collapsed": false,
    "ExecuteTime": {
     "end_time": "2024-08-24T07:36:44.308085Z",
     "start_time": "2024-08-24T07:36:41.732686Z"
    }
   }
  },
  {
   "cell_type": "code",
   "execution_count": 5,
   "outputs": [
    {
     "ename": "ElementNotInteractableException",
     "evalue": "Message: element not interactable\n  (Session info: chrome=128.0.6613.85)\nStacktrace:\n0   undetected_chromedriver             0x000000010147e2a8 undetected_chromedriver + 5096104\n1   undetected_chromedriver             0x0000000101475ada undetected_chromedriver + 5061338\n2   undetected_chromedriver             0x0000000101000e01 undetected_chromedriver + 388609\n3   undetected_chromedriver             0x000000010104ea85 undetected_chromedriver + 707205\n4   undetected_chromedriver             0x00000001010428c6 undetected_chromedriver + 657606\n5   undetected_chromedriver             0x0000000101071ef2 undetected_chromedriver + 851698\n6   undetected_chromedriver             0x0000000101042288 undetected_chromedriver + 656008\n7   undetected_chromedriver             0x00000001010720ae undetected_chromedriver + 852142\n8   undetected_chromedriver             0x000000010108f250 undetected_chromedriver + 971344\n9   undetected_chromedriver             0x0000000101071c93 undetected_chromedriver + 851091\n10  undetected_chromedriver             0x0000000101040c79 undetected_chromedriver + 650361\n11  undetected_chromedriver             0x000000010104149e undetected_chromedriver + 652446\n12  undetected_chromedriver             0x0000000101441020 undetected_chromedriver + 4845600\n13  undetected_chromedriver             0x0000000101445f38 undetected_chromedriver + 4865848\n14  undetected_chromedriver             0x0000000101446605 undetected_chromedriver + 4867589\n15  undetected_chromedriver             0x0000000101423c59 undetected_chromedriver + 4725849\n16  undetected_chromedriver             0x00000001014468f9 undetected_chromedriver + 4868345\n17  undetected_chromedriver             0x0000000101415b74 undetected_chromedriver + 4668276\n18  undetected_chromedriver             0x0000000101465dd8 undetected_chromedriver + 4996568\n19  undetected_chromedriver             0x0000000101465fd7 undetected_chromedriver + 4997079\n20  undetected_chromedriver             0x00000001014756de undetected_chromedriver + 5060318\n21  libsystem_pthread.dylib             0x00007ff803e5418b _pthread_start + 99\n22  libsystem_pthread.dylib             0x00007ff803e4fae3 thread_start + 15\n",
     "output_type": "error",
     "traceback": [
      "\u001B[0;31m---------------------------------------------------------------------------\u001B[0m",
      "\u001B[0;31mElementNotInteractableException\u001B[0m           Traceback (most recent call last)",
      "Cell \u001B[0;32mIn[5], line 4\u001B[0m\n\u001B[1;32m      1\u001B[0m \u001B[38;5;28;01mfrom\u001B[39;00m \u001B[38;5;21;01mselenium\u001B[39;00m\u001B[38;5;21;01m.\u001B[39;00m\u001B[38;5;21;01mwebdriver\u001B[39;00m\u001B[38;5;21;01m.\u001B[39;00m\u001B[38;5;21;01mcommon\u001B[39;00m\u001B[38;5;21;01m.\u001B[39;00m\u001B[38;5;21;01mby\u001B[39;00m \u001B[38;5;28;01mimport\u001B[39;00m By\n\u001B[1;32m      3\u001B[0m btn_second_container \u001B[38;5;241m=\u001B[39m browser\u001B[38;5;241m.\u001B[39mfind(By\u001B[38;5;241m.\u001B[39mID, \u001B[38;5;124m\"\u001B[39m\u001B[38;5;124msecond-container-expand-button\u001B[39m\u001B[38;5;124m\"\u001B[39m)\n\u001B[0;32m----> 4\u001B[0m \u001B[43mbtn_second_container\u001B[49m\u001B[38;5;241;43m.\u001B[39;49m\u001B[43mclick\u001B[49m\u001B[43m(\u001B[49m\u001B[43m)\u001B[49m\n",
      "File \u001B[0;32m~/miniforge3/envs/py3/lib/python3.9/site-packages/selenium/webdriver/remote/webelement.py:94\u001B[0m, in \u001B[0;36mWebElement.click\u001B[0;34m(self)\u001B[0m\n\u001B[1;32m     92\u001B[0m \u001B[38;5;28;01mdef\u001B[39;00m \u001B[38;5;21mclick\u001B[39m(\u001B[38;5;28mself\u001B[39m) \u001B[38;5;241m-\u001B[39m\u001B[38;5;241m>\u001B[39m \u001B[38;5;28;01mNone\u001B[39;00m:\n\u001B[1;32m     93\u001B[0m \u001B[38;5;250m    \u001B[39m\u001B[38;5;124;03m\"\"\"Clicks the element.\"\"\"\u001B[39;00m\n\u001B[0;32m---> 94\u001B[0m     \u001B[38;5;28;43mself\u001B[39;49m\u001B[38;5;241;43m.\u001B[39;49m\u001B[43m_execute\u001B[49m\u001B[43m(\u001B[49m\u001B[43mCommand\u001B[49m\u001B[38;5;241;43m.\u001B[39;49m\u001B[43mCLICK_ELEMENT\u001B[49m\u001B[43m)\u001B[49m\n",
      "File \u001B[0;32m~/miniforge3/envs/py3/lib/python3.9/site-packages/selenium/webdriver/remote/webelement.py:395\u001B[0m, in \u001B[0;36mWebElement._execute\u001B[0;34m(self, command, params)\u001B[0m\n\u001B[1;32m    393\u001B[0m     params \u001B[38;5;241m=\u001B[39m {}\n\u001B[1;32m    394\u001B[0m params[\u001B[38;5;124m\"\u001B[39m\u001B[38;5;124mid\u001B[39m\u001B[38;5;124m\"\u001B[39m] \u001B[38;5;241m=\u001B[39m \u001B[38;5;28mself\u001B[39m\u001B[38;5;241m.\u001B[39m_id\n\u001B[0;32m--> 395\u001B[0m \u001B[38;5;28;01mreturn\u001B[39;00m \u001B[38;5;28;43mself\u001B[39;49m\u001B[38;5;241;43m.\u001B[39;49m\u001B[43m_parent\u001B[49m\u001B[38;5;241;43m.\u001B[39;49m\u001B[43mexecute\u001B[49m\u001B[43m(\u001B[49m\u001B[43mcommand\u001B[49m\u001B[43m,\u001B[49m\u001B[43m \u001B[49m\u001B[43mparams\u001B[49m\u001B[43m)\u001B[49m\n",
      "File \u001B[0;32m~/miniforge3/envs/py3/lib/python3.9/site-packages/selenium/webdriver/remote/webdriver.py:345\u001B[0m, in \u001B[0;36mWebDriver.execute\u001B[0;34m(self, driver_command, params)\u001B[0m\n\u001B[1;32m    343\u001B[0m response \u001B[38;5;241m=\u001B[39m \u001B[38;5;28mself\u001B[39m\u001B[38;5;241m.\u001B[39mcommand_executor\u001B[38;5;241m.\u001B[39mexecute(driver_command, params)\n\u001B[1;32m    344\u001B[0m \u001B[38;5;28;01mif\u001B[39;00m response:\n\u001B[0;32m--> 345\u001B[0m     \u001B[38;5;28;43mself\u001B[39;49m\u001B[38;5;241;43m.\u001B[39;49m\u001B[43merror_handler\u001B[49m\u001B[38;5;241;43m.\u001B[39;49m\u001B[43mcheck_response\u001B[49m\u001B[43m(\u001B[49m\u001B[43mresponse\u001B[49m\u001B[43m)\u001B[49m\n\u001B[1;32m    346\u001B[0m     response[\u001B[38;5;124m\"\u001B[39m\u001B[38;5;124mvalue\u001B[39m\u001B[38;5;124m\"\u001B[39m] \u001B[38;5;241m=\u001B[39m \u001B[38;5;28mself\u001B[39m\u001B[38;5;241m.\u001B[39m_unwrap_value(response\u001B[38;5;241m.\u001B[39mget(\u001B[38;5;124m\"\u001B[39m\u001B[38;5;124mvalue\u001B[39m\u001B[38;5;124m\"\u001B[39m, \u001B[38;5;28;01mNone\u001B[39;00m))\n\u001B[1;32m    347\u001B[0m     \u001B[38;5;28;01mreturn\u001B[39;00m response\n",
      "File \u001B[0;32m~/miniforge3/envs/py3/lib/python3.9/site-packages/selenium/webdriver/remote/errorhandler.py:229\u001B[0m, in \u001B[0;36mErrorHandler.check_response\u001B[0;34m(self, response)\u001B[0m\n\u001B[1;32m    227\u001B[0m         alert_text \u001B[38;5;241m=\u001B[39m value[\u001B[38;5;124m\"\u001B[39m\u001B[38;5;124malert\u001B[39m\u001B[38;5;124m\"\u001B[39m]\u001B[38;5;241m.\u001B[39mget(\u001B[38;5;124m\"\u001B[39m\u001B[38;5;124mtext\u001B[39m\u001B[38;5;124m\"\u001B[39m)\n\u001B[1;32m    228\u001B[0m     \u001B[38;5;28;01mraise\u001B[39;00m exception_class(message, screen, stacktrace, alert_text)  \u001B[38;5;66;03m# type: ignore[call-arg]  # mypy is not smart enough here\u001B[39;00m\n\u001B[0;32m--> 229\u001B[0m \u001B[38;5;28;01mraise\u001B[39;00m exception_class(message, screen, stacktrace)\n",
      "\u001B[0;31mElementNotInteractableException\u001B[0m: Message: element not interactable\n  (Session info: chrome=128.0.6613.85)\nStacktrace:\n0   undetected_chromedriver             0x000000010147e2a8 undetected_chromedriver + 5096104\n1   undetected_chromedriver             0x0000000101475ada undetected_chromedriver + 5061338\n2   undetected_chromedriver             0x0000000101000e01 undetected_chromedriver + 388609\n3   undetected_chromedriver             0x000000010104ea85 undetected_chromedriver + 707205\n4   undetected_chromedriver             0x00000001010428c6 undetected_chromedriver + 657606\n5   undetected_chromedriver             0x0000000101071ef2 undetected_chromedriver + 851698\n6   undetected_chromedriver             0x0000000101042288 undetected_chromedriver + 656008\n7   undetected_chromedriver             0x00000001010720ae undetected_chromedriver + 852142\n8   undetected_chromedriver             0x000000010108f250 undetected_chromedriver + 971344\n9   undetected_chromedriver             0x0000000101071c93 undetected_chromedriver + 851091\n10  undetected_chromedriver             0x0000000101040c79 undetected_chromedriver + 650361\n11  undetected_chromedriver             0x000000010104149e undetected_chromedriver + 652446\n12  undetected_chromedriver             0x0000000101441020 undetected_chromedriver + 4845600\n13  undetected_chromedriver             0x0000000101445f38 undetected_chromedriver + 4865848\n14  undetected_chromedriver             0x0000000101446605 undetected_chromedriver + 4867589\n15  undetected_chromedriver             0x0000000101423c59 undetected_chromedriver + 4725849\n16  undetected_chromedriver             0x00000001014468f9 undetected_chromedriver + 4868345\n17  undetected_chromedriver             0x0000000101415b74 undetected_chromedriver + 4668276\n18  undetected_chromedriver             0x0000000101465dd8 undetected_chromedriver + 4996568\n19  undetected_chromedriver             0x0000000101465fd7 undetected_chromedriver + 4997079\n20  undetected_chromedriver             0x00000001014756de undetected_chromedriver + 5060318\n21  libsystem_pthread.dylib             0x00007ff803e5418b _pthread_start + 99\n22  libsystem_pthread.dylib             0x00007ff803e4fae3 thread_start + 15\n"
     ]
    }
   ],
   "source": [
    "from selenium.webdriver.common.by import By\n",
    "\n",
    "btn_second_container = browser.find(By.ID, \"second-container-expand-button\")\n",
    "btn_second_container.click()"
   ],
   "metadata": {
    "collapsed": false,
    "ExecuteTime": {
     "end_time": "2024-08-24T08:24:16.960213Z",
     "start_time": "2024-08-24T08:24:16.704738Z"
    }
   }
  },
  {
   "cell_type": "code",
   "execution_count": 9,
   "outputs": [
    {
     "data": {
      "text/plain": "<undetected_chromedriver.webelement.WebElement (session=\"0de0b94cfa7c8a33a5f01e3068b694fd\", element=\"f.30EA9AA24E92F334CFF6FBD426842037.d.6F9BC613E82A1141CB6C2C4859361975.e.89\")>"
     },
     "execution_count": 9,
     "metadata": {},
     "output_type": "execute_result"
    }
   ],
   "source": [],
   "metadata": {
    "collapsed": false,
    "ExecuteTime": {
     "end_time": "2024-08-24T07:41:51.851283Z",
     "start_time": "2024-08-24T07:41:51.834890Z"
    }
   }
  },
  {
   "cell_type": "code",
   "execution_count": 20,
   "outputs": [],
   "source": [
    "\n",
    "date_dlg=browser.find_by('tp-yt-paper-dialog[@id=\"dialog\"]')"
   ],
   "metadata": {
    "collapsed": false,
    "ExecuteTime": {
     "end_time": "2024-08-24T07:44:42.475960Z",
     "start_time": "2024-08-24T07:44:42.449376Z"
    }
   }
  },
  {
   "cell_type": "code",
   "execution_count": 21,
   "outputs": [],
   "source": [
    "browser.find_by('./descendant::input',in_element=date_dlg)\n"
   ],
   "metadata": {
    "collapsed": false,
    "ExecuteTime": {
     "end_time": "2024-08-24T07:44:46.366963Z",
     "start_time": "2024-08-24T07:44:43.745795Z"
    }
   }
  },
  {
   "cell_type": "code",
   "execution_count": 6,
   "outputs": [],
   "source": [
    "\n",
    "date_input=browser.find_by('tp-yt-paper-dialog[@id=\"dialog\"]/descendant::input',timeout=1)\n",
    "\n"
   ],
   "metadata": {
    "collapsed": false,
    "ExecuteTime": {
     "end_time": "2024-08-24T08:24:31.847150Z",
     "start_time": "2024-08-24T08:24:31.830693Z"
    }
   }
  },
  {
   "cell_type": "code",
   "execution_count": 23,
   "outputs": [
    {
     "data": {
      "text/plain": "''"
     },
     "execution_count": 23,
     "metadata": {},
     "output_type": "execute_result"
    }
   ],
   "source": [
    "date_input.text"
   ],
   "metadata": {
    "collapsed": false,
    "ExecuteTime": {
     "end_time": "2024-08-24T07:44:59.583006Z",
     "start_time": "2024-08-24T07:44:59.566334Z"
    }
   }
  },
  {
   "cell_type": "code",
   "execution_count": 11,
   "outputs": [],
   "source": [
    "\n",
    "from selenium.webdriver.remote.webelement import WebElement\n",
    "from selenium.webdriver import Keys\n",
    "from selenium.webdriver.common.action_chains import ActionChains\n",
    "import time\n",
    "from sys import platform\n",
    "\n",
    "def _reset_input_val( element: WebElement, text):\n",
    "    actions = ActionChains(browser.driver) \\\n",
    "        .move_to_element(element) \\\n",
    "        .pause(1) \\\n",
    "        # actions.click(element) \\\n",
    "    actions.key_down(Keys.COMMAND if platform == 'darwin' else Keys.CONTROL) \\\n",
    "        .send_keys('a') \\\n",
    "        .key_up(Keys.COMMAND) \\\n",
    "        .pause(.5) \\\n",
    "        .send_keys(Keys.BACKSPACE) \\\n",
    "        .pause(.5) \\\n",
    "        .send_keys(text) \\\n",
    "        .pause(.1) \\\n",
    "        .send_keys(Keys.ENTER)\n",
    "    actions.perform()\n",
    "\n",
    "\n"
   ],
   "metadata": {
    "collapsed": false,
    "ExecuteTime": {
     "end_time": "2024-08-24T08:25:11.678465Z",
     "start_time": "2024-08-24T08:25:11.657853Z"
    }
   }
  },
  {
   "cell_type": "code",
   "execution_count": 8,
   "outputs": [],
   "source": [
    "_reset_input_val(element=date_input,text=\"2024/09/06\")"
   ],
   "metadata": {
    "collapsed": false,
    "ExecuteTime": {
     "end_time": "2024-08-24T08:24:48.447919Z",
     "start_time": "2024-08-24T08:24:42.590861Z"
    }
   }
  },
  {
   "cell_type": "code",
   "execution_count": 16,
   "outputs": [],
   "source": [
    "time_input=browser.find_by('*[@id=\"labelAndInputContainer\"]/descendant::input',timeout=2)\n",
    "time_input.click()\n",
    "_reset_input_val (time_input,\"07:00\")"
   ],
   "metadata": {
    "collapsed": false,
    "ExecuteTime": {
     "end_time": "2024-08-24T08:28:07.639966Z",
     "start_time": "2024-08-24T08:28:04.441231Z"
    }
   }
  },
  {
   "cell_type": "code",
   "execution_count": 9,
   "outputs": [
    {
     "data": {
      "text/plain": "<undetected_chromedriver.webelement.WebElement (session=\"60072d697cc71750b162ae76ad06aad0\", element=\"f.4E1E2073931C7843B2871C57BAB02F2E.d.6CAF49F6F6DC97804C6A3A0120224D82.e.62\")>"
     },
     "execution_count": 9,
     "metadata": {},
     "output_type": "execute_result"
    }
   ],
   "source": [
    "browser.find_by('*[@id=\"labelAndInputContainer\"]/descendant::input',timeout=1)"
   ],
   "metadata": {
    "collapsed": false,
    "ExecuteTime": {
     "end_time": "2024-08-24T08:24:51.664828Z",
     "start_time": "2024-08-24T08:24:51.631896Z"
    }
   }
  },
  {
   "cell_type": "code",
   "execution_count": 52,
   "outputs": [
    {
     "data": {
      "text/plain": "<undetected_chromedriver.webelement.WebElement (session=\"489930e1110ec56baf2d4263747f7a55\", element=\"f.7E82722406AEA28014D7952008FB0457.d.14F03641352CB354F9F9E69036D89D02.e.81\")>"
     },
     "execution_count": 52,
     "metadata": {},
     "output_type": "execute_result"
    }
   ],
   "source": [],
   "metadata": {
    "collapsed": false,
    "ExecuteTime": {
     "end_time": "2024-08-24T08:17:01.808938Z",
     "start_time": "2024-08-24T08:17:01.780023Z"
    }
   }
  },
  {
   "cell_type": "code",
   "execution_count": null,
   "outputs": [],
   "source": [],
   "metadata": {
    "collapsed": false
   }
  }
 ],
 "metadata": {
  "kernelspec": {
   "display_name": "Python 3",
   "language": "python",
   "name": "python3"
  },
  "language_info": {
   "codemirror_mode": {
    "name": "ipython",
    "version": 2
   },
   "file_extension": ".py",
   "mimetype": "text/x-python",
   "name": "python",
   "nbconvert_exporter": "python",
   "pygments_lexer": "ipython2",
   "version": "2.7.6"
  }
 },
 "nbformat": 4,
 "nbformat_minor": 0
}
